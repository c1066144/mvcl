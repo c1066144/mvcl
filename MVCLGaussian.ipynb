{
  "cells": [
    {
      "cell_type": "markdown",
      "metadata": {
        "id": "GeIPU1e8EWUT"
      },
      "source": [
        "# Imports"
      ]
    },
    {
      "cell_type": "code",
      "execution_count": null,
      "metadata": {
        "id": "0brFmBaN_wKG"
      },
      "outputs": [],
      "source": [
        "import numpy as np\n",
        "import torch\n",
        "import torch.nn as nn\n",
        "import torch.nn.functional as F\n",
        "import matplotlib.pyplot as plt\n",
        "import math\n",
        "import os\n",
        "from tqdm import tqdm\n",
        "from copy import deepcopy\n",
        "import random\n",
        "device = torch.device(\"cuda\" if torch.cuda.is_available() else \"cpu\")"
      ]
    },
    {
      "cell_type": "code",
      "execution_count": null,
      "metadata": {
        "colab": {
          "base_uri": "https://localhost:8080/"
        },
        "id": "WMGB55spwYzo",
        "outputId": "8d43f441-9d09-42fd-c5d5-40e7c2be8c8b"
      },
      "outputs": [
        {
          "name": "stdout",
          "output_type": "stream",
          "text": [
            "Mounted at /content/drive\n"
          ]
        }
      ],
      "source": [
        "from google.colab import drive\n",
        "drive.mount('/content/drive')"
      ]
    },
    {
      "cell_type": "markdown",
      "metadata": {
        "id": "acZHDezSETRK"
      },
      "source": [
        "# Model"
      ]
    },
    {
      "cell_type": "code",
      "execution_count": null,
      "metadata": {
        "id": "TyeHT5f9_yH0"
      },
      "outputs": [],
      "source": [
        "def coreset(x_coresets, y_coresets, x_train, y_train, size, mode='random'):\n",
        "  if mode == 'centre':\n",
        "    indices = [0]\n",
        "    current = 0\n",
        "    dists = np.full(len(x_train), np.inf)\n",
        "    for i in range(1, size):\n",
        "      dists = np.minimum([np.linalg.norm(x_train[j] - x_train[current]) for j in range(len(x_train))], dists)\n",
        "      current = np.argmax(dists)\n",
        "      indices.append(current)\n",
        "  else:\n",
        "    indices = np.random.choice(len(x_train), size=size, replace=False)\n",
        "  x_coresets.append(x_train[indices])\n",
        "  y_coresets.append(y_train[indices])\n",
        "  x_train = np.delete(x_train, indices, axis = 0)\n",
        "  y_train = np.delete(y_train, indices, axis = 0)\n",
        "  return x_coresets, y_coresets, x_train, y_train"
      ]
    },
    {
      "cell_type": "code",
      "execution_count": null,
      "metadata": {
        "id": "SeEhiz2MmrDm"
      },
      "outputs": [],
      "source": [
        "class MFVI(nn.Module):\n",
        "  def __init__(self, input_dim, layers, heads, output_dim, head, prior = None):\n",
        "    super(MFVI, self).__init__()\n",
        "    self.input_dim = input_dim\n",
        "    self.layers = layers\n",
        "    self.heads = heads\n",
        "    self.output_dims = []\n",
        "\n",
        "    self.prior = None\n",
        "    self.prior_head = None\n",
        "    self.posterior = None\n",
        "    self.posterior_head = None\n",
        "    self._init_weights(prior, head, output_dim)\n",
        "\n",
        "  def forward(self, x, head):\n",
        "    sampled_layers = []\n",
        "    (w_means, w_logvars, b_means, b_logvars) = self.posterior\n",
        "    for i in range(len(w_means)):\n",
        "      w_epsilon = torch.randn_like(w_means[i])\n",
        "      b_epsilon = torch.randn_like(b_means[i])\n",
        "      sampled_layers.append((w_means[i] + w_epsilon * torch.exp(0.5*w_logvars[i]), b_means[i] + b_epsilon * torch.exp(0.5*b_logvars[i])))\n",
        "    (w_means, w_logvars, b_means, b_logvars) = self.posterior_head\n",
        "    i = 0\n",
        "    while i < len(w_means[head])-1:\n",
        "      w_epsilon = torch.randn_like(w_means[head][i])\n",
        "      b_epsilon = torch.randn_like(b_means[head][i])\n",
        "      sampled_layers.append((w_means[head][i] + w_epsilon * torch.exp(0.5*w_logvars[head][i]), b_means[head][i] + b_epsilon * torch.exp(0.5*b_logvars[head][i])))\n",
        "      i += 1\n",
        "    for layer in sampled_layers:\n",
        "      x = torch.relu(x @ layer[0] + layer[1])\n",
        "    w_epsilon = torch.randn_like(w_means[head][i])\n",
        "    b_epsilon = torch.randn_like(b_means[head][i])\n",
        "    x = x @ (w_means[head][i] + w_epsilon * torch.exp(0.5*w_logvars[head][i])) + (b_means[head][i] + b_epsilon * torch.exp(0.5*b_logvars[head][i]))\n",
        "    return x\n",
        "\n",
        "  def predict(self, x, head, num_samples = 100):\n",
        "    outputs = torch.empty(num_samples, len(x), self.output_dims[head])\n",
        "    for i in range(num_samples):\n",
        "      outputs[i] = nn.Softmax(dim = 1)(self.forward(x, head))\n",
        "    outputs = outputs.mean(dim = 0)\n",
        "    return outputs\n",
        "\n",
        "  def mle_loss(self, x, y, head):\n",
        "    for i in range(len(self.posterior[0])):\n",
        "      x = torch.relu(x @ self.posterior[0][i] + self.posterior[2][i])\n",
        "    i = 0\n",
        "    while i < len(self.posterior_head[0][head])-1:\n",
        "      x = torch.relu(x @ self.posterior_head[0][head][i] + self.posterior_head[2][head][i])\n",
        "      i += 1\n",
        "    x = x @ self.posterior_head[0][head][i] + self.posterior_head[2][head][i]\n",
        "    return nn.CrossEntropyLoss()(x, y)\n",
        "\n",
        "  def kl_loss(self, x, y, head, size = 60000, samples = 10):\n",
        "    kl = self.kl(head) / size\n",
        "    log_likelihood = self.log_likelihood(x, y, head, samples)\n",
        "    #print(kl, log_likelihood)\n",
        "    return kl - log_likelihood\n",
        "\n",
        "  def kl(self, head):\n",
        "    prior_means = torch.cat([torch.flatten(x).to(device) for x in self.prior[0] + self.prior[2] + [elem for sublist in self.prior_head[0] for elem in sublist] + [elem for sublist in self.prior_head[2] for elem in sublist]])\n",
        "    prior_logvars = torch.cat([torch.flatten(x).to(device) for x in self.prior[1] + self.prior[3] + [elem for sublist in self.prior_head[1] for elem in sublist] + [elem for sublist in self.prior_head[3] for elem in sublist]])\n",
        "    prior_vars = torch.exp(prior_logvars)\n",
        "    posterior_means = torch.cat([torch.flatten(x).to(device) for x in self.posterior[0] + self.posterior[2] + [elem for sublist in self.posterior_head[0] for elem in sublist] + [elem for sublist in self.posterior_head[2] for elem in sublist]])\n",
        "    posterior_logvars = torch.cat([torch.flatten(x).to(device) for x in self.posterior[1] + self.posterior[3] + [elem for sublist in self.posterior_head[1] for elem in sublist] + [elem for sublist in self.posterior_head[3] for elem in sublist]])\n",
        "    posterior_vars = torch.exp(posterior_logvars)\n",
        "    kl_normal = prior_logvars - posterior_logvars + (posterior_vars + torch.pow(posterior_means - prior_means, 2)) / (prior_vars + 1e-8) - 1\n",
        "    return torch.sum(kl_normal) * 0.5\n",
        "\n",
        "  def log_likelihood(self, x, y, head, samples):\n",
        "    outputs = []\n",
        "    for i in range(samples):\n",
        "      outputs.append(self.forward(x, head))\n",
        "    outputs = torch.cat(outputs)\n",
        "    return - nn.CrossEntropyLoss()(outputs, y.repeat(samples).view(-1))\n",
        "\n",
        "  def _init_weights(self, prior, head, output_dim):\n",
        "    parameter_mean = lambda x: nn.Parameter(torch.randn_like(x, requires_grad=True)*0.1)\n",
        "    parameter_var = lambda x: nn.Parameter(torch.ones_like(x, requires_grad=True)*-6*math.log(10))\n",
        "\n",
        "    if prior is not None:\n",
        "      self.output_dims = [x[-1].shape[0] for x in prior[1][2]]\n",
        "      self.prior = deepcopy(prior[0])\n",
        "      self.prior_head = deepcopy(prior[1])\n",
        "      self.posterior = deepcopy(prior[0])\n",
        "      self.posterior_head = deepcopy(prior[1])\n",
        "\n",
        "      if head == len(self.output_dims):\n",
        "        self.output_dims.append(output_dim)\n",
        "        head_params = [self.layers[-1]] + self.heads + [output_dim]\n",
        "\n",
        "        head_w_means = [torch.zeros(head_params[i], head_params[i+1]) for i in range(len(head_params)-1)]\n",
        "        head_w_logvars = [torch.zeros_like(head_w) for head_w in head_w_means]\n",
        "        head_b_means = [torch.zeros(head_params[i]) for i in range(1, len(head_params))]\n",
        "        head_b_logvars = [torch.zeros_like(head_b) for head_b in head_b_means]\n",
        "        self.prior_head[0].append(head_w_means)\n",
        "        self.prior_head[1].append(head_w_logvars)\n",
        "        self.prior_head[2].append(head_b_means)\n",
        "        self.prior_head[3].append(head_b_logvars)\n",
        "\n",
        "        head_w_means = [parameter_mean(head_w) for head_w in head_w_means]\n",
        "        head_w_logvars = [parameter_var(head_w) for head_w in head_w_logvars]\n",
        "        head_b_means = [parameter_mean(head_b) for head_b in head_b_means]\n",
        "        head_b_logvars = [parameter_var(head_b) for head_b in head_b_logvars]\n",
        "        self.posterior_head[0].append(head_w_means)\n",
        "        self.posterior_head[1].append(head_w_logvars)\n",
        "        self.posterior_head[2].append(head_b_means)\n",
        "        self.posterior_head[3].append(head_b_logvars)\n",
        "\n",
        "      elif head < 0 or head > len(self.prior_head[0]) + 1:\n",
        "        raise Exception('Invalid head')\n",
        "\n",
        "    else:\n",
        "      self.output_dims.append(output_dim)\n",
        "      w_means = [torch.zeros(self.input_dim, self.layers[0])] + [torch.zeros(self.layers[i], self.layers[i+1]) for i in range(len(self.layers)-1)]\n",
        "      w_logvars = [torch.zeros_like(w) for w in w_means]\n",
        "      b_means = [torch.zeros(self.layers[i]) for i in range(len(self.layers))]\n",
        "      b_logvars = [torch.zeros_like(b) for b in b_means]\n",
        "      self.prior = (w_means, w_logvars, b_means, b_logvars)\n",
        "\n",
        "      head_params = [self.layers[-1]] + self.heads + [output_dim]\n",
        "      head_w_means = [[torch.zeros(head_params[i], head_params[i+1]) for i in range(len(head_params)-1)]]\n",
        "      head_w_logvars = [[torch.zeros_like(head_w) for head_w in head] for head in head_w_means]\n",
        "      head_b_means = [[torch.zeros(head_params[i]) for i in range(1, len(head_params))]]\n",
        "      head_b_logvars = [[torch.zeros_like(head_b) for head_b in head] for head in head_b_means]\n",
        "      self.prior_head = (head_w_means, head_w_logvars, head_b_means, head_b_logvars)\n",
        "\n",
        "      w_means = [parameter_mean(w) for w in self.prior[0]]\n",
        "      w_logvars = [parameter_var(w) for w in self.prior[1]]\n",
        "      b_means = [parameter_mean(b) for b in self.prior[2]]\n",
        "      b_logvars = [parameter_var(b) for b in self.prior[3]]\n",
        "      self.posterior = (w_means, w_logvars, b_means, b_logvars)\n",
        "\n",
        "      head_w_means = [[parameter_mean(head_w) for head_w in head] for head in self.prior_head[0]]\n",
        "      head_w_logvars = [[parameter_var(head_w) for head_w in head] for head in self.prior_head[1]]\n",
        "      head_b_means = [[parameter_mean(head_b) for head_b in head] for head in self.prior_head[2]]\n",
        "      head_b_logvars = [[parameter_var(head_b) for head_b in head] for head in self.prior_head[3]]\n",
        "      self.posterior_head = (head_w_means, head_w_logvars, head_b_means, head_b_logvars)\n",
        "\n",
        "    for i in range(len(self.prior[0])):\n",
        "      self.register_buffer(f'w_means_{i}', self.prior[0][i])\n",
        "      self.register_buffer(f'w_logvars_{i}', self.prior[1][i])\n",
        "      self.register_buffer(f'b_means_{i}', self.prior[2][i])\n",
        "      self.register_buffer(f'b_logvars_{i}', self.prior[3][i])\n",
        "\n",
        "    for i in range(len(self.prior_head[0])):\n",
        "      for j in range(len(self.prior_head[0][i])):\n",
        "        self.register_buffer(f'head_w_means_{i}_{j}', self.prior_head[0][i][j])\n",
        "        self.register_buffer(f'head_w_logvars_{i}_{j}', self.prior_head[1][i][j])\n",
        "        self.register_buffer(f'head_b_means_{i}_{j}', self.prior_head[2][i][j])\n",
        "        self.register_buffer(f'head_b_logvars_{i}_{j}', self.prior_head[3][i][j])\n",
        "\n",
        "    for i in range(len(self.posterior[0])):\n",
        "      self.register_parameter(f'post_w_means_{i}', self.posterior[0][i])\n",
        "      self.register_parameter(f'post_w_logvars_{i}', self.posterior[1][i])\n",
        "      self.register_parameter(f'post_b_means_{i}', self.posterior[2][i])\n",
        "      self.register_parameter(f'post_b_logvars_{i}', self.posterior[3][i])\n",
        "\n",
        "    for i in range(len(self.posterior_head[0])):\n",
        "      for j in range(len(self.posterior_head[0][i])):\n",
        "        self.register_parameter(f'post_head_w_means_{i}_{j}', self.posterior_head[0][i][j])\n",
        "        self.register_parameter(f'post_head_w_logvars_{i}_{j}', self.posterior_head[1][i][j])\n",
        "        self.register_parameter(f'post_head_b_means_{i}_{j}', self.posterior_head[2][i][j])\n",
        "        self.register_parameter(f'post_head_b_logvars_{i}_{j}', self.posterior_head[3][i][j])"
      ]
    },
    {
      "cell_type": "markdown",
      "metadata": {
        "id": "V2xRRcrqyYF9"
      },
      "source": [
        "# Train and test"
      ]
    },
    {
      "cell_type": "code",
      "execution_count": null,
      "metadata": {
        "id": "HmU8eOn4s-VY"
      },
      "outputs": [],
      "source": [
        "from torch.utils.data import Dataset, DataLoader\n",
        "class numpy_dataset(Dataset):  # Inherit from Dataset class\n",
        "    def __init__(self, data, target):\n",
        "        ## Add code here\n",
        "        self.data = torch.from_numpy(data)\n",
        "        self.target = torch.from_numpy(target)\n",
        "\n",
        "    def __getitem__(self, index):\n",
        "        x = self.data[index]\n",
        "        y = self.target[index]\n",
        "        return x, y\n",
        "\n",
        "    def __len__(self):\n",
        "        return len(self.data)"
      ]
    },
    {
      "cell_type": "code",
      "execution_count": null,
      "metadata": {
        "id": "D-J9s3pbFV_T"
      },
      "outputs": [],
      "source": [
        "def train_model(model, x_train, y_train, loss_fn, head, lr=1e-3, epochs=100, batch_size=256):\n",
        "    model.train()\n",
        "    optimizer = torch.optim.Adam(model.parameters(), lr=lr)\n",
        "    train_dataset = numpy_dataset(x_train, y_train)\n",
        "    train_loader = DataLoader(train_dataset, batch_size=batch_size, shuffle = True)\n",
        "    progress = tqdm(range(epochs), 'Epochs: ')\n",
        "    for epoch in progress:\n",
        "        correct = 0\n",
        "        total = 0\n",
        "        for batch_idx, (x_data, y_data) in enumerate(train_loader):\n",
        "          x_data, y_data = x_data.to(device), y_data.to(device)\n",
        "          optimizer.zero_grad()\n",
        "          loss = loss_fn(x_data, y_data, head)\n",
        "          loss.backward()\n",
        "          optimizer.step()\n",
        "\n",
        "          y_pred = model(x_data, head)\n",
        "          _, predicted = torch.max(y_pred.data, 1)\n",
        "          total += y_data.size(0)\n",
        "          correct += (predicted == y_data).sum().item()\n",
        "\n",
        "        progress.set_postfix_str(f'Loss: {loss.item():.4f}, Acc: {correct/total:.4f}')\n",
        "    return model"
      ]
    },
    {
      "cell_type": "code",
      "execution_count": null,
      "metadata": {
        "id": "LQcISP7hsQLR"
      },
      "outputs": [],
      "source": [
        "def coreset_train_model(model, x_coresets, y_coresets, loss_fn, single_head, lr=1e-3, epochs=100, batch_size=256):\n",
        "    if len(x_coresets) == 0:\n",
        "      return model\n",
        "    model.train()\n",
        "    optimizer = torch.optim.Adam(model.parameters(), lr=lr)\n",
        "    train_datasets = [numpy_dataset(x_coresets[i], y_coresets[i]) for i in range(len(x_coresets))]\n",
        "    train_loaders = [DataLoader(train_dataset, batch_size=batch_size, shuffle = True) for train_dataset in train_datasets]\n",
        "    tasks = [i for i in range(len(x_coresets))]\n",
        "    progress = tqdm(range(epochs), 'Epochs: ')\n",
        "    for epoch in progress:\n",
        "        random.shuffle(tasks)\n",
        "        correct = 0\n",
        "        total = 0\n",
        "        for task in tasks:\n",
        "          train_loader = train_loaders[task]\n",
        "          head = 0 if single_head else task\n",
        "          for batch_idx, (x_data, y_data) in enumerate(train_loader):\n",
        "            x_data, y_data = x_data.to(device), y_data.to(device)\n",
        "            optimizer.zero_grad()\n",
        "            loss = loss_fn(x_data, y_data, head, len(x_coresets[task]))\n",
        "            loss.backward()\n",
        "            optimizer.step()\n",
        "\n",
        "            y_pred = model(x_data, head)\n",
        "            _, predicted = torch.max(y_pred.data, 1)\n",
        "            total += y_data.size(0)\n",
        "            correct += (predicted == y_data).sum().item()\n",
        "\n",
        "        progress.set_postfix_str(f'Loss: {loss.item():.4f}, Acc: {correct/total:.4f}')\n",
        "    return model"
      ]
    },
    {
      "cell_type": "code",
      "execution_count": null,
      "metadata": {
        "id": "CNVa72fKe3rj"
      },
      "outputs": [],
      "source": [
        "def test_model(model, test_data, head, x_core, y_core, l = \"cat\"):\n",
        "  model.eval()\n",
        "  correct = 0\n",
        "  total = 0\n",
        "  test = numpy_dataset(test_data[0], test_data[1])\n",
        "  test_loader = DataLoader(test, batch_size=len(test_data[0]))\n",
        "  with torch.no_grad():\n",
        "    for batch_idx, (x_data, y_data) in enumerate(test_loader):\n",
        "      x_data, y_data = x_data.to(device), y_data.to(device)\n",
        "      y_pred = model.predict(x_data, head).to(device)\n",
        "      _, predicted = torch.max(y_pred.data, 1)\n",
        "      if l == \"cat\":\n",
        "        loss = torch.sqrt(nn.MSELoss()(y_pred, F.one_hot(y_data)))\n",
        "        correct += (predicted == y_data).sum().item()\n",
        "      else:\n",
        "        loss = torch.sqrt(nn.MSELoss()(y_pred, y_data))\n",
        "        correct += (predicted == y_data).sum().item()\n",
        "      total += y_data.size(0)\n",
        "\n",
        "  return correct, total, loss.item()"
      ]
    },
    {
      "cell_type": "markdown",
      "metadata": {
        "id": "ZPe7hml986Q-"
      },
      "source": [
        "# VCL"
      ]
    },
    {
      "cell_type": "code",
      "execution_count": null,
      "metadata": {
        "id": "xie9odJdBXLz"
      },
      "outputs": [],
      "source": [
        "def vcl(layers, heads, epochs, data, mode, size, batch_size, single_head):\n",
        "  in_dim, out_dim = data.get_dims()\n",
        "  x_coresets = []\n",
        "  y_coresets = []\n",
        "  accuracy = []\n",
        "  test_sets = []\n",
        "  model = MFVI(in_dim, layers, heads, out_dim, 0).to(device)\n",
        "  for i in range(data.max_iter):\n",
        "    print(f'Task {i + 1}')\n",
        "    x_train, y_train, x_test, y_test = data.next_task()\n",
        "    test_sets.append([x_test, y_test])\n",
        "\n",
        "    head = 0 if single_head else i\n",
        "    if i == 0:\n",
        "      model = train_model(model, x_train, y_train, model.mle_loss, head, epochs=epochs, batch_size=batch_size)\n",
        "    if size > 0:\n",
        "      x_coresets, y_coresets, x_train, y_train = coreset(x_coresets, y_coresets, x_train, y_train, size, mode=mode)\n",
        "    if i != 0:\n",
        "      model = MFVI(in_dim, layers, heads, out_dim, head, (model.posterior, model.posterior_head)).to(device)\n",
        "    model = train_model(model, x_train, y_train, lambda x, y, z: model.kl_loss(x, y, z, len(x_train)), head, epochs=epochs, batch_size=batch_size)\n",
        "\n",
        "    pred_model = MFVI(in_dim, layers, heads, out_dim, head, (model.posterior, model.posterior_head)).to(device)\n",
        "    pred_model = coreset_train_model(pred_model, x_coresets, y_coresets, pred_model.kl_loss, single_head, epochs=epochs, batch_size=batch_size)\n",
        "\n",
        "    acc_iter = {}\n",
        "    all = (0,0)\n",
        "    losses = 0\n",
        "    for j, test in enumerate(test_sets):\n",
        "      h = 0 if single_head else j\n",
        "      correct, total, loss = test_model(pred_model, test, h, x_coresets, y_coresets)\n",
        "      acc_iter[j] = [correct/total, loss]\n",
        "      all = (all[0]+correct, all[1]+total)\n",
        "      losses += loss*total\n",
        "      print(f'Loss = {loss}, Accuracy: {correct/total}', end='\\n' if j == len(test_sets)-1 else ', ')\n",
        "    acc_iter['all'] = [all[0]/all[1], losses/all[1]]\n",
        "    print(f'Loss = {losses/all[1]}, Accuracy: {all[0]/all[1]}')\n",
        "    accuracy.append(acc_iter)\n",
        "  return accuracy"
      ]
    },
    {
      "cell_type": "markdown",
      "metadata": {
        "id": "VQpRgnEmya4j"
      },
      "source": [
        "# Generators"
      ]
    },
    {
      "cell_type": "code",
      "execution_count": null,
      "metadata": {
        "id": "cKSDa7G_KI_o"
      },
      "outputs": [],
      "source": [
        "from copy import deepcopy\n",
        "from torchvision.datasets import MNIST\n",
        "import torchvision.transforms as T"
      ]
    },
    {
      "cell_type": "code",
      "execution_count": null,
      "metadata": {
        "id": "eL-c_8hFKDsm"
      },
      "outputs": [],
      "source": [
        "class PermutedMnistGenerator():\n",
        "    def __init__(self, max_iter=10):\n",
        "        mnist_trainset = MNIST(root='./data', train=True, download=True)\n",
        "        mnist_testset = MNIST(root='./data', train=False, download=True)\n",
        "        self.X_train = mnist_trainset.data.numpy().astype(np.float32).reshape(-1, 28*28)/255\n",
        "        self.Y_train = mnist_trainset.targets.numpy()\n",
        "        self.X_test = mnist_testset.data.numpy().astype(np.float32).reshape(-1, 28*28)/255\n",
        "        self.Y_test = mnist_testset.targets.numpy()\n",
        "        self.max_iter = max_iter\n",
        "        self.cur_iter = 0\n",
        "\n",
        "    def get_dims(self):\n",
        "        # Get data input and output dimensions\n",
        "        return 28*28, 10\n",
        "\n",
        "    def next_task(self):\n",
        "        if self.cur_iter >= self.max_iter:\n",
        "            raise Exception('Number of tasks exceeded!')\n",
        "        else:\n",
        "            permutation = torch.randperm(784)\n",
        "            # Retrieve train data\n",
        "            next_x_train = deepcopy(self.X_train)\n",
        "            next_x_train = next_x_train[:,permutation]\n",
        "            next_y_train = deepcopy(self.Y_train)\n",
        "\n",
        "            # Retrieve test data\n",
        "            next_x_test = deepcopy(self.X_test)\n",
        "            next_x_test = next_x_test[:,permutation]\n",
        "            next_y_test = deepcopy(self.Y_test)\n",
        "\n",
        "            self.cur_iter += 1\n",
        "\n",
        "            return next_x_train, next_y_train, next_x_test, next_y_test"
      ]
    },
    {
      "cell_type": "code",
      "execution_count": null,
      "metadata": {
        "id": "74lsA6KFK--e"
      },
      "outputs": [],
      "source": [
        "class SplitMnistGenerator():\n",
        "    def __init__(self, max_iter=5):\n",
        "        mnist_trainset = MNIST(root='./data', train=True, download=True)\n",
        "        mnist_testset = MNIST(root='./data', train=False, download=True)\n",
        "        trainsets = [[] for i in range(10)]\n",
        "        for i in range(len(mnist_trainset.targets)):\n",
        "          trainsets[mnist_trainset.targets[i]].append(i)\n",
        "        testsets = [[] for i in range(10)]\n",
        "        for i in range(len(mnist_testset.targets)):\n",
        "          testsets[mnist_testset.targets[i]].append(i)\n",
        "\n",
        "        self.X_train = mnist_trainset.data.numpy().astype(np.float32).reshape(-1, 28*28)/255\n",
        "        self.Y_train = mnist_trainset.targets.numpy() % 2\n",
        "        self.X_test = mnist_testset.data.numpy().astype(np.float32).reshape(-1, 28*28)/255\n",
        "        self.Y_test = mnist_testset.targets.numpy() % 2\n",
        "        self.X_trains = [self.X_train[trainsets[i]] for i in range(10)]\n",
        "        self.Y_trains = [self.Y_train[trainsets[i]] for i in range(10)]\n",
        "        self.X_tests = [self.X_test[testsets[i]] for i in range(10)]\n",
        "        self.Y_tests = [self.Y_test[testsets[i]] for i in range(10)]\n",
        "        self.max_iter = max_iter\n",
        "        self.cur_iter = 0\n",
        "\n",
        "    def get_dims(self):\n",
        "        # Get data input and output dimensions\n",
        "        return 28*28, 2\n",
        "\n",
        "    def next_task(self):\n",
        "        if self.cur_iter >= self.max_iter:\n",
        "            raise Exception('Number of tasks exceeded!')\n",
        "        else:\n",
        "          next_x_train = np.concat(self.X_trains[self.cur_iter*2:self.cur_iter*2+2])\n",
        "          next_y_train = np.concat(self.Y_trains[self.cur_iter*2:self.cur_iter*2+2])\n",
        "          next_x_test = np.concat(self.X_tests[self.cur_iter*2:self.cur_iter*2+2])\n",
        "          next_y_test = np.concat(self.Y_tests[self.cur_iter*2:self.cur_iter*2+2])\n",
        "\n",
        "          self.cur_iter += 1\n",
        "          return next_x_train, next_y_train, next_x_test, next_y_test\n",
        "\n"
      ]
    },
    {
      "cell_type": "code",
      "execution_count": null,
      "metadata": {
        "id": "LjXz97LnoHB0"
      },
      "outputs": [],
      "source": [
        "class SplitNotMnistGenerator():\n",
        "    def __init__(self, max_iter=5):\n",
        "        path = \"/content/drive/MyDrive/notMNIST/train\"\n",
        "        dirs = os.listdir( path )\n",
        "        dirs.sort()\n",
        "\n",
        "        self.X_trains = [0 for _ in range(10)]\n",
        "        self.Y_trains = [0 for _ in range(10)]\n",
        "        self.X_tests =  [0 for _ in range(10)]\n",
        "        self.Y_tests =  [0 for _ in range(10)]\n",
        "\n",
        "        for i in range(len(dirs)):\n",
        "          x = np.load(path+\"/\"+dirs[i]).astype(np.float32).reshape(-1, 28*28)/255\n",
        "          y = np.full(x.shape[0], i // 5)\n",
        "          self.X_trains[i] = np.array(x)\n",
        "          self.Y_trains[i] = np.array(y)\n",
        "\n",
        "        path = \"/content/drive/MyDrive/notMNIST/test\"\n",
        "        dirs = os.listdir( path )\n",
        "        dirs.sort()\n",
        "\n",
        "        for i in range(len(dirs)):\n",
        "          x = np.load(path+\"/\"+dirs[i]).astype(np.float32).reshape(-1, 28*28)/255\n",
        "          y = np.full(x.shape[0], i // 5)\n",
        "          self.X_tests[i] = np.array(x)\n",
        "          self.Y_tests[i] = np.array(y)\n",
        "\n",
        "        self.max_iter = max_iter\n",
        "        self.cur_iter = 0\n",
        "\n",
        "    def get_dims(self):\n",
        "        # Get data input and output dimensions\n",
        "        return 28*28, 2\n",
        "\n",
        "    def next_task(self):\n",
        "        if self.cur_iter >= self.max_iter:\n",
        "            raise Exception('Number of tasks exceeded!')\n",
        "        else:\n",
        "          next_x_train = np.concat(self.X_trains[self.cur_iter::5])\n",
        "          next_y_train = np.concat(self.Y_trains[self.cur_iter::5])\n",
        "          next_x_test = np.concat(self.X_tests[self.cur_iter::5])\n",
        "          next_y_test = np.concat(self.Y_tests[self.cur_iter::5])\n",
        "\n",
        "          self.cur_iter += 1\n",
        "          return next_x_train, next_y_train, next_x_test, next_y_test\n"
      ]
    },
    {
      "cell_type": "code",
      "execution_count": null,
      "metadata": {
        "id": "qHJy9fb6STTK"
      },
      "outputs": [],
      "source": [
        "from datetime import datetime\n",
        "\n",
        "def save_result(vcl_result, task, epochs, size, mode, hidden_size, heads, method):\n",
        "  if not os.path.exists(f'/content/drive/MyDrive/logs/'):\n",
        "    os.makedirs(f'/content/drive/MyDrive/logs/')\n",
        "  with open(f'/content/drive/MyDrive/logs/{task}_{epochs}_{size}_{mode}_{datetime.now().strftime(\"%Y-%m-%d_%H:%M:%S\")}.txt', 'w') as f:\n",
        "    f.write(f'hidden_size: {hidden_size}\\n')\n",
        "    f.write(f'heads: {heads}\\n')\n",
        "    f.write(f'method: {method}\\n')\n",
        "    for result in vcl_result:\n",
        "      f.write(f\"{result}\\n\")"
      ]
    },
    {
      "cell_type": "markdown",
      "metadata": {
        "id": "8tF5kX7xyIJj"
      },
      "source": [
        "# Experiments"
      ]
    },
    {
      "cell_type": "code",
      "execution_count": null,
      "metadata": {
        "id": "JYPY4pmvKVHA"
      },
      "outputs": [],
      "source": [
        "def permutedMNIST(epochs, coreset_size, mode, version, ):\n",
        "    if version == 1:\n",
        "      hidden_size = [100]\n",
        "      heads = [10]\n",
        "    else:\n",
        "      hidden_size = [100, 100]\n",
        "      heads = []\n",
        "    batch_size = 256\n",
        "    single_head = False\n",
        "\n",
        "    data_gen = PermutedMnistGenerator(10)\n",
        "    vcl_result = vcl(hidden_size, heads, epochs, data_gen, mode, coreset_size, batch_size, single_head)\n",
        "    print(vcl_result)\n",
        "    save_result(vcl_result, 'permutedMNIST', epochs, coreset_size, mode, hidden_size, heads, 'categorical')\n",
        "\n",
        "    for i in range(10):\n",
        "      plt.plot([x for x in range(i,10)], [result[i][0] for result in vcl_result if i in result])\n",
        "    plt.plot([x for x in range(10)], [result['all'][0] for result in vcl_result])\n",
        "    plt.show()"
      ]
    },
    {
      "cell_type": "code",
      "execution_count": null,
      "metadata": {
        "id": "3hzV5waJSvGo"
      },
      "outputs": [],
      "source": [
        "def splitMNIST(epochs, coreset_size, mode, version):\n",
        "    if version == 1:\n",
        "      hidden_size = [256]\n",
        "      heads = [51]\n",
        "    else:\n",
        "      hidden_size = [256, 256]\n",
        "      heads = []\n",
        "    batch_size = 256\n",
        "    single_head = False\n",
        "\n",
        "    data_gen = SplitMnistGenerator(5)\n",
        "    vcl_result = vcl(hidden_size, heads, epochs, data_gen, mode, coreset_size, batch_size, single_head)\n",
        "    print(vcl_result)\n",
        "    save_result(vcl_result, 'splitMNIST', epochs, coreset_size, mode, hidden_size, heads, 'categorical')\n",
        "\n",
        "    for i in range(5):\n",
        "      plt.plot([x for x in range(i,5)], [result[i][0] for result in vcl_result if i in result])\n",
        "    plt.plot([x for x in range(5)], [result['all'][0] for result in vcl_result])\n",
        "    plt.show()"
      ]
    },
    {
      "cell_type": "code",
      "execution_count": null,
      "metadata": {
        "id": "m2mTl3MNTOez"
      },
      "outputs": [],
      "source": [
        "def splitnotMNIST(epochs, coreset_size, mode, version):\n",
        "    if version == 1:\n",
        "      hidden_size = [150, 150, 150]\n",
        "      heads = [30]\n",
        "    else:\n",
        "      hidden_size = [150, 150, 150, 150]\n",
        "      heads = []\n",
        "    batch_size = 256\n",
        "    single_head = False\n",
        "\n",
        "    data_gen = SplitNotMnistGenerator(5)\n",
        "    vcl_result = vcl(hidden_size, heads, epochs, data_gen, mode, coreset_size, batch_size, single_head)\n",
        "    print(vcl_result)\n",
        "    save_result(vcl_result, 'splitnotMNIST', epochs, coreset_size, mode, hidden_size, heads, 'categorical')\n",
        "\n",
        "    for i in range(5):\n",
        "      plt.plot([x for x in range(i,5)], [result[i][0] for result in vcl_result if i in result])\n",
        "    plt.plot([x for x in range(5)], [result['all'][0] for result in vcl_result])\n",
        "    plt.show()"
      ]
    },
    {
      "cell_type": "markdown",
      "metadata": {
        "id": "fiHvThXAyTwT"
      },
      "source": [
        "# Permuted MNIST"
      ]
    },
    {
      "cell_type": "code",
      "execution_count": null,
      "metadata": {
        "colab": {
          "base_uri": "https://localhost:8080/",
          "height": 321
        },
        "id": "VEUwg4pDTsnz",
        "outputId": "cbff5333-5687-4e46-faca-6b0365ef2082"
      },
      "outputs": [
        {
          "name": "stderr",
          "output_type": "stream",
          "text": [
            "100%|██████████| 9.91M/9.91M [00:01<00:00, 5.09MB/s]\n",
            "100%|██████████| 28.9k/28.9k [00:00<00:00, 135kB/s]\n"
          ]
        },
        {
          "ename": "KeyboardInterrupt",
          "evalue": "",
          "output_type": "error",
          "traceback": [
            "\u001b[0;31m---------------------------------------------------------------------------\u001b[0m",
            "\u001b[0;31mKeyboardInterrupt\u001b[0m                         Traceback (most recent call last)",
            "\u001b[0;32m<ipython-input-18-b7cab5fd172b>\u001b[0m in \u001b[0;36m<cell line: 0>\u001b[0;34m()\u001b[0m\n\u001b[0;32m----> 1\u001b[0;31m \u001b[0mpermutedMNIST\u001b[0m\u001b[0;34m(\u001b[0m\u001b[0;36m100\u001b[0m\u001b[0;34m,\u001b[0m \u001b[0;36m0\u001b[0m\u001b[0;34m,\u001b[0m \u001b[0;34m'random'\u001b[0m\u001b[0;34m,\u001b[0m \u001b[0;36m0\u001b[0m\u001b[0;34m)\u001b[0m\u001b[0;34m\u001b[0m\u001b[0;34m\u001b[0m\u001b[0m\n\u001b[0m",
            "\u001b[0;32m<ipython-input-15-10273ed22c11>\u001b[0m in \u001b[0;36mpermutedMNIST\u001b[0;34m(epochs, coreset_size, mode, version)\u001b[0m\n\u001b[1;32m      9\u001b[0m     \u001b[0msingle_head\u001b[0m \u001b[0;34m=\u001b[0m \u001b[0;32mFalse\u001b[0m\u001b[0;34m\u001b[0m\u001b[0;34m\u001b[0m\u001b[0m\n\u001b[1;32m     10\u001b[0m \u001b[0;34m\u001b[0m\u001b[0m\n\u001b[0;32m---> 11\u001b[0;31m     \u001b[0mdata_gen\u001b[0m \u001b[0;34m=\u001b[0m \u001b[0mPermutedMnistGenerator\u001b[0m\u001b[0;34m(\u001b[0m\u001b[0;36m10\u001b[0m\u001b[0;34m)\u001b[0m\u001b[0;34m\u001b[0m\u001b[0;34m\u001b[0m\u001b[0m\n\u001b[0m\u001b[1;32m     12\u001b[0m     \u001b[0mvcl_result\u001b[0m \u001b[0;34m=\u001b[0m \u001b[0mvcl\u001b[0m\u001b[0;34m(\u001b[0m\u001b[0mhidden_size\u001b[0m\u001b[0;34m,\u001b[0m \u001b[0mheads\u001b[0m\u001b[0;34m,\u001b[0m \u001b[0mepochs\u001b[0m\u001b[0;34m,\u001b[0m \u001b[0mdata_gen\u001b[0m\u001b[0;34m,\u001b[0m \u001b[0mmode\u001b[0m\u001b[0;34m,\u001b[0m \u001b[0mcoreset_size\u001b[0m\u001b[0;34m,\u001b[0m \u001b[0mbatch_size\u001b[0m\u001b[0;34m,\u001b[0m \u001b[0msingle_head\u001b[0m\u001b[0;34m)\u001b[0m\u001b[0;34m\u001b[0m\u001b[0;34m\u001b[0m\u001b[0m\n\u001b[1;32m     13\u001b[0m     \u001b[0mprint\u001b[0m\u001b[0;34m(\u001b[0m\u001b[0mvcl_result\u001b[0m\u001b[0;34m)\u001b[0m\u001b[0;34m\u001b[0m\u001b[0;34m\u001b[0m\u001b[0m\n",
            "\u001b[0;32m<ipython-input-11-fd315be181f0>\u001b[0m in \u001b[0;36m__init__\u001b[0;34m(self, max_iter)\u001b[0m\n\u001b[1;32m      1\u001b[0m \u001b[0;32mclass\u001b[0m \u001b[0mPermutedMnistGenerator\u001b[0m\u001b[0;34m(\u001b[0m\u001b[0;34m)\u001b[0m\u001b[0;34m:\u001b[0m\u001b[0;34m\u001b[0m\u001b[0;34m\u001b[0m\u001b[0m\n\u001b[1;32m      2\u001b[0m     \u001b[0;32mdef\u001b[0m \u001b[0m__init__\u001b[0m\u001b[0;34m(\u001b[0m\u001b[0mself\u001b[0m\u001b[0;34m,\u001b[0m \u001b[0mmax_iter\u001b[0m\u001b[0;34m=\u001b[0m\u001b[0;36m10\u001b[0m\u001b[0;34m)\u001b[0m\u001b[0;34m:\u001b[0m\u001b[0;34m\u001b[0m\u001b[0;34m\u001b[0m\u001b[0m\n\u001b[0;32m----> 3\u001b[0;31m         \u001b[0mmnist_trainset\u001b[0m \u001b[0;34m=\u001b[0m \u001b[0mMNIST\u001b[0m\u001b[0;34m(\u001b[0m\u001b[0mroot\u001b[0m\u001b[0;34m=\u001b[0m\u001b[0;34m'./data'\u001b[0m\u001b[0;34m,\u001b[0m \u001b[0mtrain\u001b[0m\u001b[0;34m=\u001b[0m\u001b[0;32mTrue\u001b[0m\u001b[0;34m,\u001b[0m \u001b[0mdownload\u001b[0m\u001b[0;34m=\u001b[0m\u001b[0;32mTrue\u001b[0m\u001b[0;34m)\u001b[0m\u001b[0;34m\u001b[0m\u001b[0;34m\u001b[0m\u001b[0m\n\u001b[0m\u001b[1;32m      4\u001b[0m         \u001b[0mmnist_testset\u001b[0m \u001b[0;34m=\u001b[0m \u001b[0mMNIST\u001b[0m\u001b[0;34m(\u001b[0m\u001b[0mroot\u001b[0m\u001b[0;34m=\u001b[0m\u001b[0;34m'./data'\u001b[0m\u001b[0;34m,\u001b[0m \u001b[0mtrain\u001b[0m\u001b[0;34m=\u001b[0m\u001b[0;32mFalse\u001b[0m\u001b[0;34m,\u001b[0m \u001b[0mdownload\u001b[0m\u001b[0;34m=\u001b[0m\u001b[0;32mTrue\u001b[0m\u001b[0;34m)\u001b[0m\u001b[0;34m\u001b[0m\u001b[0;34m\u001b[0m\u001b[0m\n\u001b[1;32m      5\u001b[0m         \u001b[0mself\u001b[0m\u001b[0;34m.\u001b[0m\u001b[0mX_train\u001b[0m \u001b[0;34m=\u001b[0m \u001b[0mmnist_trainset\u001b[0m\u001b[0;34m.\u001b[0m\u001b[0mdata\u001b[0m\u001b[0;34m.\u001b[0m\u001b[0mnumpy\u001b[0m\u001b[0;34m(\u001b[0m\u001b[0;34m)\u001b[0m\u001b[0;34m.\u001b[0m\u001b[0mastype\u001b[0m\u001b[0;34m(\u001b[0m\u001b[0mnp\u001b[0m\u001b[0;34m.\u001b[0m\u001b[0mfloat32\u001b[0m\u001b[0;34m)\u001b[0m\u001b[0;34m.\u001b[0m\u001b[0mreshape\u001b[0m\u001b[0;34m(\u001b[0m\u001b[0;34m-\u001b[0m\u001b[0;36m1\u001b[0m\u001b[0;34m,\u001b[0m \u001b[0;36m28\u001b[0m\u001b[0;34m*\u001b[0m\u001b[0;36m28\u001b[0m\u001b[0;34m)\u001b[0m\u001b[0;34m/\u001b[0m\u001b[0;36m255\u001b[0m\u001b[0;34m\u001b[0m\u001b[0;34m\u001b[0m\u001b[0m\n",
            "\u001b[0;32m/usr/local/lib/python3.11/dist-packages/torchvision/datasets/mnist.py\u001b[0m in \u001b[0;36m__init__\u001b[0;34m(self, root, train, transform, target_transform, download)\u001b[0m\n\u001b[1;32m     98\u001b[0m \u001b[0;34m\u001b[0m\u001b[0m\n\u001b[1;32m     99\u001b[0m         \u001b[0;32mif\u001b[0m \u001b[0mdownload\u001b[0m\u001b[0;34m:\u001b[0m\u001b[0;34m\u001b[0m\u001b[0;34m\u001b[0m\u001b[0m\n\u001b[0;32m--> 100\u001b[0;31m             \u001b[0mself\u001b[0m\u001b[0;34m.\u001b[0m\u001b[0mdownload\u001b[0m\u001b[0;34m(\u001b[0m\u001b[0;34m)\u001b[0m\u001b[0;34m\u001b[0m\u001b[0;34m\u001b[0m\u001b[0m\n\u001b[0m\u001b[1;32m    101\u001b[0m \u001b[0;34m\u001b[0m\u001b[0m\n\u001b[1;32m    102\u001b[0m         \u001b[0;32mif\u001b[0m \u001b[0;32mnot\u001b[0m \u001b[0mself\u001b[0m\u001b[0;34m.\u001b[0m\u001b[0m_check_exists\u001b[0m\u001b[0;34m(\u001b[0m\u001b[0;34m)\u001b[0m\u001b[0;34m:\u001b[0m\u001b[0;34m\u001b[0m\u001b[0;34m\u001b[0m\u001b[0m\n",
            "\u001b[0;32m/usr/local/lib/python3.11/dist-packages/torchvision/datasets/mnist.py\u001b[0m in \u001b[0;36mdownload\u001b[0;34m(self)\u001b[0m\n\u001b[1;32m    186\u001b[0m                 \u001b[0murl\u001b[0m \u001b[0;34m=\u001b[0m \u001b[0;34mf\"{mirror}{filename}\"\u001b[0m\u001b[0;34m\u001b[0m\u001b[0;34m\u001b[0m\u001b[0m\n\u001b[1;32m    187\u001b[0m                 \u001b[0;32mtry\u001b[0m\u001b[0;34m:\u001b[0m\u001b[0;34m\u001b[0m\u001b[0;34m\u001b[0m\u001b[0m\n\u001b[0;32m--> 188\u001b[0;31m                     \u001b[0mdownload_and_extract_archive\u001b[0m\u001b[0;34m(\u001b[0m\u001b[0murl\u001b[0m\u001b[0;34m,\u001b[0m \u001b[0mdownload_root\u001b[0m\u001b[0;34m=\u001b[0m\u001b[0mself\u001b[0m\u001b[0;34m.\u001b[0m\u001b[0mraw_folder\u001b[0m\u001b[0;34m,\u001b[0m \u001b[0mfilename\u001b[0m\u001b[0;34m=\u001b[0m\u001b[0mfilename\u001b[0m\u001b[0;34m,\u001b[0m \u001b[0mmd5\u001b[0m\u001b[0;34m=\u001b[0m\u001b[0mmd5\u001b[0m\u001b[0;34m)\u001b[0m\u001b[0;34m\u001b[0m\u001b[0;34m\u001b[0m\u001b[0m\n\u001b[0m\u001b[1;32m    189\u001b[0m                 \u001b[0;32mexcept\u001b[0m \u001b[0mURLError\u001b[0m \u001b[0;32mas\u001b[0m \u001b[0me\u001b[0m\u001b[0;34m:\u001b[0m\u001b[0;34m\u001b[0m\u001b[0;34m\u001b[0m\u001b[0m\n\u001b[1;32m    190\u001b[0m                     \u001b[0merrors\u001b[0m\u001b[0;34m.\u001b[0m\u001b[0mappend\u001b[0m\u001b[0;34m(\u001b[0m\u001b[0me\u001b[0m\u001b[0;34m)\u001b[0m\u001b[0;34m\u001b[0m\u001b[0;34m\u001b[0m\u001b[0m\n",
            "\u001b[0;32m/usr/local/lib/python3.11/dist-packages/torchvision/datasets/utils.py\u001b[0m in \u001b[0;36mdownload_and_extract_archive\u001b[0;34m(url, download_root, extract_root, filename, md5, remove_finished)\u001b[0m\n\u001b[1;32m    389\u001b[0m         \u001b[0mfilename\u001b[0m \u001b[0;34m=\u001b[0m \u001b[0mos\u001b[0m\u001b[0;34m.\u001b[0m\u001b[0mpath\u001b[0m\u001b[0;34m.\u001b[0m\u001b[0mbasename\u001b[0m\u001b[0;34m(\u001b[0m\u001b[0murl\u001b[0m\u001b[0;34m)\u001b[0m\u001b[0;34m\u001b[0m\u001b[0;34m\u001b[0m\u001b[0m\n\u001b[1;32m    390\u001b[0m \u001b[0;34m\u001b[0m\u001b[0m\n\u001b[0;32m--> 391\u001b[0;31m     \u001b[0mdownload_url\u001b[0m\u001b[0;34m(\u001b[0m\u001b[0murl\u001b[0m\u001b[0;34m,\u001b[0m \u001b[0mdownload_root\u001b[0m\u001b[0;34m,\u001b[0m \u001b[0mfilename\u001b[0m\u001b[0;34m,\u001b[0m \u001b[0mmd5\u001b[0m\u001b[0;34m)\u001b[0m\u001b[0;34m\u001b[0m\u001b[0;34m\u001b[0m\u001b[0m\n\u001b[0m\u001b[1;32m    392\u001b[0m \u001b[0;34m\u001b[0m\u001b[0m\n\u001b[1;32m    393\u001b[0m     \u001b[0marchive\u001b[0m \u001b[0;34m=\u001b[0m \u001b[0mos\u001b[0m\u001b[0;34m.\u001b[0m\u001b[0mpath\u001b[0m\u001b[0;34m.\u001b[0m\u001b[0mjoin\u001b[0m\u001b[0;34m(\u001b[0m\u001b[0mdownload_root\u001b[0m\u001b[0;34m,\u001b[0m \u001b[0mfilename\u001b[0m\u001b[0;34m)\u001b[0m\u001b[0;34m\u001b[0m\u001b[0;34m\u001b[0m\u001b[0m\n",
            "\u001b[0;32m/usr/local/lib/python3.11/dist-packages/torchvision/datasets/utils.py\u001b[0m in \u001b[0;36mdownload_url\u001b[0;34m(url, root, filename, md5, max_redirect_hops)\u001b[0m\n\u001b[1;32m    119\u001b[0m     \u001b[0;32melse\u001b[0m\u001b[0;34m:\u001b[0m\u001b[0;34m\u001b[0m\u001b[0;34m\u001b[0m\u001b[0m\n\u001b[1;32m    120\u001b[0m         \u001b[0;31m# expand redirect chain if needed\u001b[0m\u001b[0;34m\u001b[0m\u001b[0;34m\u001b[0m\u001b[0m\n\u001b[0;32m--> 121\u001b[0;31m         \u001b[0murl\u001b[0m \u001b[0;34m=\u001b[0m \u001b[0m_get_redirect_url\u001b[0m\u001b[0;34m(\u001b[0m\u001b[0murl\u001b[0m\u001b[0;34m,\u001b[0m \u001b[0mmax_hops\u001b[0m\u001b[0;34m=\u001b[0m\u001b[0mmax_redirect_hops\u001b[0m\u001b[0;34m)\u001b[0m\u001b[0;34m\u001b[0m\u001b[0;34m\u001b[0m\u001b[0m\n\u001b[0m\u001b[1;32m    122\u001b[0m \u001b[0;34m\u001b[0m\u001b[0m\n\u001b[1;32m    123\u001b[0m         \u001b[0;31m# check if file is located on Google Drive\u001b[0m\u001b[0;34m\u001b[0m\u001b[0;34m\u001b[0m\u001b[0m\n",
            "\u001b[0;32m/usr/local/lib/python3.11/dist-packages/torchvision/datasets/utils.py\u001b[0m in \u001b[0;36m_get_redirect_url\u001b[0;34m(url, max_hops)\u001b[0m\n\u001b[1;32m     64\u001b[0m \u001b[0;34m\u001b[0m\u001b[0m\n\u001b[1;32m     65\u001b[0m     \u001b[0;32mfor\u001b[0m \u001b[0m_\u001b[0m \u001b[0;32min\u001b[0m \u001b[0mrange\u001b[0m\u001b[0;34m(\u001b[0m\u001b[0mmax_hops\u001b[0m \u001b[0;34m+\u001b[0m \u001b[0;36m1\u001b[0m\u001b[0;34m)\u001b[0m\u001b[0;34m:\u001b[0m\u001b[0;34m\u001b[0m\u001b[0;34m\u001b[0m\u001b[0m\n\u001b[0;32m---> 66\u001b[0;31m         \u001b[0;32mwith\u001b[0m \u001b[0murllib\u001b[0m\u001b[0;34m.\u001b[0m\u001b[0mrequest\u001b[0m\u001b[0;34m.\u001b[0m\u001b[0murlopen\u001b[0m\u001b[0;34m(\u001b[0m\u001b[0murllib\u001b[0m\u001b[0;34m.\u001b[0m\u001b[0mrequest\u001b[0m\u001b[0;34m.\u001b[0m\u001b[0mRequest\u001b[0m\u001b[0;34m(\u001b[0m\u001b[0murl\u001b[0m\u001b[0;34m,\u001b[0m \u001b[0mheaders\u001b[0m\u001b[0;34m=\u001b[0m\u001b[0mheaders\u001b[0m\u001b[0;34m)\u001b[0m\u001b[0;34m)\u001b[0m \u001b[0;32mas\u001b[0m \u001b[0mresponse\u001b[0m\u001b[0;34m:\u001b[0m\u001b[0;34m\u001b[0m\u001b[0;34m\u001b[0m\u001b[0m\n\u001b[0m\u001b[1;32m     67\u001b[0m             \u001b[0;32mif\u001b[0m \u001b[0mresponse\u001b[0m\u001b[0;34m.\u001b[0m\u001b[0murl\u001b[0m \u001b[0;34m==\u001b[0m \u001b[0murl\u001b[0m \u001b[0;32mor\u001b[0m \u001b[0mresponse\u001b[0m\u001b[0;34m.\u001b[0m\u001b[0murl\u001b[0m \u001b[0;32mis\u001b[0m \u001b[0;32mNone\u001b[0m\u001b[0;34m:\u001b[0m\u001b[0;34m\u001b[0m\u001b[0;34m\u001b[0m\u001b[0m\n\u001b[1;32m     68\u001b[0m                 \u001b[0;32mreturn\u001b[0m \u001b[0murl\u001b[0m\u001b[0;34m\u001b[0m\u001b[0;34m\u001b[0m\u001b[0m\n",
            "\u001b[0;32m/usr/lib/python3.11/urllib/request.py\u001b[0m in \u001b[0;36murlopen\u001b[0;34m(url, data, timeout, cafile, capath, cadefault, context)\u001b[0m\n\u001b[1;32m    214\u001b[0m     \u001b[0;32melse\u001b[0m\u001b[0;34m:\u001b[0m\u001b[0;34m\u001b[0m\u001b[0;34m\u001b[0m\u001b[0m\n\u001b[1;32m    215\u001b[0m         \u001b[0mopener\u001b[0m \u001b[0;34m=\u001b[0m \u001b[0m_opener\u001b[0m\u001b[0;34m\u001b[0m\u001b[0;34m\u001b[0m\u001b[0m\n\u001b[0;32m--> 216\u001b[0;31m     \u001b[0;32mreturn\u001b[0m \u001b[0mopener\u001b[0m\u001b[0;34m.\u001b[0m\u001b[0mopen\u001b[0m\u001b[0;34m(\u001b[0m\u001b[0murl\u001b[0m\u001b[0;34m,\u001b[0m \u001b[0mdata\u001b[0m\u001b[0;34m,\u001b[0m \u001b[0mtimeout\u001b[0m\u001b[0;34m)\u001b[0m\u001b[0;34m\u001b[0m\u001b[0;34m\u001b[0m\u001b[0m\n\u001b[0m\u001b[1;32m    217\u001b[0m \u001b[0;34m\u001b[0m\u001b[0m\n\u001b[1;32m    218\u001b[0m \u001b[0;32mdef\u001b[0m \u001b[0minstall_opener\u001b[0m\u001b[0;34m(\u001b[0m\u001b[0mopener\u001b[0m\u001b[0;34m)\u001b[0m\u001b[0;34m:\u001b[0m\u001b[0;34m\u001b[0m\u001b[0;34m\u001b[0m\u001b[0m\n",
            "\u001b[0;32m/usr/lib/python3.11/urllib/request.py\u001b[0m in \u001b[0;36mopen\u001b[0;34m(self, fullurl, data, timeout)\u001b[0m\n\u001b[1;32m    517\u001b[0m \u001b[0;34m\u001b[0m\u001b[0m\n\u001b[1;32m    518\u001b[0m         \u001b[0msys\u001b[0m\u001b[0;34m.\u001b[0m\u001b[0maudit\u001b[0m\u001b[0;34m(\u001b[0m\u001b[0;34m'urllib.Request'\u001b[0m\u001b[0;34m,\u001b[0m \u001b[0mreq\u001b[0m\u001b[0;34m.\u001b[0m\u001b[0mfull_url\u001b[0m\u001b[0;34m,\u001b[0m \u001b[0mreq\u001b[0m\u001b[0;34m.\u001b[0m\u001b[0mdata\u001b[0m\u001b[0;34m,\u001b[0m \u001b[0mreq\u001b[0m\u001b[0;34m.\u001b[0m\u001b[0mheaders\u001b[0m\u001b[0;34m,\u001b[0m \u001b[0mreq\u001b[0m\u001b[0;34m.\u001b[0m\u001b[0mget_method\u001b[0m\u001b[0;34m(\u001b[0m\u001b[0;34m)\u001b[0m\u001b[0;34m)\u001b[0m\u001b[0;34m\u001b[0m\u001b[0;34m\u001b[0m\u001b[0m\n\u001b[0;32m--> 519\u001b[0;31m         \u001b[0mresponse\u001b[0m \u001b[0;34m=\u001b[0m \u001b[0mself\u001b[0m\u001b[0;34m.\u001b[0m\u001b[0m_open\u001b[0m\u001b[0;34m(\u001b[0m\u001b[0mreq\u001b[0m\u001b[0;34m,\u001b[0m \u001b[0mdata\u001b[0m\u001b[0;34m)\u001b[0m\u001b[0;34m\u001b[0m\u001b[0;34m\u001b[0m\u001b[0m\n\u001b[0m\u001b[1;32m    520\u001b[0m \u001b[0;34m\u001b[0m\u001b[0m\n\u001b[1;32m    521\u001b[0m         \u001b[0;31m# post-process response\u001b[0m\u001b[0;34m\u001b[0m\u001b[0;34m\u001b[0m\u001b[0m\n",
            "\u001b[0;32m/usr/lib/python3.11/urllib/request.py\u001b[0m in \u001b[0;36m_open\u001b[0;34m(self, req, data)\u001b[0m\n\u001b[1;32m    534\u001b[0m \u001b[0;34m\u001b[0m\u001b[0m\n\u001b[1;32m    535\u001b[0m         \u001b[0mprotocol\u001b[0m \u001b[0;34m=\u001b[0m \u001b[0mreq\u001b[0m\u001b[0;34m.\u001b[0m\u001b[0mtype\u001b[0m\u001b[0;34m\u001b[0m\u001b[0;34m\u001b[0m\u001b[0m\n\u001b[0;32m--> 536\u001b[0;31m         result = self._call_chain(self.handle_open, protocol, protocol +\n\u001b[0m\u001b[1;32m    537\u001b[0m                                   '_open', req)\n\u001b[1;32m    538\u001b[0m         \u001b[0;32mif\u001b[0m \u001b[0mresult\u001b[0m\u001b[0;34m:\u001b[0m\u001b[0;34m\u001b[0m\u001b[0;34m\u001b[0m\u001b[0m\n",
            "\u001b[0;32m/usr/lib/python3.11/urllib/request.py\u001b[0m in \u001b[0;36m_call_chain\u001b[0;34m(self, chain, kind, meth_name, *args)\u001b[0m\n\u001b[1;32m    494\u001b[0m         \u001b[0;32mfor\u001b[0m \u001b[0mhandler\u001b[0m \u001b[0;32min\u001b[0m \u001b[0mhandlers\u001b[0m\u001b[0;34m:\u001b[0m\u001b[0;34m\u001b[0m\u001b[0;34m\u001b[0m\u001b[0m\n\u001b[1;32m    495\u001b[0m             \u001b[0mfunc\u001b[0m \u001b[0;34m=\u001b[0m \u001b[0mgetattr\u001b[0m\u001b[0;34m(\u001b[0m\u001b[0mhandler\u001b[0m\u001b[0;34m,\u001b[0m \u001b[0mmeth_name\u001b[0m\u001b[0;34m)\u001b[0m\u001b[0;34m\u001b[0m\u001b[0;34m\u001b[0m\u001b[0m\n\u001b[0;32m--> 496\u001b[0;31m             \u001b[0mresult\u001b[0m \u001b[0;34m=\u001b[0m \u001b[0mfunc\u001b[0m\u001b[0;34m(\u001b[0m\u001b[0;34m*\u001b[0m\u001b[0margs\u001b[0m\u001b[0;34m)\u001b[0m\u001b[0;34m\u001b[0m\u001b[0;34m\u001b[0m\u001b[0m\n\u001b[0m\u001b[1;32m    497\u001b[0m             \u001b[0;32mif\u001b[0m \u001b[0mresult\u001b[0m \u001b[0;32mis\u001b[0m \u001b[0;32mnot\u001b[0m \u001b[0;32mNone\u001b[0m\u001b[0;34m:\u001b[0m\u001b[0;34m\u001b[0m\u001b[0;34m\u001b[0m\u001b[0m\n\u001b[1;32m    498\u001b[0m                 \u001b[0;32mreturn\u001b[0m \u001b[0mresult\u001b[0m\u001b[0;34m\u001b[0m\u001b[0;34m\u001b[0m\u001b[0m\n",
            "\u001b[0;32m/usr/lib/python3.11/urllib/request.py\u001b[0m in \u001b[0;36mhttp_open\u001b[0;34m(self, req)\u001b[0m\n\u001b[1;32m   1375\u001b[0m \u001b[0;34m\u001b[0m\u001b[0m\n\u001b[1;32m   1376\u001b[0m     \u001b[0;32mdef\u001b[0m \u001b[0mhttp_open\u001b[0m\u001b[0;34m(\u001b[0m\u001b[0mself\u001b[0m\u001b[0;34m,\u001b[0m \u001b[0mreq\u001b[0m\u001b[0;34m)\u001b[0m\u001b[0;34m:\u001b[0m\u001b[0;34m\u001b[0m\u001b[0;34m\u001b[0m\u001b[0m\n\u001b[0;32m-> 1377\u001b[0;31m         \u001b[0;32mreturn\u001b[0m \u001b[0mself\u001b[0m\u001b[0;34m.\u001b[0m\u001b[0mdo_open\u001b[0m\u001b[0;34m(\u001b[0m\u001b[0mhttp\u001b[0m\u001b[0;34m.\u001b[0m\u001b[0mclient\u001b[0m\u001b[0;34m.\u001b[0m\u001b[0mHTTPConnection\u001b[0m\u001b[0;34m,\u001b[0m \u001b[0mreq\u001b[0m\u001b[0;34m)\u001b[0m\u001b[0;34m\u001b[0m\u001b[0;34m\u001b[0m\u001b[0m\n\u001b[0m\u001b[1;32m   1378\u001b[0m \u001b[0;34m\u001b[0m\u001b[0m\n\u001b[1;32m   1379\u001b[0m     \u001b[0mhttp_request\u001b[0m \u001b[0;34m=\u001b[0m \u001b[0mAbstractHTTPHandler\u001b[0m\u001b[0;34m.\u001b[0m\u001b[0mdo_request_\u001b[0m\u001b[0;34m\u001b[0m\u001b[0;34m\u001b[0m\u001b[0m\n",
            "\u001b[0;32m/usr/lib/python3.11/urllib/request.py\u001b[0m in \u001b[0;36mdo_open\u001b[0;34m(self, http_class, req, **http_conn_args)\u001b[0m\n\u001b[1;32m   1350\u001b[0m             \u001b[0;32mexcept\u001b[0m \u001b[0mOSError\u001b[0m \u001b[0;32mas\u001b[0m \u001b[0merr\u001b[0m\u001b[0;34m:\u001b[0m \u001b[0;31m# timeout error\u001b[0m\u001b[0;34m\u001b[0m\u001b[0;34m\u001b[0m\u001b[0m\n\u001b[1;32m   1351\u001b[0m                 \u001b[0;32mraise\u001b[0m \u001b[0mURLError\u001b[0m\u001b[0;34m(\u001b[0m\u001b[0merr\u001b[0m\u001b[0;34m)\u001b[0m\u001b[0;34m\u001b[0m\u001b[0;34m\u001b[0m\u001b[0m\n\u001b[0;32m-> 1352\u001b[0;31m             \u001b[0mr\u001b[0m \u001b[0;34m=\u001b[0m \u001b[0mh\u001b[0m\u001b[0;34m.\u001b[0m\u001b[0mgetresponse\u001b[0m\u001b[0;34m(\u001b[0m\u001b[0;34m)\u001b[0m\u001b[0;34m\u001b[0m\u001b[0;34m\u001b[0m\u001b[0m\n\u001b[0m\u001b[1;32m   1353\u001b[0m         \u001b[0;32mexcept\u001b[0m\u001b[0;34m:\u001b[0m\u001b[0;34m\u001b[0m\u001b[0;34m\u001b[0m\u001b[0m\n\u001b[1;32m   1354\u001b[0m             \u001b[0mh\u001b[0m\u001b[0;34m.\u001b[0m\u001b[0mclose\u001b[0m\u001b[0;34m(\u001b[0m\u001b[0;34m)\u001b[0m\u001b[0;34m\u001b[0m\u001b[0;34m\u001b[0m\u001b[0m\n",
            "\u001b[0;32m/usr/lib/python3.11/http/client.py\u001b[0m in \u001b[0;36mgetresponse\u001b[0;34m(self)\u001b[0m\n\u001b[1;32m   1393\u001b[0m         \u001b[0;32mtry\u001b[0m\u001b[0;34m:\u001b[0m\u001b[0;34m\u001b[0m\u001b[0;34m\u001b[0m\u001b[0m\n\u001b[1;32m   1394\u001b[0m             \u001b[0;32mtry\u001b[0m\u001b[0;34m:\u001b[0m\u001b[0;34m\u001b[0m\u001b[0;34m\u001b[0m\u001b[0m\n\u001b[0;32m-> 1395\u001b[0;31m                 \u001b[0mresponse\u001b[0m\u001b[0;34m.\u001b[0m\u001b[0mbegin\u001b[0m\u001b[0;34m(\u001b[0m\u001b[0;34m)\u001b[0m\u001b[0;34m\u001b[0m\u001b[0;34m\u001b[0m\u001b[0m\n\u001b[0m\u001b[1;32m   1396\u001b[0m             \u001b[0;32mexcept\u001b[0m \u001b[0mConnectionError\u001b[0m\u001b[0;34m:\u001b[0m\u001b[0;34m\u001b[0m\u001b[0;34m\u001b[0m\u001b[0m\n\u001b[1;32m   1397\u001b[0m                 \u001b[0mself\u001b[0m\u001b[0;34m.\u001b[0m\u001b[0mclose\u001b[0m\u001b[0;34m(\u001b[0m\u001b[0;34m)\u001b[0m\u001b[0;34m\u001b[0m\u001b[0;34m\u001b[0m\u001b[0m\n",
            "\u001b[0;32m/usr/lib/python3.11/http/client.py\u001b[0m in \u001b[0;36mbegin\u001b[0;34m(self)\u001b[0m\n\u001b[1;32m    323\u001b[0m         \u001b[0;31m# read until we get a non-100 response\u001b[0m\u001b[0;34m\u001b[0m\u001b[0;34m\u001b[0m\u001b[0m\n\u001b[1;32m    324\u001b[0m         \u001b[0;32mwhile\u001b[0m \u001b[0;32mTrue\u001b[0m\u001b[0;34m:\u001b[0m\u001b[0;34m\u001b[0m\u001b[0;34m\u001b[0m\u001b[0m\n\u001b[0;32m--> 325\u001b[0;31m             \u001b[0mversion\u001b[0m\u001b[0;34m,\u001b[0m \u001b[0mstatus\u001b[0m\u001b[0;34m,\u001b[0m \u001b[0mreason\u001b[0m \u001b[0;34m=\u001b[0m \u001b[0mself\u001b[0m\u001b[0;34m.\u001b[0m\u001b[0m_read_status\u001b[0m\u001b[0;34m(\u001b[0m\u001b[0;34m)\u001b[0m\u001b[0;34m\u001b[0m\u001b[0;34m\u001b[0m\u001b[0m\n\u001b[0m\u001b[1;32m    326\u001b[0m             \u001b[0;32mif\u001b[0m \u001b[0mstatus\u001b[0m \u001b[0;34m!=\u001b[0m \u001b[0mCONTINUE\u001b[0m\u001b[0;34m:\u001b[0m\u001b[0;34m\u001b[0m\u001b[0;34m\u001b[0m\u001b[0m\n\u001b[1;32m    327\u001b[0m                 \u001b[0;32mbreak\u001b[0m\u001b[0;34m\u001b[0m\u001b[0;34m\u001b[0m\u001b[0m\n",
            "\u001b[0;32m/usr/lib/python3.11/http/client.py\u001b[0m in \u001b[0;36m_read_status\u001b[0;34m(self)\u001b[0m\n\u001b[1;32m    284\u001b[0m \u001b[0;34m\u001b[0m\u001b[0m\n\u001b[1;32m    285\u001b[0m     \u001b[0;32mdef\u001b[0m \u001b[0m_read_status\u001b[0m\u001b[0;34m(\u001b[0m\u001b[0mself\u001b[0m\u001b[0;34m)\u001b[0m\u001b[0;34m:\u001b[0m\u001b[0;34m\u001b[0m\u001b[0;34m\u001b[0m\u001b[0m\n\u001b[0;32m--> 286\u001b[0;31m         \u001b[0mline\u001b[0m \u001b[0;34m=\u001b[0m \u001b[0mstr\u001b[0m\u001b[0;34m(\u001b[0m\u001b[0mself\u001b[0m\u001b[0;34m.\u001b[0m\u001b[0mfp\u001b[0m\u001b[0;34m.\u001b[0m\u001b[0mreadline\u001b[0m\u001b[0;34m(\u001b[0m\u001b[0m_MAXLINE\u001b[0m \u001b[0;34m+\u001b[0m \u001b[0;36m1\u001b[0m\u001b[0;34m)\u001b[0m\u001b[0;34m,\u001b[0m \u001b[0;34m\"iso-8859-1\"\u001b[0m\u001b[0;34m)\u001b[0m\u001b[0;34m\u001b[0m\u001b[0;34m\u001b[0m\u001b[0m\n\u001b[0m\u001b[1;32m    287\u001b[0m         \u001b[0;32mif\u001b[0m \u001b[0mlen\u001b[0m\u001b[0;34m(\u001b[0m\u001b[0mline\u001b[0m\u001b[0;34m)\u001b[0m \u001b[0;34m>\u001b[0m \u001b[0m_MAXLINE\u001b[0m\u001b[0;34m:\u001b[0m\u001b[0;34m\u001b[0m\u001b[0;34m\u001b[0m\u001b[0m\n\u001b[1;32m    288\u001b[0m             \u001b[0;32mraise\u001b[0m \u001b[0mLineTooLong\u001b[0m\u001b[0;34m(\u001b[0m\u001b[0;34m\"status line\"\u001b[0m\u001b[0;34m)\u001b[0m\u001b[0;34m\u001b[0m\u001b[0;34m\u001b[0m\u001b[0m\n",
            "\u001b[0;32m/usr/lib/python3.11/socket.py\u001b[0m in \u001b[0;36mreadinto\u001b[0;34m(self, b)\u001b[0m\n\u001b[1;32m    716\u001b[0m         \u001b[0;32mwhile\u001b[0m \u001b[0;32mTrue\u001b[0m\u001b[0;34m:\u001b[0m\u001b[0;34m\u001b[0m\u001b[0;34m\u001b[0m\u001b[0m\n\u001b[1;32m    717\u001b[0m             \u001b[0;32mtry\u001b[0m\u001b[0;34m:\u001b[0m\u001b[0;34m\u001b[0m\u001b[0;34m\u001b[0m\u001b[0m\n\u001b[0;32m--> 718\u001b[0;31m                 \u001b[0;32mreturn\u001b[0m \u001b[0mself\u001b[0m\u001b[0;34m.\u001b[0m\u001b[0m_sock\u001b[0m\u001b[0;34m.\u001b[0m\u001b[0mrecv_into\u001b[0m\u001b[0;34m(\u001b[0m\u001b[0mb\u001b[0m\u001b[0;34m)\u001b[0m\u001b[0;34m\u001b[0m\u001b[0;34m\u001b[0m\u001b[0m\n\u001b[0m\u001b[1;32m    719\u001b[0m             \u001b[0;32mexcept\u001b[0m \u001b[0mtimeout\u001b[0m\u001b[0;34m:\u001b[0m\u001b[0;34m\u001b[0m\u001b[0;34m\u001b[0m\u001b[0m\n\u001b[1;32m    720\u001b[0m                 \u001b[0mself\u001b[0m\u001b[0;34m.\u001b[0m\u001b[0m_timeout_occurred\u001b[0m \u001b[0;34m=\u001b[0m \u001b[0;32mTrue\u001b[0m\u001b[0;34m\u001b[0m\u001b[0;34m\u001b[0m\u001b[0m\n",
            "\u001b[0;31mKeyboardInterrupt\u001b[0m: "
          ]
        }
      ],
      "source": [
        "permutedMNIST(100, 0, 'random', 0)"
      ]
    },
    {
      "cell_type": "code",
      "execution_count": null,
      "metadata": {
        "id": "i7AfFUeJSIsp"
      },
      "outputs": [],
      "source": [
        "permutedMNIST(100, 200, 'random', 0)"
      ]
    },
    {
      "cell_type": "code",
      "execution_count": null,
      "metadata": {
        "id": "CCwCz6TTTw0O"
      },
      "outputs": [],
      "source": [
        "permutedMNIST(100, 200, 'centre', 0)"
      ]
    },
    {
      "cell_type": "code",
      "execution_count": null,
      "metadata": {
        "colab": {
          "base_uri": "https://localhost:8080/"
        },
        "id": "tVAnUb5zT1YB",
        "outputId": "f54d9fc1-afc5-4698-9076-e105aca20cf9"
      },
      "outputs": [
        {
          "name": "stderr",
          "output_type": "stream",
          "text": [
            "100%|██████████| 9.91M/9.91M [00:00<00:00, 18.0MB/s]\n",
            "100%|██████████| 28.9k/28.9k [00:00<00:00, 484kB/s]\n",
            "100%|██████████| 1.65M/1.65M [00:00<00:00, 4.44MB/s]\n",
            "100%|██████████| 4.54k/4.54k [00:00<00:00, 7.68MB/s]\n"
          ]
        },
        {
          "name": "stdout",
          "output_type": "stream",
          "text": [
            "Task 1\n"
          ]
        },
        {
          "name": "stderr",
          "output_type": "stream",
          "text": [
            "Epochs: 100%|██████████| 100/100 [02:30<00:00,  1.50s/it, Loss: 0.0001, Acc: 0.9900]\n",
            "Epochs: 100%|██████████| 100/100 [07:58<00:00,  4.78s/it, Loss: 0.3089, Acc: 0.9708]\n"
          ]
        },
        {
          "name": "stdout",
          "output_type": "stream",
          "text": [
            "Loss = 0.05675765872001648, Accuracy: 0.9802\n",
            "Loss = 0.05675765872001648, Accuracy: 0.9802\n",
            "Task 2\n"
          ]
        },
        {
          "name": "stderr",
          "output_type": "stream",
          "text": [
            "Epochs: 100%|██████████| 100/100 [08:06<00:00,  4.87s/it, Loss: 0.3257, Acc: 0.9629]\n"
          ]
        },
        {
          "name": "stdout",
          "output_type": "stream",
          "text": [
            "Loss = 0.05892927572131157, Accuracy: 0.9789, Loss = 0.06427039951086044, Accuracy: 0.9744\n",
            "Loss = 0.061599837616086006, Accuracy: 0.97665\n",
            "Task 3\n"
          ]
        },
        {
          "name": "stderr",
          "output_type": "stream",
          "text": [
            "Epochs: 100%|██████████| 100/100 [08:12<00:00,  4.93s/it, Loss: 0.2067, Acc: 0.9622]\n"
          ]
        },
        {
          "name": "stdout",
          "output_type": "stream",
          "text": [
            "Loss = 0.061527326703071594, Accuracy: 0.9773, Loss = 0.06766737997531891, Accuracy: 0.9727, Loss = 0.06452728807926178, Accuracy: 0.9749\n",
            "Loss = 0.06457399825255077, Accuracy: 0.9749666666666666\n",
            "Task 4\n"
          ]
        },
        {
          "name": "stderr",
          "output_type": "stream",
          "text": [
            "Epochs: 100%|██████████| 100/100 [08:24<00:00,  5.05s/it, Loss: 0.2022, Acc: 0.9626]\n"
          ]
        },
        {
          "name": "stdout",
          "output_type": "stream",
          "text": [
            "Loss = 0.06447187811136246, Accuracy: 0.9738, Loss = 0.0701950341463089, Accuracy: 0.9696, Loss = 0.07010407745838165, Accuracy: 0.97, Loss = 0.06643159687519073, Accuracy: 0.9726\n",
            "Loss = 0.06780064664781094, Accuracy: 0.9715\n",
            "Task 5\n"
          ]
        },
        {
          "name": "stderr",
          "output_type": "stream",
          "text": [
            "Epochs: 100%|██████████| 100/100 [08:35<00:00,  5.16s/it, Loss: 0.2797, Acc: 0.9614]\n"
          ]
        },
        {
          "name": "stdout",
          "output_type": "stream",
          "text": [
            "Loss = 0.06480561941862106, Accuracy: 0.9737, Loss = 0.07318374514579773, Accuracy: 0.9667, Loss = 0.07332640886306763, Accuracy: 0.9664, Loss = 0.0678526908159256, Accuracy: 0.9711, Loss = 0.0669640451669693, Accuracy: 0.9726\n",
            "Loss = 0.06922650188207627, Accuracy: 0.9701\n",
            "Task 6\n"
          ]
        },
        {
          "name": "stderr",
          "output_type": "stream",
          "text": [
            "Epochs: 100%|██████████| 100/100 [08:41<00:00,  5.22s/it, Loss: 0.2080, Acc: 0.9625]\n"
          ]
        },
        {
          "name": "stdout",
          "output_type": "stream",
          "text": [
            "Loss = 0.06727621704339981, Accuracy: 0.9714, Loss = 0.07497868686914444, Accuracy: 0.965, Loss = 0.07447279244661331, Accuracy: 0.9657, Loss = 0.07223176211118698, Accuracy: 0.9677, Loss = 0.07165969908237457, Accuracy: 0.9679, Loss = 0.0670824870467186, Accuracy: 0.9707\n",
            "Loss = 0.07128360743323962, Accuracy: 0.9680666666666666\n",
            "Task 7\n"
          ]
        },
        {
          "name": "stderr",
          "output_type": "stream",
          "text": [
            "Epochs: 100%|██████████| 100/100 [08:56<00:00,  5.36s/it, Loss: 0.2233, Acc: 0.9599]\n"
          ]
        },
        {
          "name": "stdout",
          "output_type": "stream",
          "text": [
            "Loss = 0.06637191027402878, Accuracy: 0.9728, Loss = 0.07863748073577881, Accuracy: 0.9595, Loss = 0.07379017770290375, Accuracy: 0.966, Loss = 0.07445915043354034, Accuracy: 0.9668, Loss = 0.07437358051538467, Accuracy: 0.9648, Loss = 0.07143436372280121, Accuracy: 0.9676, Loss = 0.06862519681453705, Accuracy: 0.9719\n",
            "Loss = 0.07252740859985352, Accuracy: 0.9670571428571428\n",
            "Task 8\n"
          ]
        },
        {
          "name": "stderr",
          "output_type": "stream",
          "text": [
            "Epochs: 100%|██████████| 100/100 [09:08<00:00,  5.49s/it, Loss: 0.2759, Acc: 0.9602]\n"
          ]
        },
        {
          "name": "stdout",
          "output_type": "stream",
          "text": [
            "Loss = 0.06778668612241745, Accuracy: 0.9712, Loss = 0.08224412053823471, Accuracy: 0.956, Loss = 0.07616265118122101, Accuracy: 0.9634, Loss = 0.07564550638198853, Accuracy: 0.966, Loss = 0.07500549405813217, Accuracy: 0.9639, Loss = 0.07439614832401276, Accuracy: 0.9648, Loss = 0.07103445380926132, Accuracy: 0.9694, Loss = 0.0686710998415947, Accuracy: 0.9712\n",
            "Loss = 0.07386827003210783, Accuracy: 0.9657375\n",
            "Task 9\n"
          ]
        },
        {
          "name": "stderr",
          "output_type": "stream",
          "text": [
            "Epochs: 100%|██████████| 100/100 [09:13<00:00,  5.54s/it, Loss: 0.2605, Acc: 0.9596]\n"
          ]
        },
        {
          "name": "stdout",
          "output_type": "stream",
          "text": [
            "Loss = 0.07069028913974762, Accuracy: 0.9678, Loss = 0.08692912012338638, Accuracy: 0.9522, Loss = 0.08016403019428253, Accuracy: 0.9602, Loss = 0.08045920729637146, Accuracy: 0.9597, Loss = 0.0774637907743454, Accuracy: 0.9619, Loss = 0.07876887172460556, Accuracy: 0.9585, Loss = 0.07422253489494324, Accuracy: 0.9649, Loss = 0.0727437287569046, Accuracy: 0.967, Loss = 0.06994631886482239, Accuracy: 0.9698\n",
            "Loss = 0.07682087686326769, Accuracy: 0.9624444444444444\n",
            "Task 10\n"
          ]
        },
        {
          "name": "stderr",
          "output_type": "stream",
          "text": [
            "Epochs: 100%|██████████| 100/100 [09:28<00:00,  5.68s/it, Loss: 0.2264, Acc: 0.9594]\n"
          ]
        },
        {
          "name": "stdout",
          "output_type": "stream",
          "text": [
            "Loss = 0.07546696811914444, Accuracy: 0.962, Loss = 0.08928822726011276, Accuracy: 0.949, Loss = 0.08103826642036438, Accuracy: 0.9584, Loss = 0.08382636308670044, Accuracy: 0.9546, Loss = 0.08373481780290604, Accuracy: 0.9566, Loss = 0.0872543603181839, Accuracy: 0.9504, Loss = 0.07584831118583679, Accuracy: 0.9619, Loss = 0.07796037197113037, Accuracy: 0.9608, Loss = 0.07242287695407867, Accuracy: 0.9668, Loss = 0.07040099054574966, Accuracy: 0.9693\n",
            "Loss = 0.07972415536642075, Accuracy: 0.95898\n",
            "[{0: [0.9802, 0.05675765872001648], 'all': [0.9802, 0.05675765872001648]}, {0: [0.9789, 0.05892927572131157], 1: [0.9744, 0.06427039951086044], 'all': [0.97665, 0.061599837616086006]}, {0: [0.9773, 0.061527326703071594], 1: [0.9727, 0.06766737997531891], 2: [0.9749, 0.06452728807926178], 'all': [0.9749666666666666, 0.06457399825255077]}, {0: [0.9738, 0.06447187811136246], 1: [0.9696, 0.0701950341463089], 2: [0.97, 0.07010407745838165], 3: [0.9726, 0.06643159687519073], 'all': [0.9715, 0.06780064664781094]}, {0: [0.9737, 0.06480561941862106], 1: [0.9667, 0.07318374514579773], 2: [0.9664, 0.07332640886306763], 3: [0.9711, 0.0678526908159256], 4: [0.9726, 0.0669640451669693], 'all': [0.9701, 0.06922650188207627]}, {0: [0.9714, 0.06727621704339981], 1: [0.965, 0.07497868686914444], 2: [0.9657, 0.07447279244661331], 3: [0.9677, 0.07223176211118698], 4: [0.9679, 0.07165969908237457], 5: [0.9707, 0.0670824870467186], 'all': [0.9680666666666666, 0.07128360743323962]}, {0: [0.9728, 0.06637191027402878], 1: [0.9595, 0.07863748073577881], 2: [0.966, 0.07379017770290375], 3: [0.9668, 0.07445915043354034], 4: [0.9648, 0.07437358051538467], 5: [0.9676, 0.07143436372280121], 6: [0.9719, 0.06862519681453705], 'all': [0.9670571428571428, 0.07252740859985352]}, {0: [0.9712, 0.06778668612241745], 1: [0.956, 0.08224412053823471], 2: [0.9634, 0.07616265118122101], 3: [0.966, 0.07564550638198853], 4: [0.9639, 0.07500549405813217], 5: [0.9648, 0.07439614832401276], 6: [0.9694, 0.07103445380926132], 7: [0.9712, 0.0686710998415947], 'all': [0.9657375, 0.07386827003210783]}, {0: [0.9678, 0.07069028913974762], 1: [0.9522, 0.08692912012338638], 2: [0.9602, 0.08016403019428253], 3: [0.9597, 0.08045920729637146], 4: [0.9619, 0.0774637907743454], 5: [0.9585, 0.07876887172460556], 6: [0.9649, 0.07422253489494324], 7: [0.967, 0.0727437287569046], 8: [0.9698, 0.06994631886482239], 'all': [0.9624444444444444, 0.07682087686326769]}, {0: [0.962, 0.07546696811914444], 1: [0.949, 0.08928822726011276], 2: [0.9584, 0.08103826642036438], 3: [0.9546, 0.08382636308670044], 4: [0.9566, 0.08373481780290604], 5: [0.9504, 0.0872543603181839], 6: [0.9619, 0.07584831118583679], 7: [0.9608, 0.07796037197113037], 8: [0.9668, 0.07242287695407867], 9: [0.9693, 0.07040099054574966], 'all': [0.95898, 0.07972415536642075]}]\n"
          ]
        },
        {
          "data": {
            "image/png": "[encoded data removed]",
            "text/plain": [
              "<Figure size 640x480 with 1 Axes>"
            ]
          },
          "metadata": {},
          "output_type": "display_data"
        }
      ],
      "source": [
        "permutedMNIST(100, 0, 'random', 1)"
      ]
    },
    {
      "cell_type": "code",
      "execution_count": null,
      "metadata": {
        "colab": {
          "base_uri": "https://localhost:8080/",
          "height": 1000
        },
        "id": "iYa04Z1YT3UY",
        "outputId": "ebc2714c-f9e2-4ea3-83ad-010b58679dec"
      },
      "outputs": [
        {
          "name": "stdout",
          "output_type": "stream",
          "text": [
            "Task 1\n"
          ]
        },
        {
          "name": "stderr",
          "output_type": "stream",
          "text": [
            "Epochs: 100%|██████████| 100/100 [02:28<00:00,  1.49s/it, Loss: 0.0000, Acc: 0.9890]\n",
            "Epochs: 100%|██████████| 100/100 [07:08<00:00,  4.29s/it, Loss: 0.3036, Acc: 0.9714]\n",
            "Epochs: 100%|██████████| 100/100 [00:02<00:00, 46.02it/s, Loss: 0.0785, Acc: 0.9900]\n"
          ]
        },
        {
          "name": "stdout",
          "output_type": "stream",
          "text": [
            "Loss = 0.057649679481983185, Accuracy: 0.9789\n",
            "Loss = 0.057649679481983185, Accuracy: 0.9789\n",
            "Task 2\n"
          ]
        },
        {
          "name": "stderr",
          "output_type": "stream",
          "text": [
            "Epochs: 100%|██████████| 100/100 [07:17<00:00,  4.37s/it, Loss: 0.2710, Acc: 0.9629]\n",
            "Epochs: 100%|██████████| 100/100 [00:04<00:00, 24.16it/s, Loss: 0.1047, Acc: 0.9725]\n"
          ]
        },
        {
          "name": "stdout",
          "output_type": "stream",
          "text": [
            "Loss = 0.06128370761871338, Accuracy: 0.9758, Loss = 0.06327169388532639, Accuracy: 0.977\n",
            "Loss = 0.06227770075201988, Accuracy: 0.9764\n",
            "Task 3\n"
          ]
        },
        {
          "name": "stderr",
          "output_type": "stream",
          "text": [
            "Epochs: 100%|██████████| 100/100 [07:26<00:00,  4.47s/it, Loss: 0.2443, Acc: 0.9616]\n",
            "Epochs: 100%|██████████| 100/100 [00:05<00:00, 18.13it/s, Loss: 0.0869, Acc: 0.9783]\n"
          ]
        },
        {
          "name": "stdout",
          "output_type": "stream",
          "text": [
            "Loss = 0.06231970340013504, Accuracy: 0.9754, Loss = 0.06578006595373154, Accuracy: 0.9746, Loss = 0.06552725285291672, Accuracy: 0.9746\n",
            "Loss = 0.06454234073559444, Accuracy: 0.9748666666666667\n",
            "Task 4\n"
          ]
        },
        {
          "name": "stderr",
          "output_type": "stream",
          "text": [
            "Epochs: 100%|██████████| 100/100 [07:38<00:00,  4.59s/it, Loss: 0.2329, Acc: 0.9636]\n",
            "Epochs: 100%|██████████| 100/100 [00:07<00:00, 13.65it/s, Loss: 0.1482, Acc: 0.9650]\n"
          ]
        },
        {
          "name": "stdout",
          "output_type": "stream",
          "text": [
            "Loss = 0.06340386718511581, Accuracy: 0.9747, Loss = 0.06756378710269928, Accuracy: 0.9737, Loss = 0.06797539442777634, Accuracy: 0.9713, Loss = 0.06458739936351776, Accuracy: 0.9749\n",
            "Loss = 0.0658826120197773, Accuracy: 0.97365\n",
            "Task 5\n"
          ]
        },
        {
          "name": "stderr",
          "output_type": "stream",
          "text": [
            "Epochs: 100%|██████████| 100/100 [07:50<00:00,  4.71s/it, Loss: 0.2950, Acc: 0.9634]\n",
            "Epochs: 100%|██████████| 100/100 [00:10<00:00,  9.85it/s, Loss: 0.0964, Acc: 0.9610]\n"
          ]
        },
        {
          "name": "stdout",
          "output_type": "stream",
          "text": [
            "Loss = 0.06375446915626526, Accuracy: 0.9747, Loss = 0.0693686306476593, Accuracy: 0.9714, Loss = 0.07195146381855011, Accuracy: 0.9672, Loss = 0.06761268526315689, Accuracy: 0.9719, Loss = 0.06478291749954224, Accuracy: 0.9756\n",
            "Loss = 0.06749403327703477, Accuracy: 0.97216\n",
            "Task 6\n"
          ]
        },
        {
          "name": "stderr",
          "output_type": "stream",
          "text": [
            "Epochs: 100%|██████████| 100/100 [08:14<00:00,  4.95s/it, Loss: 0.2894, Acc: 0.9615]\n",
            "Epochs: 100%|██████████| 100/100 [00:14<00:00,  7.05it/s, Loss: 0.1521, Acc: 0.9575]\n"
          ]
        },
        {
          "name": "stdout",
          "output_type": "stream",
          "text": [
            "Loss = 0.06649169325828552, Accuracy: 0.9707, Loss = 0.07471172511577606, Accuracy: 0.9668, Loss = 0.07391702383756638, Accuracy: 0.9644, Loss = 0.07039406150579453, Accuracy: 0.9687, Loss = 0.06712955236434937, Accuracy: 0.9721, Loss = 0.06697108596563339, Accuracy: 0.9719\n",
            "Loss = 0.06993585700790088, Accuracy: 0.9691\n",
            "Task 7\n"
          ]
        },
        {
          "name": "stderr",
          "output_type": "stream",
          "text": [
            "Epochs: 100%|██████████| 100/100 [08:02<00:00,  4.83s/it, Loss: 0.2441, Acc: 0.9604]\n",
            "Epochs: 100%|██████████| 100/100 [00:14<00:00,  6.95it/s, Loss: 0.1865, Acc: 0.9586]\n"
          ]
        },
        {
          "name": "stdout",
          "output_type": "stream",
          "text": [
            "Loss = 0.06722678989171982, Accuracy: 0.9711, Loss = 0.07738985121250153, Accuracy: 0.9628, Loss = 0.07451842725276947, Accuracy: 0.9631, Loss = 0.07808844745159149, Accuracy: 0.9613, Loss = 0.07009933888912201, Accuracy: 0.9696, Loss = 0.06946097314357758, Accuracy: 0.9703, Loss = 0.06994888186454773, Accuracy: 0.969\n",
            "Loss = 0.0723903871008328, Accuracy: 0.9667428571428571\n",
            "Task 8\n"
          ]
        },
        {
          "name": "stderr",
          "output_type": "stream",
          "text": [
            "Epochs: 100%|██████████| 100/100 [08:13<00:00,  4.94s/it, Loss: 0.2652, Acc: 0.9591]\n",
            "Epochs: 100%|██████████| 100/100 [00:16<00:00,  6.00it/s, Loss: 0.1209, Acc: 0.9519]\n"
          ]
        },
        {
          "name": "stdout",
          "output_type": "stream",
          "text": [
            "Loss = 0.07032248377799988, Accuracy: 0.9682, Loss = 0.08033113181591034, Accuracy: 0.959, Loss = 0.0796784833073616, Accuracy: 0.9569, Loss = 0.07998012751340866, Accuracy: 0.9585, Loss = 0.0731673538684845, Accuracy: 0.9654, Loss = 0.07111014425754547, Accuracy: 0.9675, Loss = 0.07134354114532471, Accuracy: 0.9679, Loss = 0.06959237903356552, Accuracy: 0.9706\n",
            "Loss = 0.07444070558995008, Accuracy: 0.96425\n",
            "Task 9\n"
          ]
        },
        {
          "name": "stderr",
          "output_type": "stream",
          "text": [
            "Epochs: 100%|██████████| 100/100 [08:23<00:00,  5.03s/it, Loss: 0.2990, Acc: 0.9585]\n",
            "Epochs: 100%|██████████| 100/100 [00:19<00:00,  5.13it/s, Loss: 0.1890, Acc: 0.9422]\n"
          ]
        },
        {
          "name": "stdout",
          "output_type": "stream",
          "text": [
            "Loss = 0.07053328305482864, Accuracy: 0.968, Loss = 0.08579997718334198, Accuracy: 0.9542, Loss = 0.08953779935836792, Accuracy: 0.9467, Loss = 0.08393123000860214, Accuracy: 0.9546, Loss = 0.07619192451238632, Accuracy: 0.9632, Loss = 0.07214758545160294, Accuracy: 0.9676, Loss = 0.07456402480602264, Accuracy: 0.9654, Loss = 0.07091939449310303, Accuracy: 0.9696, Loss = 0.0706903338432312, Accuracy: 0.9693\n",
            "Loss = 0.07714617252349854, Accuracy: 0.9620666666666666\n",
            "Task 10\n"
          ]
        },
        {
          "name": "stderr",
          "output_type": "stream",
          "text": [
            "Epochs: 100%|██████████| 100/100 [08:31<00:00,  5.12s/it, Loss: 0.2872, Acc: 0.9580]\n",
            "Epochs: 100%|██████████| 100/100 [00:21<00:00,  4.64it/s, Loss: 0.1882, Acc: 0.9410]\n"
          ]
        },
        {
          "name": "stdout",
          "output_type": "stream",
          "text": [
            "Loss = 0.07451523095369339, Accuracy: 0.9645, Loss = 0.0887090265750885, Accuracy: 0.9496, Loss = 0.0944996178150177, Accuracy: 0.939, Loss = 0.08682791143655777, Accuracy: 0.9512, Loss = 0.08564947545528412, Accuracy: 0.9514, Loss = 0.07605826109647751, Accuracy: 0.9636, Loss = 0.08014505356550217, Accuracy: 0.9581, Loss = 0.07860031723976135, Accuracy: 0.9622, Loss = 0.07282762229442596, Accuracy: 0.9668, Loss = 0.0726984441280365, Accuracy: 0.9664\n",
            "Loss = 0.0810530960559845, Accuracy: 0.95728\n",
            "[{0: [0.9789, 0.057649679481983185], 'all': [0.9789, 0.057649679481983185]}, {0: [0.9758, 0.06128370761871338], 1: [0.977, 0.06327169388532639], 'all': [0.9764, 0.06227770075201988]}, {0: [0.9754, 0.06231970340013504], 1: [0.9746, 0.06578006595373154], 2: [0.9746, 0.06552725285291672], 'all': [0.9748666666666667, 0.06454234073559444]}, {0: [0.9747, 0.06340386718511581], 1: [0.9737, 0.06756378710269928], 2: [0.9713, 0.06797539442777634], 3: [0.9749, 0.06458739936351776], 'all': [0.97365, 0.0658826120197773]}, {0: [0.9747, 0.06375446915626526], 1: [0.9714, 0.0693686306476593], 2: [0.9672, 0.07195146381855011], 3: [0.9719, 0.06761268526315689], 4: [0.9756, 0.06478291749954224], 'all': [0.97216, 0.06749403327703477]}, {0: [0.9707, 0.06649169325828552], 1: [0.9668, 0.07471172511577606], 2: [0.9644, 0.07391702383756638], 3: [0.9687, 0.07039406150579453], 4: [0.9721, 0.06712955236434937], 5: [0.9719, 0.06697108596563339], 'all': [0.9691, 0.06993585700790088]}, {0: [0.9711, 0.06722678989171982], 1: [0.9628, 0.07738985121250153], 2: [0.9631, 0.07451842725276947], 3: [0.9613, 0.07808844745159149], 4: [0.9696, 0.07009933888912201], 5: [0.9703, 0.06946097314357758], 6: [0.969, 0.06994888186454773], 'all': [0.9667428571428571, 0.0723903871008328]}, {0: [0.9682, 0.07032248377799988], 1: [0.959, 0.08033113181591034], 2: [0.9569, 0.0796784833073616], 3: [0.9585, 0.07998012751340866], 4: [0.9654, 0.0731673538684845], 5: [0.9675, 0.07111014425754547], 6: [0.9679, 0.07134354114532471], 7: [0.9706, 0.06959237903356552], 'all': [0.96425, 0.07444070558995008]}, {0: [0.968, 0.07053328305482864], 1: [0.9542, 0.08579997718334198], 2: [0.9467, 0.08953779935836792], 3: [0.9546, 0.08393123000860214], 4: [0.9632, 0.07619192451238632], 5: [0.9676, 0.07214758545160294], 6: [0.9654, 0.07456402480602264], 7: [0.9696, 0.07091939449310303], 8: [0.9693, 0.0706903338432312], 'all': [0.9620666666666666, 0.07714617252349854]}, {0: [0.9645, 0.07451523095369339], 1: [0.9496, 0.0887090265750885], 2: [0.939, 0.0944996178150177], 3: [0.9512, 0.08682791143655777], 4: [0.9514, 0.08564947545528412], 5: [0.9636, 0.07605826109647751], 6: [0.9581, 0.08014505356550217], 7: [0.9622, 0.07860031723976135], 8: [0.9668, 0.07282762229442596], 9: [0.9664, 0.0726984441280365], 'all': [0.95728, 0.0810530960559845]}]\n"
          ]
        },
        {
          "data": {
            "image/png": "[encoded data removed]",
            "text/plain": [
              "<Figure size 640x480 with 1 Axes>"
            ]
          },
          "metadata": {},
          "output_type": "display_data"
        }
      ],
      "source": [
        "permutedMNIST(100, 200, 'random', 1)"
      ]
    },
    {
      "cell_type": "code",
      "execution_count": null,
      "metadata": {
        "colab": {
          "background_save": true,
          "base_uri": "https://localhost:8080/"
        },
        "id": "8KANwX8NUFcT",
        "outputId": "782fa833-ce46-42f1-a2cf-20cc3a1eb76a"
      },
      "outputs": [
        {
          "name": "stdout",
          "output_type": "stream",
          "text": [
            "Task 1\n"
          ]
        },
        {
          "name": "stderr",
          "output_type": "stream",
          "text": [
            "Epochs: 100%|██████████| 100/100 [02:28<00:00,  1.49s/it, Loss: 0.0001, Acc: 0.9886]\n",
            "Epochs: 100%|██████████| 100/100 [07:10<00:00,  4.31s/it, Loss: 0.3107, Acc: 0.9710]\n",
            "Epochs: 100%|██████████| 100/100 [00:01<00:00, 54.31it/s, Loss: 0.5153, Acc: 0.9000]\n"
          ]
        },
        {
          "name": "stdout",
          "output_type": "stream",
          "text": [
            "Loss = 0.05833209306001663, Accuracy: 0.9806\n",
            "Loss = 0.05833209306001663, Accuracy: 0.9806\n",
            "Task 2\n"
          ]
        },
        {
          "name": "stderr",
          "output_type": "stream",
          "text": [
            "Epochs: 100%|██████████| 100/100 [07:18<00:00,  4.38s/it, Loss: 0.2462, Acc: 0.9628]\n",
            "Epochs: 100%|██████████| 100/100 [00:03<00:00, 27.82it/s, Loss: 0.5812, Acc: 0.8400]\n"
          ]
        },
        {
          "name": "stdout",
          "output_type": "stream",
          "text": [
            "Loss = 0.058862313628196716, Accuracy: 0.981, Loss = 0.06343619525432587, Accuracy: 0.9759\n",
            "Loss = 0.06114925444126129, Accuracy: 0.97845\n",
            "Task 3\n"
          ]
        },
        {
          "name": "stderr",
          "output_type": "stream",
          "text": [
            "Epochs: 100%|██████████| 100/100 [07:27<00:00,  4.47s/it, Loss: 0.3461, Acc: 0.9626]\n",
            "Epochs: 100%|██████████| 100/100 [00:05<00:00, 17.62it/s, Loss: 0.6316, Acc: 0.8567]\n"
          ]
        },
        {
          "name": "stdout",
          "output_type": "stream",
          "text": [
            "Loss = 0.06248147040605545, Accuracy: 0.9769, Loss = 0.06529855728149414, Accuracy: 0.9743, Loss = 0.06422480195760727, Accuracy: 0.9757\n",
            "Loss = 0.06400160988171895, Accuracy: 0.9756333333333334\n",
            "Task 4\n"
          ]
        },
        {
          "name": "stderr",
          "output_type": "stream",
          "text": [
            "Epochs: 100%|██████████| 100/100 [07:34<00:00,  4.55s/it, Loss: 0.2458, Acc: 0.9632]\n",
            "Epochs: 100%|██████████| 100/100 [00:07<00:00, 13.33it/s, Loss: 0.6791, Acc: 0.8337]\n"
          ]
        },
        {
          "name": "stdout",
          "output_type": "stream",
          "text": [
            "Loss = 0.06371575593948364, Accuracy: 0.9766, Loss = 0.068304643034935, Accuracy: 0.9703, Loss = 0.06621775031089783, Accuracy: 0.974, Loss = 0.06630034744739532, Accuracy: 0.9714\n",
            "Loss = 0.06613462418317795, Accuracy: 0.973075\n",
            "Task 5\n"
          ]
        },
        {
          "name": "stderr",
          "output_type": "stream",
          "text": [
            "Epochs: 100%|██████████| 100/100 [07:44<00:00,  4.64s/it, Loss: 0.2743, Acc: 0.9618]\n",
            "Epochs: 100%|██████████| 100/100 [00:09<00:00, 10.51it/s, Loss: 0.6901, Acc: 0.8330]\n"
          ]
        },
        {
          "name": "stdout",
          "output_type": "stream",
          "text": [
            "Loss = 0.06486868113279343, Accuracy: 0.9739, Loss = 0.06992176920175552, Accuracy: 0.9681, Loss = 0.06735450774431229, Accuracy: 0.9716, Loss = 0.06855498999357224, Accuracy: 0.9705, Loss = 0.06609832495450974, Accuracy: 0.9729\n",
            "Loss = 0.06735965460538865, Accuracy: 0.9714\n",
            "Task 6\n"
          ]
        },
        {
          "name": "stderr",
          "output_type": "stream",
          "text": [
            "Epochs: 100%|██████████| 100/100 [07:54<00:00,  4.74s/it, Loss: 0.3278, Acc: 0.9634]\n",
            "Epochs: 100%|██████████| 100/100 [00:12<00:00,  8.20it/s, Loss: 0.7242, Acc: 0.8158]\n"
          ]
        },
        {
          "name": "stdout",
          "output_type": "stream",
          "text": [
            "Loss = 0.06723269075155258, Accuracy: 0.9732, Loss = 0.07180488854646683, Accuracy: 0.9667, Loss = 0.06935745477676392, Accuracy: 0.9704, Loss = 0.07138854265213013, Accuracy: 0.9674, Loss = 0.06765580177307129, Accuracy: 0.9714, Loss = 0.066977858543396, Accuracy: 0.9733\n",
            "Loss = 0.06906953950723012, Accuracy: 0.9704\n",
            "Task 7\n"
          ]
        },
        {
          "name": "stderr",
          "output_type": "stream",
          "text": [
            "Epochs: 100%|██████████| 100/100 [08:02<00:00,  4.82s/it, Loss: 0.1896, Acc: 0.9626]\n",
            "Epochs: 100%|██████████| 100/100 [00:14<00:00,  6.99it/s, Loss: 0.8519, Acc: 0.8093]\n"
          ]
        },
        {
          "name": "stdout",
          "output_type": "stream",
          "text": [
            "Loss = 0.06719730794429779, Accuracy: 0.9717, Loss = 0.07293808460235596, Accuracy: 0.9659, Loss = 0.06924331188201904, Accuracy: 0.9706, Loss = 0.07466142624616623, Accuracy: 0.9649, Loss = 0.06885869055986404, Accuracy: 0.9698, Loss = 0.06868042796850204, Accuracy: 0.9711, Loss = 0.06778483092784882, Accuracy: 0.971\n",
            "Loss = 0.06990915430443627, Accuracy: 0.9692857142857143\n",
            "Task 8\n"
          ]
        },
        {
          "name": "stderr",
          "output_type": "stream",
          "text": [
            "Epochs: 100%|██████████| 100/100 [08:12<00:00,  4.93s/it, Loss: 0.2544, Acc: 0.9615]\n",
            "Epochs: 100%|██████████| 100/100 [00:16<00:00,  6.04it/s, Loss: 0.7799, Acc: 0.7975]\n"
          ]
        },
        {
          "name": "stdout",
          "output_type": "stream",
          "text": [
            "Loss = 0.06968957185745239, Accuracy: 0.9685, Loss = 0.07547596842050552, Accuracy: 0.9631, Loss = 0.07281160354614258, Accuracy: 0.9672, Loss = 0.07679228484630585, Accuracy: 0.962, Loss = 0.071495421230793, Accuracy: 0.9668, Loss = 0.07229927182197571, Accuracy: 0.9672, Loss = 0.07144615799188614, Accuracy: 0.9684, Loss = 0.06824350357055664, Accuracy: 0.9719\n",
            "Loss = 0.07228172291070223, Accuracy: 0.9668875\n",
            "Task 9\n"
          ]
        },
        {
          "name": "stderr",
          "output_type": "stream",
          "text": [
            "Epochs: 100%|██████████| 100/100 [08:19<00:00,  5.00s/it, Loss: 0.2282, Acc: 0.9583]\n",
            "Epochs: 100%|██████████| 100/100 [00:19<00:00,  5.13it/s, Loss: 0.8377, Acc: 0.8006]\n"
          ]
        },
        {
          "name": "stdout",
          "output_type": "stream",
          "text": [
            "Loss = 0.07105076313018799, Accuracy: 0.9676, Loss = 0.07672477513551712, Accuracy: 0.963, Loss = 0.07529320567846298, Accuracy: 0.9636, Loss = 0.07931356877088547, Accuracy: 0.9599, Loss = 0.07346200197935104, Accuracy: 0.9656, Loss = 0.07516518980264664, Accuracy: 0.964, Loss = 0.07208146899938583, Accuracy: 0.9683, Loss = 0.06982419639825821, Accuracy: 0.9701, Loss = 0.06992141902446747, Accuracy: 0.9708\n",
            "Loss = 0.07364850987990697, Accuracy: 0.9658777777777777\n",
            "Task 10\n"
          ]
        },
        {
          "name": "stderr",
          "output_type": "stream",
          "text": [
            "Epochs: 100%|██████████| 100/100 [08:28<00:00,  5.08s/it, Loss: 0.3094, Acc: 0.9586]\n",
            "Epochs: 100%|██████████| 100/100 [00:21<00:00,  4.58it/s, Loss: 0.7855, Acc: 0.7765]\n"
          ]
        },
        {
          "name": "stdout",
          "output_type": "stream",
          "text": [
            "Loss = 0.0750463679432869, Accuracy: 0.9643, Loss = 0.0797119140625, Accuracy: 0.9594, Loss = 0.07665740698575974, Accuracy: 0.962, Loss = 0.08095186948776245, Accuracy: 0.9572, Loss = 0.07887625694274902, Accuracy: 0.9609, Loss = 0.08448855578899384, Accuracy: 0.9538, Loss = 0.07544992119073868, Accuracy: 0.9648, Loss = 0.074078768491745, Accuracy: 0.9675, Loss = 0.07479824870824814, Accuracy: 0.9646, Loss = 0.0723060742020607, Accuracy: 0.9668\n",
            "Loss = 0.07723653838038444, Accuracy: 0.96213\n",
            "[{0: [0.9806, 0.05833209306001663], 'all': [0.9806, 0.05833209306001663]}, {0: [0.981, 0.058862313628196716], 1: [0.9759, 0.06343619525432587], 'all': [0.97845, 0.06114925444126129]}, {0: [0.9769, 0.06248147040605545], 1: [0.9743, 0.06529855728149414], 2: [0.9757, 0.06422480195760727], 'all': [0.9756333333333334, 0.06400160988171895]}, {0: [0.9766, 0.06371575593948364], 1: [0.9703, 0.068304643034935], 2: [0.974, 0.06621775031089783], 3: [0.9714, 0.06630034744739532], 'all': [0.973075, 0.06613462418317795]}, {0: [0.9739, 0.06486868113279343], 1: [0.9681, 0.06992176920175552], 2: [0.9716, 0.06735450774431229], 3: [0.9705, 0.06855498999357224], 4: [0.9729, 0.06609832495450974], 'all': [0.9714, 0.06735965460538865]}, {0: [0.9732, 0.06723269075155258], 1: [0.9667, 0.07180488854646683], 2: [0.9704, 0.06935745477676392], 3: [0.9674, 0.07138854265213013], 4: [0.9714, 0.06765580177307129], 5: [0.9733, 0.066977858543396], 'all': [0.9704, 0.06906953950723012]}, {0: [0.9717, 0.06719730794429779], 1: [0.9659, 0.07293808460235596], 2: [0.9706, 0.06924331188201904], 3: [0.9649, 0.07466142624616623], 4: [0.9698, 0.06885869055986404], 5: [0.9711, 0.06868042796850204], 6: [0.971, 0.06778483092784882], 'all': [0.9692857142857143, 0.06990915430443627]}, {0: [0.9685, 0.06968957185745239], 1: [0.9631, 0.07547596842050552], 2: [0.9672, 0.07281160354614258], 3: [0.962, 0.07679228484630585], 4: [0.9668, 0.071495421230793], 5: [0.9672, 0.07229927182197571], 6: [0.9684, 0.07144615799188614], 7: [0.9719, 0.06824350357055664], 'all': [0.9668875, 0.07228172291070223]}, {0: [0.9676, 0.07105076313018799], 1: [0.963, 0.07672477513551712], 2: [0.9636, 0.07529320567846298], 3: [0.9599, 0.07931356877088547], 4: [0.9656, 0.07346200197935104], 5: [0.964, 0.07516518980264664], 6: [0.9683, 0.07208146899938583], 7: [0.9701, 0.06982419639825821], 8: [0.9708, 0.06992141902446747], 'all': [0.9658777777777777, 0.07364850987990697]}, {0: [0.9643, 0.0750463679432869], 1: [0.9594, 0.0797119140625], 2: [0.962, 0.07665740698575974], 3: [0.9572, 0.08095186948776245], 4: [0.9609, 0.07887625694274902], 5: [0.9538, 0.08448855578899384], 6: [0.9648, 0.07544992119073868], 7: [0.9675, 0.074078768491745], 8: [0.9646, 0.07479824870824814], 9: [0.9668, 0.0723060742020607], 'all': [0.96213, 0.07723653838038444]}]\n"
          ]
        },
        {
          "data": {
            "image/png": "[encoded data removed]",
            "text/plain": [
              "<Figure size 640x480 with 1 Axes>"
            ]
          },
          "metadata": {},
          "output_type": "display_data"
        }
      ],
      "source": [
        "permutedMNIST(100, 200, 'centre', 1)"
      ]
    },
    {
      "cell_type": "markdown",
      "metadata": {
        "id": "j-8NaAtRUCHo"
      },
      "source": [
        "# Split MNIST"
      ]
    },
    {
      "cell_type": "code",
      "execution_count": null,
      "metadata": {
        "colab": {
          "base_uri": "https://localhost:8080/",
          "height": 339
        },
        "id": "evq0EXCP_ghh",
        "outputId": "7210cbb3-7ffc-4cc9-c5d5-5f6f652df1d3"
      },
      "outputs": [
        {
          "name": "stdout",
          "output_type": "stream",
          "text": [
            "Task 1\n"
          ]
        },
        {
          "name": "stderr",
          "output_type": "stream",
          "text": [
            "Epochs: 100%|██████████| 120/120 [00:27<00:00,  4.43it/s, Loss: 0.0000, Acc: 1.0000]\n",
            "Epochs:   4%|▍         | 5/120 [00:05<01:57,  1.02s/it, Loss: 50.1886, Acc: 1.0000]\n"
          ]
        },
        {
          "ename": "KeyboardInterrupt",
          "evalue": "",
          "output_type": "error",
          "traceback": [
            "\u001b[0;31m---------------------------------------------------------------------------\u001b[0m",
            "\u001b[0;31mKeyboardInterrupt\u001b[0m                         Traceback (most recent call last)",
            "\u001b[0;32m<ipython-input-72-4c800db06c9b>\u001b[0m in \u001b[0;36m<cell line: 0>\u001b[0;34m()\u001b[0m\n\u001b[0;32m----> 1\u001b[0;31m \u001b[0msplitMNIST\u001b[0m\u001b[0;34m(\u001b[0m\u001b[0;36m120\u001b[0m\u001b[0;34m,\u001b[0m \u001b[0;36m0\u001b[0m\u001b[0;34m,\u001b[0m \u001b[0;34m'random'\u001b[0m\u001b[0;34m,\u001b[0m \u001b[0;36m0\u001b[0m\u001b[0;34m)\u001b[0m\u001b[0;34m\u001b[0m\u001b[0;34m\u001b[0m\u001b[0m\n\u001b[0m",
            "\u001b[0;32m<ipython-input-70-ccee0fe4b358>\u001b[0m in \u001b[0;36msplitMNIST\u001b[0;34m(epochs, coreset_size, mode, version)\u001b[0m\n\u001b[1;32m     10\u001b[0m \u001b[0;34m\u001b[0m\u001b[0m\n\u001b[1;32m     11\u001b[0m     \u001b[0mdata_gen\u001b[0m \u001b[0;34m=\u001b[0m \u001b[0mSplitMnistGenerator\u001b[0m\u001b[0;34m(\u001b[0m\u001b[0;36m5\u001b[0m\u001b[0;34m)\u001b[0m\u001b[0;34m\u001b[0m\u001b[0;34m\u001b[0m\u001b[0m\n\u001b[0;32m---> 12\u001b[0;31m     \u001b[0mvcl_result\u001b[0m \u001b[0;34m=\u001b[0m \u001b[0mvcl\u001b[0m\u001b[0;34m(\u001b[0m\u001b[0mhidden_size\u001b[0m\u001b[0;34m,\u001b[0m \u001b[0mheads\u001b[0m\u001b[0;34m,\u001b[0m \u001b[0mepochs\u001b[0m\u001b[0;34m,\u001b[0m \u001b[0mdata_gen\u001b[0m\u001b[0;34m,\u001b[0m \u001b[0mmode\u001b[0m\u001b[0;34m,\u001b[0m \u001b[0mcoreset_size\u001b[0m\u001b[0;34m,\u001b[0m \u001b[0mbatch_size\u001b[0m\u001b[0;34m,\u001b[0m \u001b[0msingle_head\u001b[0m\u001b[0;34m)\u001b[0m\u001b[0;34m\u001b[0m\u001b[0;34m\u001b[0m\u001b[0m\n\u001b[0m\u001b[1;32m     13\u001b[0m     \u001b[0mprint\u001b[0m\u001b[0;34m(\u001b[0m\u001b[0mvcl_result\u001b[0m\u001b[0;34m)\u001b[0m\u001b[0;34m\u001b[0m\u001b[0;34m\u001b[0m\u001b[0m\n\u001b[1;32m     14\u001b[0m     \u001b[0msave_result\u001b[0m\u001b[0;34m(\u001b[0m\u001b[0mvcl_result\u001b[0m\u001b[0;34m,\u001b[0m \u001b[0;34m'splitMNIST'\u001b[0m\u001b[0;34m,\u001b[0m \u001b[0mepochs\u001b[0m\u001b[0;34m,\u001b[0m \u001b[0mcoreset_size\u001b[0m\u001b[0;34m,\u001b[0m \u001b[0mmode\u001b[0m\u001b[0;34m,\u001b[0m \u001b[0mhidden_size\u001b[0m\u001b[0;34m,\u001b[0m \u001b[0mheads\u001b[0m\u001b[0;34m,\u001b[0m \u001b[0;34m'categorical'\u001b[0m\u001b[0;34m)\u001b[0m\u001b[0;34m\u001b[0m\u001b[0;34m\u001b[0m\u001b[0m\n",
            "\u001b[0;32m<ipython-input-63-3cc5b014e87a>\u001b[0m in \u001b[0;36mvcl\u001b[0;34m(layers, heads, epochs, data, mode, size, batch_size, single_head)\u001b[0m\n\u001b[1;32m     18\u001b[0m     \u001b[0;32mif\u001b[0m \u001b[0mi\u001b[0m \u001b[0;34m!=\u001b[0m \u001b[0;36m0\u001b[0m\u001b[0;34m:\u001b[0m\u001b[0;34m\u001b[0m\u001b[0;34m\u001b[0m\u001b[0m\n\u001b[1;32m     19\u001b[0m       \u001b[0mmodel\u001b[0m \u001b[0;34m=\u001b[0m \u001b[0mMFVI\u001b[0m\u001b[0;34m(\u001b[0m\u001b[0min_dim\u001b[0m\u001b[0;34m,\u001b[0m \u001b[0mlayers\u001b[0m\u001b[0;34m,\u001b[0m \u001b[0mheads\u001b[0m\u001b[0;34m,\u001b[0m \u001b[0mout_dim\u001b[0m\u001b[0;34m,\u001b[0m \u001b[0mhead\u001b[0m\u001b[0;34m,\u001b[0m \u001b[0;34m(\u001b[0m\u001b[0mmodel\u001b[0m\u001b[0;34m.\u001b[0m\u001b[0mposterior\u001b[0m\u001b[0;34m,\u001b[0m \u001b[0mmodel\u001b[0m\u001b[0;34m.\u001b[0m\u001b[0mposterior_head\u001b[0m\u001b[0;34m)\u001b[0m\u001b[0;34m)\u001b[0m\u001b[0;34m.\u001b[0m\u001b[0mto\u001b[0m\u001b[0;34m(\u001b[0m\u001b[0mdevice\u001b[0m\u001b[0;34m)\u001b[0m\u001b[0;34m\u001b[0m\u001b[0;34m\u001b[0m\u001b[0m\n\u001b[0;32m---> 20\u001b[0;31m     \u001b[0mmodel\u001b[0m \u001b[0;34m=\u001b[0m \u001b[0mtrain_model\u001b[0m\u001b[0;34m(\u001b[0m\u001b[0mmodel\u001b[0m\u001b[0;34m,\u001b[0m \u001b[0mx_train\u001b[0m\u001b[0;34m,\u001b[0m \u001b[0my_train\u001b[0m\u001b[0;34m,\u001b[0m \u001b[0;32mlambda\u001b[0m \u001b[0mx\u001b[0m\u001b[0;34m,\u001b[0m \u001b[0my\u001b[0m\u001b[0;34m,\u001b[0m \u001b[0mz\u001b[0m\u001b[0;34m:\u001b[0m \u001b[0mmodel\u001b[0m\u001b[0;34m.\u001b[0m\u001b[0mkl_loss\u001b[0m\u001b[0;34m(\u001b[0m\u001b[0mx\u001b[0m\u001b[0;34m,\u001b[0m \u001b[0my\u001b[0m\u001b[0;34m,\u001b[0m \u001b[0mz\u001b[0m\u001b[0;34m,\u001b[0m \u001b[0mlen\u001b[0m\u001b[0;34m(\u001b[0m\u001b[0mx_train\u001b[0m\u001b[0;34m)\u001b[0m\u001b[0;34m)\u001b[0m\u001b[0;34m,\u001b[0m \u001b[0mhead\u001b[0m\u001b[0;34m,\u001b[0m \u001b[0mepochs\u001b[0m\u001b[0;34m=\u001b[0m\u001b[0mepochs\u001b[0m\u001b[0;34m,\u001b[0m \u001b[0mbatch_size\u001b[0m\u001b[0;34m=\u001b[0m\u001b[0mbatch_size\u001b[0m\u001b[0;34m)\u001b[0m\u001b[0;34m\u001b[0m\u001b[0;34m\u001b[0m\u001b[0m\n\u001b[0m\u001b[1;32m     21\u001b[0m \u001b[0;34m\u001b[0m\u001b[0m\n\u001b[1;32m     22\u001b[0m     \u001b[0mpred_model\u001b[0m \u001b[0;34m=\u001b[0m \u001b[0mMFVI\u001b[0m\u001b[0;34m(\u001b[0m\u001b[0min_dim\u001b[0m\u001b[0;34m,\u001b[0m \u001b[0mlayers\u001b[0m\u001b[0;34m,\u001b[0m \u001b[0mheads\u001b[0m\u001b[0;34m,\u001b[0m \u001b[0mout_dim\u001b[0m\u001b[0;34m,\u001b[0m \u001b[0mhead\u001b[0m\u001b[0;34m,\u001b[0m \u001b[0;34m(\u001b[0m\u001b[0mmodel\u001b[0m\u001b[0;34m.\u001b[0m\u001b[0mposterior\u001b[0m\u001b[0;34m,\u001b[0m \u001b[0mmodel\u001b[0m\u001b[0;34m.\u001b[0m\u001b[0mposterior_head\u001b[0m\u001b[0;34m)\u001b[0m\u001b[0;34m)\u001b[0m\u001b[0;34m.\u001b[0m\u001b[0mto\u001b[0m\u001b[0;34m(\u001b[0m\u001b[0mdevice\u001b[0m\u001b[0;34m)\u001b[0m\u001b[0;34m\u001b[0m\u001b[0;34m\u001b[0m\u001b[0m\n",
            "\u001b[0;32m<ipython-input-60-64ea0baf38b0>\u001b[0m in \u001b[0;36mtrain_model\u001b[0;34m(model, x_train, y_train, loss_fn, head, lr, epochs, batch_size)\u001b[0m\n\u001b[1;32m     12\u001b[0m           \u001b[0moptimizer\u001b[0m\u001b[0;34m.\u001b[0m\u001b[0mzero_grad\u001b[0m\u001b[0;34m(\u001b[0m\u001b[0;34m)\u001b[0m\u001b[0;34m\u001b[0m\u001b[0;34m\u001b[0m\u001b[0m\n\u001b[1;32m     13\u001b[0m           \u001b[0mloss\u001b[0m \u001b[0;34m=\u001b[0m \u001b[0mloss_fn\u001b[0m\u001b[0;34m(\u001b[0m\u001b[0mx_data\u001b[0m\u001b[0;34m,\u001b[0m \u001b[0my_data\u001b[0m\u001b[0;34m,\u001b[0m \u001b[0mhead\u001b[0m\u001b[0;34m)\u001b[0m\u001b[0;34m\u001b[0m\u001b[0;34m\u001b[0m\u001b[0m\n\u001b[0;32m---> 14\u001b[0;31m           \u001b[0mloss\u001b[0m\u001b[0;34m.\u001b[0m\u001b[0mbackward\u001b[0m\u001b[0;34m(\u001b[0m\u001b[0;34m)\u001b[0m\u001b[0;34m\u001b[0m\u001b[0;34m\u001b[0m\u001b[0m\n\u001b[0m\u001b[1;32m     15\u001b[0m           \u001b[0moptimizer\u001b[0m\u001b[0;34m.\u001b[0m\u001b[0mstep\u001b[0m\u001b[0;34m(\u001b[0m\u001b[0;34m)\u001b[0m\u001b[0;34m\u001b[0m\u001b[0;34m\u001b[0m\u001b[0m\n\u001b[1;32m     16\u001b[0m \u001b[0;34m\u001b[0m\u001b[0m\n",
            "\u001b[0;32m/usr/local/lib/python3.11/dist-packages/torch/_tensor.py\u001b[0m in \u001b[0;36mbackward\u001b[0;34m(self, gradient, retain_graph, create_graph, inputs)\u001b[0m\n\u001b[1;32m    624\u001b[0m                 \u001b[0minputs\u001b[0m\u001b[0;34m=\u001b[0m\u001b[0minputs\u001b[0m\u001b[0;34m,\u001b[0m\u001b[0;34m\u001b[0m\u001b[0;34m\u001b[0m\u001b[0m\n\u001b[1;32m    625\u001b[0m             )\n\u001b[0;32m--> 626\u001b[0;31m         torch.autograd.backward(\n\u001b[0m\u001b[1;32m    627\u001b[0m             \u001b[0mself\u001b[0m\u001b[0;34m,\u001b[0m \u001b[0mgradient\u001b[0m\u001b[0;34m,\u001b[0m \u001b[0mretain_graph\u001b[0m\u001b[0;34m,\u001b[0m \u001b[0mcreate_graph\u001b[0m\u001b[0;34m,\u001b[0m \u001b[0minputs\u001b[0m\u001b[0;34m=\u001b[0m\u001b[0minputs\u001b[0m\u001b[0;34m\u001b[0m\u001b[0;34m\u001b[0m\u001b[0m\n\u001b[1;32m    628\u001b[0m         )\n",
            "\u001b[0;32m/usr/local/lib/python3.11/dist-packages/torch/autograd/__init__.py\u001b[0m in \u001b[0;36mbackward\u001b[0;34m(tensors, grad_tensors, retain_graph, create_graph, grad_variables, inputs)\u001b[0m\n\u001b[1;32m    345\u001b[0m     \u001b[0;31m# some Python versions print out the first line of a multi-line function\u001b[0m\u001b[0;34m\u001b[0m\u001b[0;34m\u001b[0m\u001b[0m\n\u001b[1;32m    346\u001b[0m     \u001b[0;31m# calls in the traceback and some print out the last line\u001b[0m\u001b[0;34m\u001b[0m\u001b[0;34m\u001b[0m\u001b[0m\n\u001b[0;32m--> 347\u001b[0;31m     _engine_run_backward(\n\u001b[0m\u001b[1;32m    348\u001b[0m         \u001b[0mtensors\u001b[0m\u001b[0;34m,\u001b[0m\u001b[0;34m\u001b[0m\u001b[0;34m\u001b[0m\u001b[0m\n\u001b[1;32m    349\u001b[0m         \u001b[0mgrad_tensors_\u001b[0m\u001b[0;34m,\u001b[0m\u001b[0;34m\u001b[0m\u001b[0;34m\u001b[0m\u001b[0m\n",
            "\u001b[0;32m/usr/local/lib/python3.11/dist-packages/torch/autograd/graph.py\u001b[0m in \u001b[0;36m_engine_run_backward\u001b[0;34m(t_outputs, *args, **kwargs)\u001b[0m\n\u001b[1;32m    821\u001b[0m         \u001b[0munregister_hooks\u001b[0m \u001b[0;34m=\u001b[0m \u001b[0m_register_logging_hooks_on_whole_graph\u001b[0m\u001b[0;34m(\u001b[0m\u001b[0mt_outputs\u001b[0m\u001b[0;34m)\u001b[0m\u001b[0;34m\u001b[0m\u001b[0;34m\u001b[0m\u001b[0m\n\u001b[1;32m    822\u001b[0m     \u001b[0;32mtry\u001b[0m\u001b[0;34m:\u001b[0m\u001b[0;34m\u001b[0m\u001b[0;34m\u001b[0m\u001b[0m\n\u001b[0;32m--> 823\u001b[0;31m         return Variable._execution_engine.run_backward(  # Calls into the C++ engine to run the backward pass\n\u001b[0m\u001b[1;32m    824\u001b[0m             \u001b[0mt_outputs\u001b[0m\u001b[0;34m,\u001b[0m \u001b[0;34m*\u001b[0m\u001b[0margs\u001b[0m\u001b[0;34m,\u001b[0m \u001b[0;34m**\u001b[0m\u001b[0mkwargs\u001b[0m\u001b[0;34m\u001b[0m\u001b[0;34m\u001b[0m\u001b[0m\n\u001b[1;32m    825\u001b[0m         )  # Calls into the C++ engine to run the backward pass\n",
            "\u001b[0;31mKeyboardInterrupt\u001b[0m: "
          ]
        }
      ],
      "source": [
        "splitMNIST(120, 0, 'random', 0)"
      ]
    },
    {
      "cell_type": "code",
      "execution_count": null,
      "metadata": {
        "id": "8pO3XvdhMKWr"
      },
      "outputs": [],
      "source": [
        "splitMNIST(120, 40, 'random', 0)"
      ]
    },
    {
      "cell_type": "code",
      "execution_count": null,
      "metadata": {
        "id": "04uUgXHXUTdD"
      },
      "outputs": [],
      "source": [
        "splitMNIST(120, 40, 'centre', 0)"
      ]
    },
    {
      "cell_type": "code",
      "execution_count": null,
      "metadata": {
        "id": "odMzuEwPUTlm"
      },
      "outputs": [],
      "source": [
        "splitMNIST(120, 0, 'random', 1)"
      ]
    },
    {
      "cell_type": "code",
      "execution_count": null,
      "metadata": {
        "id": "jbNKawv-UbpB"
      },
      "outputs": [],
      "source": [
        "splitMNIST(120, 40, 'random', 1)"
      ]
    },
    {
      "cell_type": "code",
      "execution_count": null,
      "metadata": {
        "id": "6au6HUvZUdEb"
      },
      "outputs": [],
      "source": [
        "splitMNIST(120, 40, 'centre', 1)"
      ]
    },
    {
      "cell_type": "markdown",
      "metadata": {
        "id": "r-aOvtw0UUWQ"
      },
      "source": [
        "# Split notMNIST"
      ]
    },
    {
      "cell_type": "code",
      "execution_count": null,
      "metadata": {
        "id": "Afvhu-NgUa5k"
      },
      "outputs": [],
      "source": [
        "splitnotMNIST(120, 0, 'random', 0)"
      ]
    },
    {
      "cell_type": "code",
      "execution_count": null,
      "metadata": {
        "id": "IXVGcYZVTcd2"
      },
      "outputs": [],
      "source": [
        "splitnotMNIST(120, 40, 'random', 0)"
      ]
    },
    {
      "cell_type": "code",
      "execution_count": null,
      "metadata": {
        "id": "3LZwCBl3Uczh"
      },
      "outputs": [],
      "source": [
        "splitnotMNIST(120, 40, 'centre', 0)"
      ]
    },
    {
      "cell_type": "code",
      "execution_count": null,
      "metadata": {
        "id": "sB12nUZOUkPs"
      },
      "outputs": [],
      "source": [
        "splitnotMNIST(120, 0, 'random', 1)"
      ]
    },
    {
      "cell_type": "code",
      "execution_count": null,
      "metadata": {
        "id": "SeZC3lQNUn-d"
      },
      "outputs": [],
      "source": [
        "splitnotMNIST(120, 40, 'random', 1)"
      ]
    },
    {
      "cell_type": "code",
      "execution_count": null,
      "metadata": {
        "id": "kwcL5XhYUpbR"
      },
      "outputs": [],
      "source": [
        "splitnotMNIST(120, 40, 'centre', 1)"
      ]
    }
  ],
  "metadata": {
    "accelerator": "GPU",
    "colab": {
      "gpuType": "T4",
      "provenance": []
    },
    "kernelspec": {
      "display_name": "Python 3",
      "name": "python3"
    },
    "language_info": {
      "name": "python"
    }
  },
  "nbformat": 4,
  "nbformat_minor": 0
}