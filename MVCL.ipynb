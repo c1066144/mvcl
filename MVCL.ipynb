{
  "cells": [
    {
      "cell_type": "markdown",
      "metadata": {
        "id": "GeIPU1e8EWUT"
      },
      "source": [
        "# Imports"
      ]
    },
    {
      "cell_type": "code",
      "execution_count": null,
      "metadata": {
        "id": "0brFmBaN_wKG"
      },
      "outputs": [],
      "source": [
        "import numpy as np\n",
        "import torch\n",
        "import torch.nn as nn\n",
        "import torch.nn.functional as F\n",
        "import matplotlib.pyplot as plt\n",
        "import math\n",
        "import os\n",
        "from tqdm import tqdm\n",
        "from copy import deepcopy\n",
        "import random\n",
        "device = torch.device(\"cuda\" if torch.cuda.is_available() else \"cpu\")"
      ]
    },
    {
      "cell_type": "code",
      "execution_count": null,
      "metadata": {
        "colab": {
          "base_uri": "https://localhost:8080/"
        },
        "id": "WMGB55spwYzo",
        "outputId": "43bd0eac-72d0-4ef4-f061-d10f4d71827a"
      },
      "outputs": [
        {
          "output_type": "stream",
          "name": "stdout",
          "text": [
            "Drive already mounted at /content/drive; to attempt to forcibly remount, call drive.mount(\"/content/drive\", force_remount=True).\n"
          ]
        }
      ],
      "source": [
        "from google.colab import drive\n",
        "drive.mount('/content/drive')"
      ]
    },
    {
      "cell_type": "markdown",
      "metadata": {
        "id": "acZHDezSETRK"
      },
      "source": [
        "# Model"
      ]
    },
    {
      "cell_type": "code",
      "execution_count": null,
      "metadata": {
        "id": "TyeHT5f9_yH0"
      },
      "outputs": [],
      "source": [
        "def coreset(x_coresets, y_coresets, x_train, y_train, size, mode='random'):\n",
        "  if mode == 'centre':\n",
        "    indices = [0]\n",
        "    current = 0\n",
        "    dists = np.full(len(x_train), np.inf)\n",
        "    for i in range(1, size):\n",
        "      dists = np.minimum([np.linalg.norm(x_train[j] - x_train[current]) for j in range(len(x_train))], dists)\n",
        "      current = np.argmax(dists)\n",
        "      indices.append(current)\n",
        "  else:\n",
        "    indices = np.random.choice(len(x_train), size=size, replace=False)\n",
        "  x_coresets.append(x_train[indices])\n",
        "  y_coresets.append(y_train[indices])\n",
        "  x_train = np.delete(x_train, indices, axis = 0)\n",
        "  y_train = np.delete(y_train, indices, axis = 0)\n",
        "  return x_coresets, y_coresets, x_train, y_train"
      ]
    },
    {
      "cell_type": "code",
      "execution_count": null,
      "metadata": {
        "id": "SeEhiz2MmrDm"
      },
      "outputs": [],
      "source": [
        "class MFVI(nn.Module):\n",
        "  def __init__(self, input_dim, layers, heads, output_dim, head, prior = None):\n",
        "    super(MFVI, self).__init__()\n",
        "    self.input_dim = input_dim\n",
        "    self.layers = layers\n",
        "    self.heads = heads\n",
        "    self.output_dims = []\n",
        "\n",
        "    self.prior = None\n",
        "    self.prior_head = None\n",
        "    self.posterior = None\n",
        "    self.posterior_head = None\n",
        "    self._init_weights(prior, head, output_dim)\n",
        "\n",
        "  def forward(self, x, head):\n",
        "    sampled_layers = []\n",
        "    (w_means, w_logvars, b_means, b_logvars) = self.posterior\n",
        "    for i in range(len(w_means)):\n",
        "      w_epsilon = torch.randn_like(w_means[i])\n",
        "      b_epsilon = torch.randn_like(b_means[i])\n",
        "      sampled_layers.append((w_means[i] + w_epsilon * torch.exp(0.5*w_logvars[i]), b_means[i] + b_epsilon * torch.exp(0.5*b_logvars[i])))\n",
        "    (w_means, w_logvars, b_means, b_logvars) = self.posterior_head\n",
        "    i = 0\n",
        "    while i < len(w_means[head])-1:\n",
        "      w_epsilon = torch.randn_like(w_means[head][i])\n",
        "      b_epsilon = torch.randn_like(b_means[head][i])\n",
        "      sampled_layers.append((w_means[head][i] + w_epsilon * torch.exp(0.5*w_logvars[head][i]), b_means[head][i] + b_epsilon * torch.exp(0.5*b_logvars[head][i])))\n",
        "      i += 1\n",
        "    for layer in sampled_layers:\n",
        "      x = torch.relu(x @ layer[0] + layer[1])\n",
        "    w_epsilon = torch.randn_like(w_means[head][i])\n",
        "    b_epsilon = torch.randn_like(b_means[head][i])\n",
        "    x = x @ (w_means[head][i] + w_epsilon * torch.exp(0.5*w_logvars[head][i])) + (b_means[head][i] + b_epsilon * torch.exp(0.5*b_logvars[head][i]))\n",
        "    return x\n",
        "\n",
        "  def predict(self, x, head, num_samples = 100):\n",
        "    outputs = torch.empty(num_samples, len(x), self.output_dims[head])\n",
        "    for i in range(num_samples):\n",
        "      outputs[i] = nn.Softmax(dim = 1)(self.forward(x, head))\n",
        "    outputs = outputs.mean(dim = 0)\n",
        "    return outputs\n",
        "\n",
        "  def mle_loss(self, x, y, head):\n",
        "    for i in range(len(self.posterior[0])):\n",
        "      x = torch.relu(x @ self.posterior[0][i] + self.posterior[2][i])\n",
        "    i = 0\n",
        "    while i < len(self.posterior_head[0][head])-1:\n",
        "      x = torch.relu(x @ self.posterior_head[0][head][i] + self.posterior_head[2][head][i])\n",
        "      i += 1\n",
        "    x = x @ self.posterior_head[0][head][i] + self.posterior_head[2][head][i]\n",
        "    return nn.CrossEntropyLoss()(x, y)\n",
        "\n",
        "  def kl_loss(self, x, y, head, size = 60000, samples = 10):\n",
        "    kl = self.kl(head) / size\n",
        "    log_likelihood = self.log_likelihood(x, y, head, samples)\n",
        "    #print(kl, log_likelihood)\n",
        "    return kl - log_likelihood\n",
        "\n",
        "  def kl(self, head):\n",
        "    prior_means = torch.cat([torch.flatten(x).to(device) for x in self.prior[0] + self.prior[2] + [elem for sublist in self.prior_head[0] for elem in sublist] + [elem for sublist in self.prior_head[2] for elem in sublist]])\n",
        "    prior_logvars = torch.cat([torch.flatten(x).to(device) for x in self.prior[1] + self.prior[3] + [elem for sublist in self.prior_head[1] for elem in sublist] + [elem for sublist in self.prior_head[3] for elem in sublist]])\n",
        "    prior_vars = torch.exp(prior_logvars)\n",
        "    posterior_means = torch.cat([torch.flatten(x).to(device) for x in self.posterior[0] + self.posterior[2] + [elem for sublist in self.posterior_head[0] for elem in sublist] + [elem for sublist in self.posterior_head[2] for elem in sublist]])\n",
        "    posterior_logvars = torch.cat([torch.flatten(x).to(device) for x in self.posterior[1] + self.posterior[3] + [elem for sublist in self.posterior_head[1] for elem in sublist] + [elem for sublist in self.posterior_head[3] for elem in sublist]])\n",
        "    posterior_vars = torch.exp(posterior_logvars)\n",
        "    kl_normal = prior_logvars - posterior_logvars + (posterior_vars + torch.pow(posterior_means - prior_means, 2)) / (prior_vars + 1e-8) - 1\n",
        "    return torch.sum(kl_normal) * 0.5\n",
        "\n",
        "  def log_likelihood(self, x, y, head, samples):\n",
        "    outputs = []\n",
        "    for i in range(samples):\n",
        "      outputs.append(self.forward(x, head))\n",
        "    outputs = torch.cat(outputs)\n",
        "    return - nn.CrossEntropyLoss()(outputs, y.repeat(samples).view(-1))\n",
        "\n",
        "  def _init_weights(self, prior, head, output_dim):\n",
        "    parameter_mean = lambda x: nn.Parameter(torch.randn_like(x, requires_grad=True)*0.1)\n",
        "    parameter_var = lambda x: nn.Parameter(torch.ones_like(x, requires_grad=True)*-6*math.log(10))\n",
        "\n",
        "    if prior is not None:\n",
        "      self.output_dims = [x[-1].shape[0] for x in prior[1][2]]\n",
        "      self.prior = deepcopy(prior[0])\n",
        "      self.prior_head = deepcopy(prior[1])\n",
        "      self.posterior = deepcopy(prior[0])\n",
        "      self.posterior_head = deepcopy(prior[1])\n",
        "\n",
        "      if head == len(self.output_dims):\n",
        "        self.output_dims.append(output_dim)\n",
        "        head_params = [self.layers[-1]] + self.heads + [output_dim]\n",
        "\n",
        "        head_w_means = [torch.zeros(head_params[i], head_params[i+1]) for i in range(len(head_params)-1)]\n",
        "        head_w_logvars = [torch.zeros_like(head_w) for head_w in head_w_means]\n",
        "        head_b_means = [torch.zeros(head_params[i]) for i in range(1, len(head_params))]\n",
        "        head_b_logvars = [torch.zeros_like(head_b) for head_b in head_b_means]\n",
        "        self.prior_head[0].append(head_w_means)\n",
        "        self.prior_head[1].append(head_w_logvars)\n",
        "        self.prior_head[2].append(head_b_means)\n",
        "        self.prior_head[3].append(head_b_logvars)\n",
        "\n",
        "        head_w_means = [parameter_mean(head_w) for head_w in head_w_means]\n",
        "        head_w_logvars = [parameter_var(head_w) for head_w in head_w_logvars]\n",
        "        head_b_means = [parameter_mean(head_b) for head_b in head_b_means]\n",
        "        head_b_logvars = [parameter_var(head_b) for head_b in head_b_logvars]\n",
        "        self.posterior_head[0].append(head_w_means)\n",
        "        self.posterior_head[1].append(head_w_logvars)\n",
        "        self.posterior_head[2].append(head_b_means)\n",
        "        self.posterior_head[3].append(head_b_logvars)\n",
        "\n",
        "      elif head < 0 or head > len(self.prior_head[0]) + 1:\n",
        "        raise Exception('Invalid head')\n",
        "\n",
        "    else:\n",
        "      self.output_dims.append(output_dim)\n",
        "      w_means = [torch.zeros(self.input_dim, self.layers[0])] + [torch.zeros(self.layers[i], self.layers[i+1]) for i in range(len(self.layers)-1)]\n",
        "      w_logvars = [torch.zeros_like(w) for w in w_means]\n",
        "      b_means = [torch.zeros(self.layers[i]) for i in range(len(self.layers))]\n",
        "      b_logvars = [torch.zeros_like(b) for b in b_means]\n",
        "      self.prior = (w_means, w_logvars, b_means, b_logvars)\n",
        "\n",
        "      head_params = [self.layers[-1]] + self.heads + [output_dim]\n",
        "      head_w_means = [[torch.zeros(head_params[i], head_params[i+1]) for i in range(len(head_params)-1)]]\n",
        "      head_w_logvars = [[torch.zeros_like(head_w) for head_w in head] for head in head_w_means]\n",
        "      head_b_means = [[torch.zeros(head_params[i]) for i in range(1, len(head_params))]]\n",
        "      head_b_logvars = [[torch.zeros_like(head_b) for head_b in head] for head in head_b_means]\n",
        "      self.prior_head = (head_w_means, head_w_logvars, head_b_means, head_b_logvars)\n",
        "\n",
        "      w_means = [parameter_mean(w) for w in self.prior[0]]\n",
        "      w_logvars = [parameter_var(w) for w in self.prior[1]]\n",
        "      b_means = [parameter_mean(b) for b in self.prior[2]]\n",
        "      b_logvars = [parameter_var(b) for b in self.prior[3]]\n",
        "      self.posterior = (w_means, w_logvars, b_means, b_logvars)\n",
        "\n",
        "      head_w_means = [[parameter_mean(head_w) for head_w in head] for head in self.prior_head[0]]\n",
        "      head_w_logvars = [[parameter_var(head_w) for head_w in head] for head in self.prior_head[1]]\n",
        "      head_b_means = [[parameter_mean(head_b) for head_b in head] for head in self.prior_head[2]]\n",
        "      head_b_logvars = [[parameter_var(head_b) for head_b in head] for head in self.prior_head[3]]\n",
        "      self.posterior_head = (head_w_means, head_w_logvars, head_b_means, head_b_logvars)\n",
        "\n",
        "    for i in range(len(self.prior[0])):\n",
        "      self.register_buffer(f'w_means_{i}', self.prior[0][i])\n",
        "      self.register_buffer(f'w_logvars_{i}', self.prior[1][i])\n",
        "      self.register_buffer(f'b_means_{i}', self.prior[2][i])\n",
        "      self.register_buffer(f'b_logvars_{i}', self.prior[3][i])\n",
        "\n",
        "    for i in range(len(self.prior_head[0])):\n",
        "      for j in range(len(self.prior_head[0][i])):\n",
        "        self.register_buffer(f'head_w_means_{i}_{j}', self.prior_head[0][i][j])\n",
        "        self.register_buffer(f'head_w_logvars_{i}_{j}', self.prior_head[1][i][j])\n",
        "        self.register_buffer(f'head_b_means_{i}_{j}', self.prior_head[2][i][j])\n",
        "        self.register_buffer(f'head_b_logvars_{i}_{j}', self.prior_head[3][i][j])\n",
        "\n",
        "    for i in range(len(self.posterior[0])):\n",
        "      self.register_parameter(f'post_w_means_{i}', self.posterior[0][i])\n",
        "      self.register_parameter(f'post_w_logvars_{i}', self.posterior[1][i])\n",
        "      self.register_parameter(f'post_b_means_{i}', self.posterior[2][i])\n",
        "      self.register_parameter(f'post_b_logvars_{i}', self.posterior[3][i])\n",
        "\n",
        "    for i in range(len(self.posterior_head[0])):\n",
        "      for j in range(len(self.posterior_head[0][i])):\n",
        "        self.register_parameter(f'post_head_w_means_{i}_{j}', self.posterior_head[0][i][j])\n",
        "        self.register_parameter(f'post_head_w_logvars_{i}_{j}', self.posterior_head[1][i][j])\n",
        "        self.register_parameter(f'post_head_b_means_{i}_{j}', self.posterior_head[2][i][j])\n",
        "        self.register_parameter(f'post_head_b_logvars_{i}_{j}', self.posterior_head[3][i][j])"
      ]
    },
    {
      "cell_type": "markdown",
      "metadata": {
        "id": "V2xRRcrqyYF9"
      },
      "source": [
        "# Train and test"
      ]
    },
    {
      "cell_type": "code",
      "execution_count": null,
      "metadata": {
        "id": "HmU8eOn4s-VY"
      },
      "outputs": [],
      "source": [
        "from torch.utils.data import Dataset, DataLoader\n",
        "class numpy_dataset(Dataset):  # Inherit from Dataset class\n",
        "    def __init__(self, data, target):\n",
        "        ## Add code here\n",
        "        self.data = torch.from_numpy(data)\n",
        "        self.target = torch.from_numpy(target)\n",
        "\n",
        "    def __getitem__(self, index):\n",
        "        x = self.data[index]\n",
        "        y = self.target[index]\n",
        "        return x, y\n",
        "\n",
        "    def __len__(self):\n",
        "        return len(self.data)"
      ]
    },
    {
      "cell_type": "code",
      "execution_count": null,
      "metadata": {
        "id": "D-J9s3pbFV_T"
      },
      "outputs": [],
      "source": [
        "def train_model(model, x_train, y_train, loss_fn, head, lr=1e-3, epochs=100, batch_size=256):\n",
        "    model.train()\n",
        "    optimizer = torch.optim.Adam(model.parameters(), lr=lr)\n",
        "    train_dataset = numpy_dataset(x_train, y_train)\n",
        "    train_loader = DataLoader(train_dataset, batch_size=batch_size, shuffle = True)\n",
        "    progress = tqdm(range(epochs), 'Epochs: ')\n",
        "    for epoch in progress:\n",
        "        correct = 0\n",
        "        total = 0\n",
        "        for batch_idx, (x_data, y_data) in enumerate(train_loader):\n",
        "          x_data, y_data = x_data.to(device), y_data.to(device)\n",
        "          optimizer.zero_grad()\n",
        "          loss = loss_fn(x_data, y_data, head)\n",
        "          loss.backward()\n",
        "          optimizer.step()\n",
        "\n",
        "          y_pred = model(x_data, head)\n",
        "          _, predicted = torch.max(y_pred.data, 1)\n",
        "          total += y_data.size(0)\n",
        "          correct += (predicted == y_data).sum().item()\n",
        "\n",
        "        progress.set_postfix_str(f'Loss: {loss.item():.4f}, Acc: {correct/total:.4f}')\n",
        "    return model"
      ]
    },
    {
      "cell_type": "code",
      "execution_count": null,
      "metadata": {
        "id": "LQcISP7hsQLR"
      },
      "outputs": [],
      "source": [
        "def coreset_train_model(model, x_coresets, y_coresets, loss_fn, single_head, lr=1e-3, epochs=100, batch_size=256):\n",
        "    if len(x_coresets) == 0:\n",
        "      return model\n",
        "    model.train()\n",
        "    optimizer = torch.optim.Adam(model.parameters(), lr=lr)\n",
        "    train_datasets = [numpy_dataset(x_coresets[i], y_coresets[i]) for i in range(len(x_coresets))]\n",
        "    train_loaders = [DataLoader(train_dataset, batch_size=batch_size, shuffle = True) for train_dataset in train_datasets]\n",
        "    tasks = [i for i in range(len(x_coresets))]\n",
        "    progress = tqdm(range(epochs), 'Epochs: ')\n",
        "    for epoch in progress:\n",
        "        random.shuffle(tasks)\n",
        "        correct = 0\n",
        "        total = 0\n",
        "        for task in tasks:\n",
        "          train_loader = train_loaders[task]\n",
        "          head = 0 if single_head else task\n",
        "          for batch_idx, (x_data, y_data) in enumerate(train_loader):\n",
        "            x_data, y_data = x_data.to(device), y_data.to(device)\n",
        "            optimizer.zero_grad()\n",
        "            loss = loss_fn(x_data, y_data, head, len(x_coresets[task]))\n",
        "            loss.backward()\n",
        "            optimizer.step()\n",
        "\n",
        "            y_pred = model(x_data, head)\n",
        "            _, predicted = torch.max(y_pred.data, 1)\n",
        "            total += y_data.size(0)\n",
        "            correct += (predicted == y_data).sum().item()\n",
        "\n",
        "        progress.set_postfix_str(f'Loss: {loss.item():.4f}, Acc: {correct/total:.4f}')\n",
        "    return model"
      ]
    },
    {
      "cell_type": "code",
      "execution_count": null,
      "metadata": {
        "id": "CNVa72fKe3rj"
      },
      "outputs": [],
      "source": [
        "def test_model(model, test_data, head, x_core, y_core, l = \"cat\"):\n",
        "  model.eval()\n",
        "  correct = 0\n",
        "  total = 0\n",
        "  test = numpy_dataset(test_data[0], test_data[1])\n",
        "  test_loader = DataLoader(test, batch_size=len(test_data[0]))\n",
        "  with torch.no_grad():\n",
        "    for batch_idx, (x_data, y_data) in enumerate(test_loader):\n",
        "      x_data, y_data = x_data.to(device), y_data.to(device)\n",
        "      y_pred = model.predict(x_data, head).to(device)\n",
        "      _, predicted = torch.max(y_pred.data, 1)\n",
        "      if l == \"cat\":\n",
        "        loss = torch.sqrt(nn.MSELoss()(y_pred, F.one_hot(y_data)))\n",
        "        correct += (predicted == y_data).sum().item()\n",
        "      else:\n",
        "        loss = torch.sqrt(nn.MSELoss()(y_pred, y_data))\n",
        "        correct += (predicted == y_data).sum().item()\n",
        "      total += y_data.size(0)\n",
        "\n",
        "  return correct, total, loss.item()"
      ]
    },
    {
      "cell_type": "markdown",
      "metadata": {
        "id": "ZPe7hml986Q-"
      },
      "source": [
        "# VCL"
      ]
    },
    {
      "cell_type": "code",
      "execution_count": null,
      "metadata": {
        "id": "xie9odJdBXLz"
      },
      "outputs": [],
      "source": [
        "def vcl(layers, heads, epochs, data, mode, size, batch_size, single_head):\n",
        "  in_dim, out_dim = data.get_dims()\n",
        "  x_coresets = []\n",
        "  y_coresets = []\n",
        "  accuracy = []\n",
        "  test_sets = []\n",
        "  model = MFVI(in_dim, layers, heads, out_dim, 0).to(device)\n",
        "  for i in range(data.max_iter):\n",
        "    print(f'Task {i + 1}')\n",
        "    x_train, y_train, x_test, y_test = data.next_task()\n",
        "    test_sets.append([x_test, y_test])\n",
        "\n",
        "    head = 0 if single_head else i\n",
        "    if i == 0:\n",
        "      model = train_model(model, x_train, y_train, model.mle_loss, head, epochs=epochs, batch_size=batch_size)\n",
        "    if size > 0:\n",
        "      x_coresets, y_coresets, x_train, y_train = coreset(x_coresets, y_coresets, x_train, y_train, size, mode=mode)\n",
        "    if i != 0:\n",
        "      model = MFVI(in_dim, layers, heads, out_dim, head, (model.posterior, model.posterior_head)).to(device)\n",
        "    model = train_model(model, x_train, y_train, lambda x, y, z: model.kl_loss(x, y, z, len(x_train)), head, epochs=epochs, batch_size=batch_size)\n",
        "\n",
        "    pred_model = MFVI(in_dim, layers, heads, out_dim, head, (model.posterior, model.posterior_head)).to(device)\n",
        "    pred_model = coreset_train_model(pred_model, x_coresets, y_coresets, pred_model.kl_loss, single_head, epochs=epochs, batch_size=batch_size)\n",
        "\n",
        "    acc_iter = {}\n",
        "    all = (0,0)\n",
        "    losses = 0\n",
        "    for j, test in enumerate(test_sets):\n",
        "      h = 0 if single_head else j\n",
        "      correct, total, loss = test_model(pred_model, test, h, x_coresets, y_coresets)\n",
        "      acc_iter[j] = [correct/total, loss]\n",
        "      all = (all[0]+correct, all[1]+total)\n",
        "      losses += loss*total\n",
        "      print(f'Loss = {loss}, Accuracy: {correct/total}', end='\\n' if j == len(test_sets)-1 else ', ')\n",
        "    acc_iter['all'] = [all[0]/all[1], losses/all[1]]\n",
        "    print(f'Loss = {losses/all[1]}, Accuracy: {all[0]/all[1]}')\n",
        "    accuracy.append(acc_iter)\n",
        "  return accuracy"
      ]
    },
    {
      "cell_type": "markdown",
      "metadata": {
        "id": "VQpRgnEmya4j"
      },
      "source": [
        "# Generators"
      ]
    },
    {
      "cell_type": "code",
      "execution_count": null,
      "metadata": {
        "id": "cKSDa7G_KI_o"
      },
      "outputs": [],
      "source": [
        "from copy import deepcopy\n",
        "from torchvision.datasets import MNIST\n",
        "import torchvision.transforms as T"
      ]
    },
    {
      "cell_type": "code",
      "execution_count": null,
      "metadata": {
        "id": "eL-c_8hFKDsm"
      },
      "outputs": [],
      "source": [
        "class PermutedMnistGenerator():\n",
        "    def __init__(self, max_iter=10):\n",
        "        mnist_trainset = MNIST(root='./data', train=True, download=True)\n",
        "        mnist_testset = MNIST(root='./data', train=False, download=True)\n",
        "        self.X_train = mnist_trainset.data.numpy().astype(np.float32).reshape(-1, 28*28)/255\n",
        "        self.Y_train = mnist_trainset.targets.numpy()\n",
        "        self.X_test = mnist_testset.data.numpy().astype(np.float32).reshape(-1, 28*28)/255\n",
        "        self.Y_test = mnist_testset.targets.numpy()\n",
        "        self.max_iter = max_iter\n",
        "        self.cur_iter = 0\n",
        "\n",
        "    def get_dims(self):\n",
        "        # Get data input and output dimensions\n",
        "        return 28*28, 10\n",
        "\n",
        "    def next_task(self):\n",
        "        if self.cur_iter >= self.max_iter:\n",
        "            raise Exception('Number of tasks exceeded!')\n",
        "        else:\n",
        "            permutation = torch.randperm(784)\n",
        "            # Retrieve train data\n",
        "            next_x_train = deepcopy(self.X_train)\n",
        "            next_x_train = next_x_train[:,permutation]\n",
        "            next_y_train = deepcopy(self.Y_train)\n",
        "\n",
        "            # Retrieve test data\n",
        "            next_x_test = deepcopy(self.X_test)\n",
        "            next_x_test = next_x_test[:,permutation]\n",
        "            next_y_test = deepcopy(self.Y_test)\n",
        "\n",
        "            self.cur_iter += 1\n",
        "\n",
        "            return next_x_train, next_y_train, next_x_test, next_y_test"
      ]
    },
    {
      "cell_type": "code",
      "execution_count": null,
      "metadata": {
        "id": "74lsA6KFK--e"
      },
      "outputs": [],
      "source": [
        "class SplitMnistGenerator():\n",
        "    def __init__(self, max_iter=5):\n",
        "        mnist_trainset = MNIST(root='./data', train=True, download=True)\n",
        "        mnist_testset = MNIST(root='./data', train=False, download=True)\n",
        "        trainsets = [[] for i in range(10)]\n",
        "        for i in range(len(mnist_trainset.targets)):\n",
        "          trainsets[mnist_trainset.targets[i]].append(i)\n",
        "        testsets = [[] for i in range(10)]\n",
        "        for i in range(len(mnist_testset.targets)):\n",
        "          testsets[mnist_testset.targets[i]].append(i)\n",
        "\n",
        "        self.X_train = mnist_trainset.data.numpy().astype(np.float32).reshape(-1, 28*28)/255\n",
        "        self.Y_train = mnist_trainset.targets.numpy() % 2\n",
        "        self.X_test = mnist_testset.data.numpy().astype(np.float32).reshape(-1, 28*28)/255\n",
        "        self.Y_test = mnist_testset.targets.numpy() % 2\n",
        "        self.X_trains = [self.X_train[trainsets[i]] for i in range(10)]\n",
        "        self.Y_trains = [self.Y_train[trainsets[i]] for i in range(10)]\n",
        "        self.X_tests = [self.X_test[testsets[i]] for i in range(10)]\n",
        "        self.Y_tests = [self.Y_test[testsets[i]] for i in range(10)]\n",
        "        self.max_iter = max_iter\n",
        "        self.cur_iter = 0\n",
        "\n",
        "    def get_dims(self):\n",
        "        # Get data input and output dimensions\n",
        "        return 28*28, 2\n",
        "\n",
        "    def next_task(self):\n",
        "        if self.cur_iter >= self.max_iter:\n",
        "            raise Exception('Number of tasks exceeded!')\n",
        "        else:\n",
        "          next_x_train = np.concat(self.X_trains[self.cur_iter*2:self.cur_iter*2+2])\n",
        "          next_y_train = np.concat(self.Y_trains[self.cur_iter*2:self.cur_iter*2+2])\n",
        "          next_x_test = np.concat(self.X_tests[self.cur_iter*2:self.cur_iter*2+2])\n",
        "          next_y_test = np.concat(self.Y_tests[self.cur_iter*2:self.cur_iter*2+2])\n",
        "\n",
        "          self.cur_iter += 1\n",
        "          return next_x_train, next_y_train, next_x_test, next_y_test\n",
        "\n"
      ]
    },
    {
      "cell_type": "code",
      "execution_count": null,
      "metadata": {
        "id": "LjXz97LnoHB0"
      },
      "outputs": [],
      "source": [
        "class SplitNotMnistGenerator():\n",
        "    def __init__(self, max_iter=5):\n",
        "        path = \"/content/drive/MyDrive/notMNIST/train\"\n",
        "        dirs = os.listdir( path )\n",
        "        dirs.sort()\n",
        "\n",
        "        self.X_trains = [0 for _ in range(10)]\n",
        "        self.Y_trains = [0 for _ in range(10)]\n",
        "        self.X_tests =  [0 for _ in range(10)]\n",
        "        self.Y_tests =  [0 for _ in range(10)]\n",
        "\n",
        "        for i in range(len(dirs)):\n",
        "          x = np.load(path+\"/\"+dirs[i]).astype(np.float32).reshape(-1, 28*28)/255\n",
        "          y = np.full(x.shape[0], i // 5)\n",
        "          self.X_trains[i] = np.array(x)\n",
        "          self.Y_trains[i] = np.array(y)\n",
        "\n",
        "        path = \"/content/drive/MyDrive/notMNIST/test\"\n",
        "        dirs = os.listdir( path )\n",
        "        dirs.sort()\n",
        "\n",
        "        for i in range(len(dirs)):\n",
        "          x = np.load(path+\"/\"+dirs[i]).astype(np.float32).reshape(-1, 28*28)/255\n",
        "          y = np.full(x.shape[0], i // 5)\n",
        "          self.X_tests[i] = np.array(x)\n",
        "          self.Y_tests[i] = np.array(y)\n",
        "\n",
        "        self.max_iter = max_iter\n",
        "        self.cur_iter = 0\n",
        "\n",
        "    def get_dims(self):\n",
        "        # Get data input and output dimensions\n",
        "        return 28*28, 2\n",
        "\n",
        "    def next_task(self):\n",
        "        if self.cur_iter >= self.max_iter:\n",
        "            raise Exception('Number of tasks exceeded!')\n",
        "        else:\n",
        "          next_x_train = np.concat(self.X_trains[self.cur_iter::5])\n",
        "          next_y_train = np.concat(self.Y_trains[self.cur_iter::5])\n",
        "          next_x_test = np.concat(self.X_tests[self.cur_iter::5])\n",
        "          next_y_test = np.concat(self.Y_tests[self.cur_iter::5])\n",
        "\n",
        "          self.cur_iter += 1\n",
        "          return next_x_train, next_y_train, next_x_test, next_y_test\n"
      ]
    },
    {
      "cell_type": "code",
      "execution_count": null,
      "metadata": {
        "id": "qHJy9fb6STTK"
      },
      "outputs": [],
      "source": [
        "from datetime import datetime\n",
        "\n",
        "def save_result(vcl_result, task, epochs, size, mode, hidden_size, heads, method):\n",
        "  if not os.path.exists(f'/content/drive/MyDrive/logs/'):\n",
        "    os.makedirs(f'/content/drive/MyDrive/logs/')\n",
        "  with open(f'/content/drive/MyDrive/logs/{task}_{epochs}_{size}_{mode}_{datetime.now().strftime(\"%Y-%m-%d_%H:%M:%S\")}.txt', 'w') as f:\n",
        "    f.write(f'hidden_size: {hidden_size}\\n')\n",
        "    f.write(f'heads: {heads}\\n')\n",
        "    f.write(f'method: {method}\\n')\n",
        "    for result in vcl_result:\n",
        "      f.write(f\"{result}\\n\")"
      ]
    },
    {
      "cell_type": "markdown",
      "metadata": {
        "id": "8tF5kX7xyIJj"
      },
      "source": [
        "# Experiments"
      ]
    },
    {
      "cell_type": "code",
      "execution_count": null,
      "metadata": {
        "id": "JYPY4pmvKVHA"
      },
      "outputs": [],
      "source": [
        "def permutedMNIST(epochs, coreset_size, mode, version, ):\n",
        "    if version == 1:\n",
        "      hidden_size = [100]\n",
        "      heads = [10]\n",
        "    else:\n",
        "      hidden_size = [100, 100]\n",
        "      heads = []\n",
        "    batch_size = 256\n",
        "    single_head = False\n",
        "\n",
        "    data_gen = PermutedMnistGenerator(10)\n",
        "    vcl_result = vcl(hidden_size, heads, epochs, data_gen, mode, coreset_size, batch_size, single_head)\n",
        "    print(vcl_result)\n",
        "    save_result(vcl_result, 'permutedMNIST', epochs, coreset_size, mode, hidden_size, heads, 'categorical')\n",
        "\n",
        "    for i in range(10):\n",
        "      plt.plot([x for x in range(i,10)], [result[i][0] for result in vcl_result if i in result])\n",
        "    plt.plot([x for x in range(10)], [result['all'][0] for result in vcl_result])\n",
        "    plt.show()"
      ]
    },
    {
      "cell_type": "code",
      "execution_count": null,
      "metadata": {
        "id": "3hzV5waJSvGo"
      },
      "outputs": [],
      "source": [
        "def splitMNIST(epochs, coreset_size, mode, version):\n",
        "    if version == 1:\n",
        "      hidden_size = [256]\n",
        "      heads = [51]\n",
        "    else:\n",
        "      hidden_size = [256, 256]\n",
        "      heads = []\n",
        "    batch_size = 256\n",
        "    single_head = False\n",
        "\n",
        "    data_gen = SplitMnistGenerator(5)\n",
        "    vcl_result = vcl(hidden_size, heads, epochs, data_gen, mode, coreset_size, batch_size, single_head)\n",
        "    print(vcl_result)\n",
        "    save_result(vcl_result, 'splitMNIST', epochs, coreset_size, mode, hidden_size, heads, 'categorical')\n",
        "\n",
        "    for i in range(5):\n",
        "      plt.plot([x for x in range(i,5)], [result[i][0] for result in vcl_result if i in result])\n",
        "    plt.plot([x for x in range(5)], [result['all'][0] for result in vcl_result])\n",
        "    plt.show()"
      ]
    },
    {
      "cell_type": "code",
      "execution_count": null,
      "metadata": {
        "id": "m2mTl3MNTOez"
      },
      "outputs": [],
      "source": [
        "def splitnotMNIST(epochs, coreset_size, mode, version):\n",
        "    if version == 1:\n",
        "      hidden_size = [150, 150, 150]\n",
        "      heads = [30]\n",
        "    else:\n",
        "      hidden_size = [150, 150, 150, 150]\n",
        "      heads = []\n",
        "    batch_size = 256\n",
        "    single_head = False\n",
        "\n",
        "    data_gen = SplitNotMnistGenerator(5)\n",
        "    vcl_result = vcl(hidden_size, heads, epochs, data_gen, mode, coreset_size, batch_size, single_head)\n",
        "    print(vcl_result)\n",
        "    save_result(vcl_result, 'splitnotMNIST', epochs, coreset_size, mode, hidden_size, heads, 'categorical')\n",
        "\n",
        "    for i in range(5):\n",
        "      plt.plot([x for x in range(i,5)], [result[i][0] for result in vcl_result if i in result])\n",
        "    plt.plot([x for x in range(5)], [result['all'][0] for result in vcl_result])\n",
        "    plt.show()"
      ]
    },
    {
      "cell_type": "markdown",
      "metadata": {
        "id": "fiHvThXAyTwT"
      },
      "source": [
        "# Permuted MNIST"
      ]
    },
    {
      "cell_type": "code",
      "execution_count": null,
      "metadata": {
        "id": "VEUwg4pDTsnz",
        "colab": {
          "base_uri": "https://localhost:8080/",
          "height": 1000
        },
        "outputId": "1fc7ff35-2aff-465b-cd80-0fee30cc4a8b"
      },
      "outputs": [
        {
          "output_type": "stream",
          "name": "stderr",
          "text": [
            "100%|██████████| 1.65M/1.65M [00:01<00:00, 1.27MB/s]\n",
            "100%|██████████| 4.54k/4.54k [00:00<00:00, 5.61MB/s]\n"
          ]
        },
        {
          "output_type": "stream",
          "name": "stdout",
          "text": [
            "Task 1\n"
          ]
        },
        {
          "output_type": "stream",
          "name": "stderr",
          "text": [
            "Epochs: 100%|██████████| 100/100 [02:38<00:00,  1.58s/it, Loss: 0.0000, Acc: 0.9956]\n",
            "Epochs: 100%|██████████| 100/100 [08:32<00:00,  5.12s/it, Loss: 0.4883, Acc: 0.9724]\n"
          ]
        },
        {
          "output_type": "stream",
          "name": "stdout",
          "text": [
            "Loss = 0.054917823523283005, Accuracy: 0.9821\n",
            "Loss = 0.054917823523283005, Accuracy: 0.9821\n",
            "Task 2\n"
          ]
        },
        {
          "output_type": "stream",
          "name": "stderr",
          "text": [
            "Epochs: 100%|██████████| 100/100 [08:36<00:00,  5.16s/it, Loss: 0.3029, Acc: 0.9592]\n"
          ]
        },
        {
          "output_type": "stream",
          "name": "stdout",
          "text": [
            "Loss = 0.06896842271089554, Accuracy: 0.9718, Loss = 0.0696832612156868, Accuracy: 0.9692\n",
            "Loss = 0.06932584196329117, Accuracy: 0.9705\n",
            "Task 3\n"
          ]
        },
        {
          "output_type": "stream",
          "name": "stderr",
          "text": [
            "Epochs: 100%|██████████| 100/100 [08:38<00:00,  5.18s/it, Loss: 0.2490, Acc: 0.9568]\n"
          ]
        },
        {
          "output_type": "stream",
          "name": "stdout",
          "text": [
            "Loss = 0.07743510603904724, Accuracy: 0.9643, Loss = 0.07705415785312653, Accuracy: 0.9617, Loss = 0.0720771998167038, Accuracy: 0.9669\n",
            "Loss = 0.07552215456962585, Accuracy: 0.9643\n",
            "Task 4\n"
          ]
        },
        {
          "output_type": "stream",
          "name": "stderr",
          "text": [
            "Epochs: 100%|██████████| 100/100 [08:42<00:00,  5.22s/it, Loss: 0.2426, Acc: 0.9552]\n"
          ]
        },
        {
          "output_type": "stream",
          "name": "stdout",
          "text": [
            "Loss = 0.07755201309919357, Accuracy: 0.9624, Loss = 0.0871046856045723, Accuracy: 0.9513, Loss = 0.07877753674983978, Accuracy: 0.9602, Loss = 0.07488330453634262, Accuracy: 0.9648\n",
            "Loss = 0.07957938499748707, Accuracy: 0.959675\n",
            "Task 5\n"
          ]
        },
        {
          "output_type": "stream",
          "name": "stderr",
          "text": [
            "Epochs: 100%|██████████| 100/100 [08:39<00:00,  5.19s/it, Loss: 0.4196, Acc: 0.9536]\n"
          ]
        },
        {
          "output_type": "stream",
          "name": "stdout",
          "text": [
            "Loss = 0.08449061959981918, Accuracy: 0.9553, Loss = 0.09236134588718414, Accuracy: 0.9442, Loss = 0.08850076049566269, Accuracy: 0.9492, Loss = 0.08084467053413391, Accuracy: 0.9583, Loss = 0.0775512307882309, Accuracy: 0.9623\n",
            "Loss = 0.08474972546100616, Accuracy: 0.95386\n",
            "Task 6\n"
          ]
        },
        {
          "output_type": "stream",
          "name": "stderr",
          "text": [
            "Epochs: 100%|██████████| 100/100 [08:40<00:00,  5.20s/it, Loss: 0.2111, Acc: 0.9531]\n"
          ]
        },
        {
          "output_type": "stream",
          "name": "stdout",
          "text": [
            "Loss = 0.0917341411113739, Accuracy: 0.9492, Loss = 0.11121229082345963, Accuracy: 0.9166, Loss = 0.10655010491609573, Accuracy: 0.9241, Loss = 0.08892926573753357, Accuracy: 0.9499, Loss = 0.08657016605138779, Accuracy: 0.9527, Loss = 0.07957876473665237, Accuracy: 0.9588\n",
            "Loss = 0.09409578889608383, Accuracy: 0.9418833333333333\n",
            "Task 7\n"
          ]
        },
        {
          "output_type": "stream",
          "name": "stderr",
          "text": [
            "Epochs: 100%|██████████| 100/100 [08:41<00:00,  5.21s/it, Loss: 0.4273, Acc: 0.9510]\n"
          ]
        },
        {
          "output_type": "stream",
          "name": "stdout",
          "text": [
            "Loss = 0.09173363447189331, Accuracy: 0.9494, Loss = 0.12346207350492477, Accuracy: 0.8977, Loss = 0.11166244000196457, Accuracy: 0.9179, Loss = 0.10242148488759995, Accuracy: 0.9327, Loss = 0.09569912403821945, Accuracy: 0.9428, Loss = 0.08720996230840683, Accuracy: 0.9508, Loss = 0.08045778423547745, Accuracy: 0.9584\n",
            "Loss = 0.09894950049264091, Accuracy: 0.9356714285714286\n",
            "Task 8\n"
          ]
        },
        {
          "output_type": "stream",
          "name": "stderr",
          "text": [
            "Epochs: 100%|██████████| 100/100 [08:46<00:00,  5.26s/it, Loss: 0.2565, Acc: 0.9450]\n"
          ]
        },
        {
          "output_type": "stream",
          "name": "stdout",
          "text": [
            "Loss = 0.1019890084862709, Accuracy: 0.9355, Loss = 0.13017943501472473, Accuracy: 0.8859, Loss = 0.11513634771108627, Accuracy: 0.9145, Loss = 0.11906503140926361, Accuracy: 0.9076, Loss = 0.11508707702159882, Accuracy: 0.9128, Loss = 0.09202317148447037, Accuracy: 0.9435, Loss = 0.08888158947229385, Accuracy: 0.95, Loss = 0.08671368658542633, Accuracy: 0.9516\n",
            "Loss = 0.10613441839814186, Accuracy: 0.925175\n",
            "Task 9\n"
          ]
        },
        {
          "output_type": "stream",
          "name": "stderr",
          "text": [
            "Epochs: 100%|██████████| 100/100 [08:58<00:00,  5.38s/it, Loss: 0.3787, Acc: 0.9444]\n"
          ]
        },
        {
          "output_type": "stream",
          "name": "stdout",
          "text": [
            "Loss = 0.10682039707899094, Accuracy: 0.93, Loss = 0.14843738079071045, Accuracy: 0.8484, Loss = 0.13046494126319885, Accuracy: 0.8861, Loss = 0.13626980781555176, Accuracy: 0.8738, Loss = 0.12456633150577545, Accuracy: 0.8956, Loss = 0.10952939838171005, Accuracy: 0.9199, Loss = 0.09806491434574127, Accuracy: 0.9378, Loss = 0.09630405902862549, Accuracy: 0.9389, Loss = 0.08404162526130676, Accuracy: 0.9539\n",
            "Loss = 0.11494431727462345, Accuracy: 0.9093777777777777\n",
            "Task 10\n"
          ]
        },
        {
          "output_type": "stream",
          "name": "stderr",
          "text": [
            "Epochs: 100%|██████████| 100/100 [09:03<00:00,  5.44s/it, Loss: 0.4526, Acc: 0.9428]\n"
          ]
        },
        {
          "output_type": "stream",
          "name": "stdout",
          "text": [
            "Loss = 0.13902172446250916, Accuracy: 0.8742, Loss = 0.1638980209827423, Accuracy: 0.809, Loss = 0.13393378257751465, Accuracy: 0.8803, Loss = 0.16859497129917145, Accuracy: 0.7983, Loss = 0.1367364376783371, Accuracy: 0.8698, Loss = 0.1305517703294754, Accuracy: 0.8841, Loss = 0.11467574536800385, Accuracy: 0.9098, Loss = 0.10330095887184143, Accuracy: 0.9281, Loss = 0.09338134527206421, Accuracy: 0.9419, Loss = 0.09086006879806519, Accuracy: 0.9447\n",
            "Loss = 0.12749548256397247, Accuracy: 0.88402\n",
            "[{0: [0.9821, 0.054917823523283005], 'all': [0.9821, 0.054917823523283005]}, {0: [0.9718, 0.06896842271089554], 1: [0.9692, 0.0696832612156868], 'all': [0.9705, 0.06932584196329117]}, {0: [0.9643, 0.07743510603904724], 1: [0.9617, 0.07705415785312653], 2: [0.9669, 0.0720771998167038], 'all': [0.9643, 0.07552215456962585]}, {0: [0.9624, 0.07755201309919357], 1: [0.9513, 0.0871046856045723], 2: [0.9602, 0.07877753674983978], 3: [0.9648, 0.07488330453634262], 'all': [0.959675, 0.07957938499748707]}, {0: [0.9553, 0.08449061959981918], 1: [0.9442, 0.09236134588718414], 2: [0.9492, 0.08850076049566269], 3: [0.9583, 0.08084467053413391], 4: [0.9623, 0.0775512307882309], 'all': [0.95386, 0.08474972546100616]}, {0: [0.9492, 0.0917341411113739], 1: [0.9166, 0.11121229082345963], 2: [0.9241, 0.10655010491609573], 3: [0.9499, 0.08892926573753357], 4: [0.9527, 0.08657016605138779], 5: [0.9588, 0.07957876473665237], 'all': [0.9418833333333333, 0.09409578889608383]}, {0: [0.9494, 0.09173363447189331], 1: [0.8977, 0.12346207350492477], 2: [0.9179, 0.11166244000196457], 3: [0.9327, 0.10242148488759995], 4: [0.9428, 0.09569912403821945], 5: [0.9508, 0.08720996230840683], 6: [0.9584, 0.08045778423547745], 'all': [0.9356714285714286, 0.09894950049264091]}, {0: [0.9355, 0.1019890084862709], 1: [0.8859, 0.13017943501472473], 2: [0.9145, 0.11513634771108627], 3: [0.9076, 0.11906503140926361], 4: [0.9128, 0.11508707702159882], 5: [0.9435, 0.09202317148447037], 6: [0.95, 0.08888158947229385], 7: [0.9516, 0.08671368658542633], 'all': [0.925175, 0.10613441839814186]}, {0: [0.93, 0.10682039707899094], 1: [0.8484, 0.14843738079071045], 2: [0.8861, 0.13046494126319885], 3: [0.8738, 0.13626980781555176], 4: [0.8956, 0.12456633150577545], 5: [0.9199, 0.10952939838171005], 6: [0.9378, 0.09806491434574127], 7: [0.9389, 0.09630405902862549], 8: [0.9539, 0.08404162526130676], 'all': [0.9093777777777777, 0.11494431727462345]}, {0: [0.8742, 0.13902172446250916], 1: [0.809, 0.1638980209827423], 2: [0.8803, 0.13393378257751465], 3: [0.7983, 0.16859497129917145], 4: [0.8698, 0.1367364376783371], 5: [0.8841, 0.1305517703294754], 6: [0.9098, 0.11467574536800385], 7: [0.9281, 0.10330095887184143], 8: [0.9419, 0.09338134527206421], 9: [0.9447, 0.09086006879806519], 'all': [0.88402, 0.12749548256397247]}]\n"
          ]
        },
        {
          "output_type": "display_data",
          "data": {
            "text/plain": [
              "<Figure size 640x480 with 1 Axes>"
            ],
            "image/png": "[encoded data removed]"
          },
          "metadata": {}
        }
      ],
      "source": [
        "permutedMNIST(100, 0, 'random', 0)"
      ]
    },
    {
      "cell_type": "code",
      "execution_count": null,
      "metadata": {
        "id": "i7AfFUeJSIsp",
        "colab": {
          "base_uri": "https://localhost:8080/",
          "height": 1000
        },
        "outputId": "14125f16-a0b6-48c4-8c32-10b18a1e997e"
      },
      "outputs": [
        {
          "output_type": "stream",
          "name": "stdout",
          "text": [
            "Task 1\n"
          ]
        },
        {
          "output_type": "stream",
          "name": "stderr",
          "text": [
            "Epochs: 100%|██████████| 100/100 [02:35<00:00,  1.55s/it, Loss: 0.0000, Acc: 0.9944]\n",
            "Epochs: 100%|██████████| 100/100 [07:29<00:00,  4.49s/it, Loss: 0.4124, Acc: 0.9720]\n",
            "Epochs: 100%|██████████| 100/100 [00:02<00:00, 47.42it/s, Loss: 0.0950, Acc: 0.9800]\n"
          ]
        },
        {
          "output_type": "stream",
          "name": "stdout",
          "text": [
            "Loss = 0.05590676888823509, Accuracy: 0.9814\n",
            "Loss = 0.05590676888823509, Accuracy: 0.9814\n",
            "Task 2\n"
          ]
        },
        {
          "output_type": "stream",
          "name": "stderr",
          "text": [
            "Epochs: 100%|██████████| 100/100 [08:16<00:00,  4.96s/it, Loss: 0.2381, Acc: 0.9596]\n",
            "Epochs: 100%|██████████| 100/100 [00:05<00:00, 19.47it/s, Loss: 0.1123, Acc: 0.9575]\n"
          ]
        },
        {
          "output_type": "stream",
          "name": "stdout",
          "text": [
            "Loss = 0.06470521539449692, Accuracy: 0.9745, Loss = 0.06806813180446625, Accuracy: 0.9713\n",
            "Loss = 0.06638667359948158, Accuracy: 0.9729\n",
            "Task 3\n"
          ]
        },
        {
          "output_type": "stream",
          "name": "stderr",
          "text": [
            "Epochs: 100%|██████████| 100/100 [09:02<00:00,  5.42s/it, Loss: 0.2459, Acc: 0.9574]\n",
            "Epochs: 100%|██████████| 100/100 [00:06<00:00, 15.18it/s, Loss: 0.1825, Acc: 0.9517]\n"
          ]
        },
        {
          "output_type": "stream",
          "name": "stdout",
          "text": [
            "Loss = 0.07044484466314316, Accuracy: 0.9695, Loss = 0.07761819660663605, Accuracy: 0.9631, Loss = 0.07110714912414551, Accuracy: 0.9683\n",
            "Loss = 0.07305673013130824, Accuracy: 0.9669666666666666\n",
            "Task 4\n"
          ]
        },
        {
          "output_type": "stream",
          "name": "stderr",
          "text": [
            "Epochs: 100%|██████████| 100/100 [09:08<00:00,  5.48s/it, Loss: 0.2490, Acc: 0.9549]\n",
            "Epochs: 100%|██████████| 100/100 [00:08<00:00, 11.12it/s, Loss: 0.2193, Acc: 0.9463]\n"
          ]
        },
        {
          "output_type": "stream",
          "name": "stdout",
          "text": [
            "Loss = 0.07493063807487488, Accuracy: 0.966, Loss = 0.08408962935209274, Accuracy: 0.9544, Loss = 0.07539162039756775, Accuracy: 0.965, Loss = 0.0745856985449791, Accuracy: 0.9661\n",
            "Loss = 0.07724939659237862, Accuracy: 0.962875\n",
            "Task 5\n"
          ]
        },
        {
          "output_type": "stream",
          "name": "stderr",
          "text": [
            "Epochs: 100%|██████████| 100/100 [09:12<00:00,  5.53s/it, Loss: 0.2475, Acc: 0.9551]\n",
            "Epochs: 100%|██████████| 100/100 [00:11<00:00,  8.54it/s, Loss: 0.1431, Acc: 0.9400]\n"
          ]
        },
        {
          "output_type": "stream",
          "name": "stdout",
          "text": [
            "Loss = 0.08271373808383942, Accuracy: 0.9575, Loss = 0.09386386722326279, Accuracy: 0.9452, Loss = 0.08953330665826797, Accuracy: 0.9489, Loss = 0.0788588747382164, Accuracy: 0.9612, Loss = 0.07572025805711746, Accuracy: 0.9639\n",
            "Loss = 0.08413800895214081, Accuracy: 0.95534\n",
            "Task 6\n"
          ]
        },
        {
          "output_type": "stream",
          "name": "stderr",
          "text": [
            "Epochs: 100%|██████████| 100/100 [09:16<00:00,  5.57s/it, Loss: 0.2186, Acc: 0.9519]\n",
            "Epochs: 100%|██████████| 100/100 [00:14<00:00,  6.97it/s, Loss: 0.2178, Acc: 0.9200]\n"
          ]
        },
        {
          "output_type": "stream",
          "name": "stdout",
          "text": [
            "Loss = 0.08766691386699677, Accuracy: 0.9521, Loss = 0.10242191702127457, Accuracy: 0.934, Loss = 0.09775351732969284, Accuracy: 0.942, Loss = 0.08484561741352081, Accuracy: 0.9522, Loss = 0.08325423300266266, Accuracy: 0.9556, Loss = 0.0764412060379982, Accuracy: 0.9639\n",
            "Loss = 0.08873056744535764, Accuracy: 0.9499666666666666\n",
            "Task 7\n"
          ]
        },
        {
          "output_type": "stream",
          "name": "stderr",
          "text": [
            "Epochs: 100%|██████████| 100/100 [09:21<00:00,  5.62s/it, Loss: 0.2760, Acc: 0.9536]\n",
            "Epochs: 100%|██████████| 100/100 [00:16<00:00,  5.98it/s, Loss: 0.3425, Acc: 0.9150]\n"
          ]
        },
        {
          "output_type": "stream",
          "name": "stdout",
          "text": [
            "Loss = 0.09443281590938568, Accuracy: 0.9444, Loss = 0.10620824247598648, Accuracy: 0.9274, Loss = 0.09962982684373856, Accuracy: 0.9443, Loss = 0.08775502443313599, Accuracy: 0.9495, Loss = 0.08973819017410278, Accuracy: 0.9511, Loss = 0.08333463221788406, Accuracy: 0.9571, Loss = 0.07848433405160904, Accuracy: 0.9609\n",
            "Loss = 0.09136900944369179, Accuracy: 0.9478142857142857\n",
            "Task 8\n"
          ]
        },
        {
          "output_type": "stream",
          "name": "stderr",
          "text": [
            "Epochs: 100%|██████████| 100/100 [09:29<00:00,  5.70s/it, Loss: 0.2980, Acc: 0.9494]\n",
            "Epochs: 100%|██████████| 100/100 [00:19<00:00,  5.03it/s, Loss: 0.3808, Acc: 0.8806]\n"
          ]
        },
        {
          "output_type": "stream",
          "name": "stdout",
          "text": [
            "Loss = 0.09727679193019867, Accuracy: 0.94, Loss = 0.10917039960622787, Accuracy: 0.9241, Loss = 0.1021503135561943, Accuracy: 0.941, Loss = 0.09890156984329224, Accuracy: 0.934, Loss = 0.10522761940956116, Accuracy: 0.9301, Loss = 0.09959201514720917, Accuracy: 0.9417, Loss = 0.08789277821779251, Accuracy: 0.9487, Loss = 0.08212148398160934, Accuracy: 0.9551\n",
            "Loss = 0.09779162146151066, Accuracy: 0.9393375\n",
            "Task 9\n"
          ]
        },
        {
          "output_type": "stream",
          "name": "stderr",
          "text": [
            "Epochs: 100%|██████████| 100/100 [09:36<00:00,  5.77s/it, Loss: 0.3713, Acc: 0.9449]\n",
            "Epochs: 100%|██████████| 100/100 [00:21<00:00,  4.60it/s, Loss: 0.4061, Acc: 0.8828]\n"
          ]
        },
        {
          "output_type": "stream",
          "name": "stdout",
          "text": [
            "Loss = 0.10401123762130737, Accuracy: 0.9323, Loss = 0.12353076785802841, Accuracy: 0.8985, Loss = 0.11481155455112457, Accuracy: 0.9185, Loss = 0.10909024626016617, Accuracy: 0.9228, Loss = 0.12312572449445724, Accuracy: 0.9013, Loss = 0.11008577048778534, Accuracy: 0.9247, Loss = 0.09511836618185043, Accuracy: 0.9408, Loss = 0.08683973550796509, Accuracy: 0.951, Loss = 0.08588863909244537, Accuracy: 0.9503\n",
            "Loss = 0.10583356022834778, Accuracy: 0.9266888888888889\n",
            "Task 10\n"
          ]
        },
        {
          "output_type": "stream",
          "name": "stderr",
          "text": [
            "Epochs: 100%|██████████| 100/100 [09:41<00:00,  5.82s/it, Loss: 0.3642, Acc: 0.9438]\n",
            "Epochs: 100%|██████████| 100/100 [00:24<00:00,  4.06it/s, Loss: 0.4691, Acc: 0.8795]\n"
          ]
        },
        {
          "output_type": "stream",
          "name": "stdout",
          "text": [
            "Loss = 0.10830841958522797, Accuracy: 0.9237, Loss = 0.14101946353912354, Accuracy: 0.8664, Loss = 0.13130569458007812, Accuracy: 0.8891, Loss = 0.12274353951215744, Accuracy: 0.8985, Loss = 0.1227474957704544, Accuracy: 0.9007, Loss = 0.11165481805801392, Accuracy: 0.9221, Loss = 0.10199841856956482, Accuracy: 0.9327, Loss = 0.1000455766916275, Accuracy: 0.934, Loss = 0.09537293016910553, Accuracy: 0.9398, Loss = 0.08697199076414108, Accuracy: 0.95\n",
            "Loss = 0.11221683472394943, Accuracy: 0.9157\n",
            "[{0: [0.9814, 0.05590676888823509], 'all': [0.9814, 0.05590676888823509]}, {0: [0.9745, 0.06470521539449692], 1: [0.9713, 0.06806813180446625], 'all': [0.9729, 0.06638667359948158]}, {0: [0.9695, 0.07044484466314316], 1: [0.9631, 0.07761819660663605], 2: [0.9683, 0.07110714912414551], 'all': [0.9669666666666666, 0.07305673013130824]}, {0: [0.966, 0.07493063807487488], 1: [0.9544, 0.08408962935209274], 2: [0.965, 0.07539162039756775], 3: [0.9661, 0.0745856985449791], 'all': [0.962875, 0.07724939659237862]}, {0: [0.9575, 0.08271373808383942], 1: [0.9452, 0.09386386722326279], 2: [0.9489, 0.08953330665826797], 3: [0.9612, 0.0788588747382164], 4: [0.9639, 0.07572025805711746], 'all': [0.95534, 0.08413800895214081]}, {0: [0.9521, 0.08766691386699677], 1: [0.934, 0.10242191702127457], 2: [0.942, 0.09775351732969284], 3: [0.9522, 0.08484561741352081], 4: [0.9556, 0.08325423300266266], 5: [0.9639, 0.0764412060379982], 'all': [0.9499666666666666, 0.08873056744535764]}, {0: [0.9444, 0.09443281590938568], 1: [0.9274, 0.10620824247598648], 2: [0.9443, 0.09962982684373856], 3: [0.9495, 0.08775502443313599], 4: [0.9511, 0.08973819017410278], 5: [0.9571, 0.08333463221788406], 6: [0.9609, 0.07848433405160904], 'all': [0.9478142857142857, 0.09136900944369179]}, {0: [0.94, 0.09727679193019867], 1: [0.9241, 0.10917039960622787], 2: [0.941, 0.1021503135561943], 3: [0.934, 0.09890156984329224], 4: [0.9301, 0.10522761940956116], 5: [0.9417, 0.09959201514720917], 6: [0.9487, 0.08789277821779251], 7: [0.9551, 0.08212148398160934], 'all': [0.9393375, 0.09779162146151066]}, {0: [0.9323, 0.10401123762130737], 1: [0.8985, 0.12353076785802841], 2: [0.9185, 0.11481155455112457], 3: [0.9228, 0.10909024626016617], 4: [0.9013, 0.12312572449445724], 5: [0.9247, 0.11008577048778534], 6: [0.9408, 0.09511836618185043], 7: [0.951, 0.08683973550796509], 8: [0.9503, 0.08588863909244537], 'all': [0.9266888888888889, 0.10583356022834778]}, {0: [0.9237, 0.10830841958522797], 1: [0.8664, 0.14101946353912354], 2: [0.8891, 0.13130569458007812], 3: [0.8985, 0.12274353951215744], 4: [0.9007, 0.1227474957704544], 5: [0.9221, 0.11165481805801392], 6: [0.9327, 0.10199841856956482], 7: [0.934, 0.1000455766916275], 8: [0.9398, 0.09537293016910553], 9: [0.95, 0.08697199076414108], 'all': [0.9157, 0.11221683472394943]}]\n"
          ]
        },
        {
          "output_type": "display_data",
          "data": {
            "text/plain": [
              "<Figure size 640x480 with 1 Axes>"
            ],
            "image/png": "[encoded data removed]"
          },
          "metadata": {}
        }
      ],
      "source": [
        "permutedMNIST(100, 200, 'random', 0)"
      ]
    },
    {
      "cell_type": "code",
      "execution_count": null,
      "metadata": {
        "id": "CCwCz6TTTw0O",
        "colab": {
          "base_uri": "https://localhost:8080/",
          "height": 1000
        },
        "outputId": "2fa6c146-2b50-440a-f251-15e7d4abed9b"
      },
      "outputs": [
        {
          "output_type": "stream",
          "name": "stdout",
          "text": [
            "Task 1\n"
          ]
        },
        {
          "output_type": "stream",
          "name": "stderr",
          "text": [
            "Epochs: 100%|██████████| 100/100 [03:20<00:00,  2.00s/it, Loss: 0.0000, Acc: 0.9947]\n",
            "Epochs: 100%|██████████| 100/100 [08:51<00:00,  5.31s/it, Loss: 0.4146, Acc: 0.9726]\n",
            "Epochs: 100%|██████████| 100/100 [00:02<00:00, 41.64it/s, Loss: 0.5250, Acc: 0.8850]\n"
          ]
        },
        {
          "output_type": "stream",
          "name": "stdout",
          "text": [
            "Loss = 0.05543075501918793, Accuracy: 0.9821\n",
            "Loss = 0.05543075501918793, Accuracy: 0.9821\n",
            "Task 2\n"
          ]
        },
        {
          "output_type": "stream",
          "name": "stderr",
          "text": [
            "Epochs: 100%|██████████| 100/100 [08:56<00:00,  5.37s/it, Loss: 0.3021, Acc: 0.9586]\n",
            "Epochs: 100%|██████████| 100/100 [00:05<00:00, 19.04it/s, Loss: 0.7348, Acc: 0.8600]\n"
          ]
        },
        {
          "output_type": "stream",
          "name": "stdout",
          "text": [
            "Loss = 0.06399618834257126, Accuracy: 0.9766, Loss = 0.06849180161952972, Accuracy: 0.9734\n",
            "Loss = 0.06624399498105049, Accuracy: 0.975\n",
            "Task 3\n"
          ]
        },
        {
          "output_type": "stream",
          "name": "stderr",
          "text": [
            "Epochs: 100%|██████████| 100/100 [09:05<00:00,  5.46s/it, Loss: 0.2297, Acc: 0.9565]\n",
            "Epochs: 100%|██████████| 100/100 [00:07<00:00, 13.16it/s, Loss: 0.7881, Acc: 0.7917]\n"
          ]
        },
        {
          "output_type": "stream",
          "name": "stdout",
          "text": [
            "Loss = 0.07413611561059952, Accuracy: 0.9683, Loss = 0.07419440895318985, Accuracy: 0.9666, Loss = 0.0721282884478569, Accuracy: 0.9681\n",
            "Loss = 0.0734862710038821, Accuracy: 0.9676666666666667\n",
            "Task 4\n"
          ]
        },
        {
          "output_type": "stream",
          "name": "stderr",
          "text": [
            "Epochs: 100%|██████████| 100/100 [09:09<00:00,  5.49s/it, Loss: 0.2336, Acc: 0.9538]\n",
            "Epochs: 100%|██████████| 100/100 [00:09<00:00, 10.11it/s, Loss: 0.8111, Acc: 0.7975]\n"
          ]
        },
        {
          "output_type": "stream",
          "name": "stdout",
          "text": [
            "Loss = 0.08411097526550293, Accuracy: 0.9576, Loss = 0.08097007870674133, Accuracy: 0.9585, Loss = 0.07877115160226822, Accuracy: 0.961, Loss = 0.07719065248966217, Accuracy: 0.9625\n",
            "Loss = 0.08026071451604366, Accuracy: 0.9599\n",
            "Task 5\n"
          ]
        },
        {
          "output_type": "stream",
          "name": "stderr",
          "text": [
            "Epochs: 100%|██████████| 100/100 [09:16<00:00,  5.56s/it, Loss: 0.2531, Acc: 0.9547]\n",
            "Epochs: 100%|██████████| 100/100 [00:11<00:00,  8.43it/s, Loss: 0.9545, Acc: 0.7700]\n"
          ]
        },
        {
          "output_type": "stream",
          "name": "stdout",
          "text": [
            "Loss = 0.09659487754106522, Accuracy: 0.9424, Loss = 0.0914892628788948, Accuracy: 0.946, Loss = 0.08350446820259094, Accuracy: 0.9573, Loss = 0.08593446761369705, Accuracy: 0.9532, Loss = 0.077777199447155, Accuracy: 0.9607\n",
            "Loss = 0.08706005513668061, Accuracy: 0.95192\n",
            "Task 6\n"
          ]
        },
        {
          "output_type": "stream",
          "name": "stderr",
          "text": [
            "Epochs: 100%|██████████| 100/100 [09:19<00:00,  5.60s/it, Loss: 0.2445, Acc: 0.9520]\n",
            "Epochs: 100%|██████████| 100/100 [00:14<00:00,  6.87it/s, Loss: 0.9827, Acc: 0.7583]\n"
          ]
        },
        {
          "output_type": "stream",
          "name": "stdout",
          "text": [
            "Loss = 0.10935235023498535, Accuracy: 0.9234, Loss = 0.10126305371522903, Accuracy: 0.9343, Loss = 0.09792983531951904, Accuracy: 0.9413, Loss = 0.10198476910591125, Accuracy: 0.9305, Loss = 0.08310345560312271, Accuracy: 0.9562, Loss = 0.08206450939178467, Accuracy: 0.9561\n",
            "Loss = 0.09594966222842534, Accuracy: 0.9403\n",
            "Task 7\n"
          ]
        },
        {
          "output_type": "stream",
          "name": "stderr",
          "text": [
            "Epochs: 100%|██████████| 100/100 [09:28<00:00,  5.68s/it, Loss: 0.3535, Acc: 0.9481]\n",
            "Epochs: 100%|██████████| 100/100 [00:17<00:00,  5.84it/s, Loss: 1.3503, Acc: 0.7314]\n"
          ]
        },
        {
          "output_type": "stream",
          "name": "stdout",
          "text": [
            "Loss = 0.12255693972110748, Accuracy: 0.8968, Loss = 0.1116466298699379, Accuracy: 0.9204, Loss = 0.10670958459377289, Accuracy: 0.932, Loss = 0.11613727360963821, Accuracy: 0.9098, Loss = 0.09544701874256134, Accuracy: 0.9455, Loss = 0.08705359697341919, Accuracy: 0.9507, Loss = 0.08298079669475555, Accuracy: 0.9554\n",
            "Loss = 0.10321883431502751, Accuracy: 0.9300857142857143\n",
            "Task 8\n"
          ]
        },
        {
          "output_type": "stream",
          "name": "stderr",
          "text": [
            "Epochs: 100%|██████████| 100/100 [09:36<00:00,  5.76s/it, Loss: 0.3205, Acc: 0.9470]\n",
            "Epochs: 100%|██████████| 100/100 [00:19<00:00,  5.13it/s, Loss: 1.8518, Acc: 0.7100]\n"
          ]
        },
        {
          "output_type": "stream",
          "name": "stdout",
          "text": [
            "Loss = 0.13531729578971863, Accuracy: 0.8722, Loss = 0.11939378082752228, Accuracy: 0.9065, Loss = 0.10842439532279968, Accuracy: 0.9306, Loss = 0.12649691104888916, Accuracy: 0.9026, Loss = 0.11424951255321503, Accuracy: 0.9323, Loss = 0.0927741676568985, Accuracy: 0.9421, Loss = 0.0969662219285965, Accuracy: 0.9412, Loss = 0.08560919016599655, Accuracy: 0.953\n",
            "Loss = 0.10990393441170454, Accuracy: 0.9225625\n",
            "Task 9\n"
          ]
        },
        {
          "output_type": "stream",
          "name": "stderr",
          "text": [
            "Epochs: 100%|██████████| 100/100 [09:39<00:00,  5.79s/it, Loss: 0.2295, Acc: 0.9441]\n",
            "Epochs: 100%|██████████| 100/100 [00:21<00:00,  4.58it/s, Loss: 1.4243, Acc: 0.6928]\n"
          ]
        },
        {
          "output_type": "stream",
          "name": "stdout",
          "text": [
            "Loss = 0.1344338208436966, Accuracy: 0.8764, Loss = 0.1234801709651947, Accuracy: 0.8992, Loss = 0.11528269201517105, Accuracy: 0.9186, Loss = 0.1298287808895111, Accuracy: 0.8973, Loss = 0.1267637461423874, Accuracy: 0.9107, Loss = 0.10371491312980652, Accuracy: 0.9274, Loss = 0.10701418668031693, Accuracy: 0.9275, Loss = 0.09121105074882507, Accuracy: 0.9459, Loss = 0.0885511264204979, Accuracy: 0.9498\n",
            "Loss = 0.11336449864837858, Accuracy: 0.9169777777777778\n",
            "Task 10\n"
          ]
        },
        {
          "output_type": "stream",
          "name": "stderr",
          "text": [
            "Epochs: 100%|██████████| 100/100 [09:44<00:00,  5.85s/it, Loss: 0.3090, Acc: 0.9430]\n",
            "Epochs: 100%|██████████| 100/100 [00:24<00:00,  4.05it/s, Loss: 1.7669, Acc: 0.6765]\n"
          ]
        },
        {
          "output_type": "stream",
          "name": "stdout",
          "text": [
            "Loss = 0.1404535323381424, Accuracy: 0.865, Loss = 0.13135254383087158, Accuracy: 0.8859, Loss = 0.12460267543792725, Accuracy: 0.9044, Loss = 0.14256328344345093, Accuracy: 0.8738, Loss = 0.1315474957227707, Accuracy: 0.8991, Loss = 0.11313048750162125, Accuracy: 0.912, Loss = 0.11503716558218002, Accuracy: 0.9183, Loss = 0.09562433511018753, Accuracy: 0.9419, Loss = 0.09260730445384979, Accuracy: 0.9447, Loss = 0.08913347870111465, Accuracy: 0.9473\n",
            "Loss = 0.11760523021221161, Accuracy: 0.90924\n",
            "[{0: [0.9821, 0.05543075501918793], 'all': [0.9821, 0.05543075501918793]}, {0: [0.9766, 0.06399618834257126], 1: [0.9734, 0.06849180161952972], 'all': [0.975, 0.06624399498105049]}, {0: [0.9683, 0.07413611561059952], 1: [0.9666, 0.07419440895318985], 2: [0.9681, 0.0721282884478569], 'all': [0.9676666666666667, 0.0734862710038821]}, {0: [0.9576, 0.08411097526550293], 1: [0.9585, 0.08097007870674133], 2: [0.961, 0.07877115160226822], 3: [0.9625, 0.07719065248966217], 'all': [0.9599, 0.08026071451604366]}, {0: [0.9424, 0.09659487754106522], 1: [0.946, 0.0914892628788948], 2: [0.9573, 0.08350446820259094], 3: [0.9532, 0.08593446761369705], 4: [0.9607, 0.077777199447155], 'all': [0.95192, 0.08706005513668061]}, {0: [0.9234, 0.10935235023498535], 1: [0.9343, 0.10126305371522903], 2: [0.9413, 0.09792983531951904], 3: [0.9305, 0.10198476910591125], 4: [0.9562, 0.08310345560312271], 5: [0.9561, 0.08206450939178467], 'all': [0.9403, 0.09594966222842534]}, {0: [0.8968, 0.12255693972110748], 1: [0.9204, 0.1116466298699379], 2: [0.932, 0.10670958459377289], 3: [0.9098, 0.11613727360963821], 4: [0.9455, 0.09544701874256134], 5: [0.9507, 0.08705359697341919], 6: [0.9554, 0.08298079669475555], 'all': [0.9300857142857143, 0.10321883431502751]}, {0: [0.8722, 0.13531729578971863], 1: [0.9065, 0.11939378082752228], 2: [0.9306, 0.10842439532279968], 3: [0.9026, 0.12649691104888916], 4: [0.9323, 0.11424951255321503], 5: [0.9421, 0.0927741676568985], 6: [0.9412, 0.0969662219285965], 7: [0.953, 0.08560919016599655], 'all': [0.9225625, 0.10990393441170454]}, {0: [0.8764, 0.1344338208436966], 1: [0.8992, 0.1234801709651947], 2: [0.9186, 0.11528269201517105], 3: [0.8973, 0.1298287808895111], 4: [0.9107, 0.1267637461423874], 5: [0.9274, 0.10371491312980652], 6: [0.9275, 0.10701418668031693], 7: [0.9459, 0.09121105074882507], 8: [0.9498, 0.0885511264204979], 'all': [0.9169777777777778, 0.11336449864837858]}, {0: [0.865, 0.1404535323381424], 1: [0.8859, 0.13135254383087158], 2: [0.9044, 0.12460267543792725], 3: [0.8738, 0.14256328344345093], 4: [0.8991, 0.1315474957227707], 5: [0.912, 0.11313048750162125], 6: [0.9183, 0.11503716558218002], 7: [0.9419, 0.09562433511018753], 8: [0.9447, 0.09260730445384979], 9: [0.9473, 0.08913347870111465], 'all': [0.90924, 0.11760523021221161]}]\n"
          ]
        },
        {
          "output_type": "display_data",
          "data": {
            "text/plain": [
              "<Figure size 640x480 with 1 Axes>"
            ],
            "image/png": "[encoded data removed]"
          },
          "metadata": {}
        }
      ],
      "source": [
        "permutedMNIST(100, 200, 'centre', 0)"
      ]
    },
    {
      "cell_type": "code",
      "execution_count": null,
      "metadata": {
        "id": "tVAnUb5zT1YB"
      },
      "outputs": [],
      "source": [
        "permutedMNIST(100, 0, 'random', 1)"
      ]
    },
    {
      "cell_type": "code",
      "execution_count": null,
      "metadata": {
        "id": "iYa04Z1YT3UY"
      },
      "outputs": [],
      "source": [
        "permutedMNIST(100, 200, 'random', 1)"
      ]
    },
    {
      "cell_type": "code",
      "execution_count": null,
      "metadata": {
        "id": "8KANwX8NUFcT"
      },
      "outputs": [],
      "source": [
        "permutedMNIST(100, 200, 'centre', 1)"
      ]
    },
    {
      "cell_type": "markdown",
      "metadata": {
        "id": "j-8NaAtRUCHo"
      },
      "source": [
        "# Split MNIST"
      ]
    },
    {
      "cell_type": "code",
      "execution_count": null,
      "metadata": {
        "colab": {
          "base_uri": "https://localhost:8080/",
          "height": 339
        },
        "id": "evq0EXCP_ghh",
        "outputId": "7210cbb3-7ffc-4cc9-c5d5-5f6f652df1d3"
      },
      "outputs": [
        {
          "output_type": "stream",
          "name": "stdout",
          "text": [
            "Task 1\n"
          ]
        },
        {
          "output_type": "stream",
          "name": "stderr",
          "text": [
            "Epochs: 100%|██████████| 120/120 [00:27<00:00,  4.43it/s, Loss: 0.0000, Acc: 1.0000]\n",
            "Epochs:   4%|▍         | 5/120 [00:05<01:57,  1.02s/it, Loss: 50.1886, Acc: 1.0000]\n"
          ]
        },
        {
          "output_type": "error",
          "ename": "KeyboardInterrupt",
          "evalue": "",
          "traceback": [
            "\u001b[0;31m---------------------------------------------------------------------------\u001b[0m",
            "\u001b[0;31mKeyboardInterrupt\u001b[0m                         Traceback (most recent call last)",
            "\u001b[0;32m<ipython-input-72-4c800db06c9b>\u001b[0m in \u001b[0;36m<cell line: 0>\u001b[0;34m()\u001b[0m\n\u001b[0;32m----> 1\u001b[0;31m \u001b[0msplitMNIST\u001b[0m\u001b[0;34m(\u001b[0m\u001b[0;36m120\u001b[0m\u001b[0;34m,\u001b[0m \u001b[0;36m0\u001b[0m\u001b[0;34m,\u001b[0m \u001b[0;34m'random'\u001b[0m\u001b[0;34m,\u001b[0m \u001b[0;36m0\u001b[0m\u001b[0;34m)\u001b[0m\u001b[0;34m\u001b[0m\u001b[0;34m\u001b[0m\u001b[0m\n\u001b[0m",
            "\u001b[0;32m<ipython-input-70-ccee0fe4b358>\u001b[0m in \u001b[0;36msplitMNIST\u001b[0;34m(epochs, coreset_size, mode, version)\u001b[0m\n\u001b[1;32m     10\u001b[0m \u001b[0;34m\u001b[0m\u001b[0m\n\u001b[1;32m     11\u001b[0m     \u001b[0mdata_gen\u001b[0m \u001b[0;34m=\u001b[0m \u001b[0mSplitMnistGenerator\u001b[0m\u001b[0;34m(\u001b[0m\u001b[0;36m5\u001b[0m\u001b[0;34m)\u001b[0m\u001b[0;34m\u001b[0m\u001b[0;34m\u001b[0m\u001b[0m\n\u001b[0;32m---> 12\u001b[0;31m     \u001b[0mvcl_result\u001b[0m \u001b[0;34m=\u001b[0m \u001b[0mvcl\u001b[0m\u001b[0;34m(\u001b[0m\u001b[0mhidden_size\u001b[0m\u001b[0;34m,\u001b[0m \u001b[0mheads\u001b[0m\u001b[0;34m,\u001b[0m \u001b[0mepochs\u001b[0m\u001b[0;34m,\u001b[0m \u001b[0mdata_gen\u001b[0m\u001b[0;34m,\u001b[0m \u001b[0mmode\u001b[0m\u001b[0;34m,\u001b[0m \u001b[0mcoreset_size\u001b[0m\u001b[0;34m,\u001b[0m \u001b[0mbatch_size\u001b[0m\u001b[0;34m,\u001b[0m \u001b[0msingle_head\u001b[0m\u001b[0;34m)\u001b[0m\u001b[0;34m\u001b[0m\u001b[0;34m\u001b[0m\u001b[0m\n\u001b[0m\u001b[1;32m     13\u001b[0m     \u001b[0mprint\u001b[0m\u001b[0;34m(\u001b[0m\u001b[0mvcl_result\u001b[0m\u001b[0;34m)\u001b[0m\u001b[0;34m\u001b[0m\u001b[0;34m\u001b[0m\u001b[0m\n\u001b[1;32m     14\u001b[0m     \u001b[0msave_result\u001b[0m\u001b[0;34m(\u001b[0m\u001b[0mvcl_result\u001b[0m\u001b[0;34m,\u001b[0m \u001b[0;34m'splitMNIST'\u001b[0m\u001b[0;34m,\u001b[0m \u001b[0mepochs\u001b[0m\u001b[0;34m,\u001b[0m \u001b[0mcoreset_size\u001b[0m\u001b[0;34m,\u001b[0m \u001b[0mmode\u001b[0m\u001b[0;34m,\u001b[0m \u001b[0mhidden_size\u001b[0m\u001b[0;34m,\u001b[0m \u001b[0mheads\u001b[0m\u001b[0;34m,\u001b[0m \u001b[0;34m'categorical'\u001b[0m\u001b[0;34m)\u001b[0m\u001b[0;34m\u001b[0m\u001b[0;34m\u001b[0m\u001b[0m\n",
            "\u001b[0;32m<ipython-input-63-3cc5b014e87a>\u001b[0m in \u001b[0;36mvcl\u001b[0;34m(layers, heads, epochs, data, mode, size, batch_size, single_head)\u001b[0m\n\u001b[1;32m     18\u001b[0m     \u001b[0;32mif\u001b[0m \u001b[0mi\u001b[0m \u001b[0;34m!=\u001b[0m \u001b[0;36m0\u001b[0m\u001b[0;34m:\u001b[0m\u001b[0;34m\u001b[0m\u001b[0;34m\u001b[0m\u001b[0m\n\u001b[1;32m     19\u001b[0m       \u001b[0mmodel\u001b[0m \u001b[0;34m=\u001b[0m \u001b[0mMFVI\u001b[0m\u001b[0;34m(\u001b[0m\u001b[0min_dim\u001b[0m\u001b[0;34m,\u001b[0m \u001b[0mlayers\u001b[0m\u001b[0;34m,\u001b[0m \u001b[0mheads\u001b[0m\u001b[0;34m,\u001b[0m \u001b[0mout_dim\u001b[0m\u001b[0;34m,\u001b[0m \u001b[0mhead\u001b[0m\u001b[0;34m,\u001b[0m \u001b[0;34m(\u001b[0m\u001b[0mmodel\u001b[0m\u001b[0;34m.\u001b[0m\u001b[0mposterior\u001b[0m\u001b[0;34m,\u001b[0m \u001b[0mmodel\u001b[0m\u001b[0;34m.\u001b[0m\u001b[0mposterior_head\u001b[0m\u001b[0;34m)\u001b[0m\u001b[0;34m)\u001b[0m\u001b[0;34m.\u001b[0m\u001b[0mto\u001b[0m\u001b[0;34m(\u001b[0m\u001b[0mdevice\u001b[0m\u001b[0;34m)\u001b[0m\u001b[0;34m\u001b[0m\u001b[0;34m\u001b[0m\u001b[0m\n\u001b[0;32m---> 20\u001b[0;31m     \u001b[0mmodel\u001b[0m \u001b[0;34m=\u001b[0m \u001b[0mtrain_model\u001b[0m\u001b[0;34m(\u001b[0m\u001b[0mmodel\u001b[0m\u001b[0;34m,\u001b[0m \u001b[0mx_train\u001b[0m\u001b[0;34m,\u001b[0m \u001b[0my_train\u001b[0m\u001b[0;34m,\u001b[0m \u001b[0;32mlambda\u001b[0m \u001b[0mx\u001b[0m\u001b[0;34m,\u001b[0m \u001b[0my\u001b[0m\u001b[0;34m,\u001b[0m \u001b[0mz\u001b[0m\u001b[0;34m:\u001b[0m \u001b[0mmodel\u001b[0m\u001b[0;34m.\u001b[0m\u001b[0mkl_loss\u001b[0m\u001b[0;34m(\u001b[0m\u001b[0mx\u001b[0m\u001b[0;34m,\u001b[0m \u001b[0my\u001b[0m\u001b[0;34m,\u001b[0m \u001b[0mz\u001b[0m\u001b[0;34m,\u001b[0m \u001b[0mlen\u001b[0m\u001b[0;34m(\u001b[0m\u001b[0mx_train\u001b[0m\u001b[0;34m)\u001b[0m\u001b[0;34m)\u001b[0m\u001b[0;34m,\u001b[0m \u001b[0mhead\u001b[0m\u001b[0;34m,\u001b[0m \u001b[0mepochs\u001b[0m\u001b[0;34m=\u001b[0m\u001b[0mepochs\u001b[0m\u001b[0;34m,\u001b[0m \u001b[0mbatch_size\u001b[0m\u001b[0;34m=\u001b[0m\u001b[0mbatch_size\u001b[0m\u001b[0;34m)\u001b[0m\u001b[0;34m\u001b[0m\u001b[0;34m\u001b[0m\u001b[0m\n\u001b[0m\u001b[1;32m     21\u001b[0m \u001b[0;34m\u001b[0m\u001b[0m\n\u001b[1;32m     22\u001b[0m     \u001b[0mpred_model\u001b[0m \u001b[0;34m=\u001b[0m \u001b[0mMFVI\u001b[0m\u001b[0;34m(\u001b[0m\u001b[0min_dim\u001b[0m\u001b[0;34m,\u001b[0m \u001b[0mlayers\u001b[0m\u001b[0;34m,\u001b[0m \u001b[0mheads\u001b[0m\u001b[0;34m,\u001b[0m \u001b[0mout_dim\u001b[0m\u001b[0;34m,\u001b[0m \u001b[0mhead\u001b[0m\u001b[0;34m,\u001b[0m \u001b[0;34m(\u001b[0m\u001b[0mmodel\u001b[0m\u001b[0;34m.\u001b[0m\u001b[0mposterior\u001b[0m\u001b[0;34m,\u001b[0m \u001b[0mmodel\u001b[0m\u001b[0;34m.\u001b[0m\u001b[0mposterior_head\u001b[0m\u001b[0;34m)\u001b[0m\u001b[0;34m)\u001b[0m\u001b[0;34m.\u001b[0m\u001b[0mto\u001b[0m\u001b[0;34m(\u001b[0m\u001b[0mdevice\u001b[0m\u001b[0;34m)\u001b[0m\u001b[0;34m\u001b[0m\u001b[0;34m\u001b[0m\u001b[0m\n",
            "\u001b[0;32m<ipython-input-60-64ea0baf38b0>\u001b[0m in \u001b[0;36mtrain_model\u001b[0;34m(model, x_train, y_train, loss_fn, head, lr, epochs, batch_size)\u001b[0m\n\u001b[1;32m     12\u001b[0m           \u001b[0moptimizer\u001b[0m\u001b[0;34m.\u001b[0m\u001b[0mzero_grad\u001b[0m\u001b[0;34m(\u001b[0m\u001b[0;34m)\u001b[0m\u001b[0;34m\u001b[0m\u001b[0;34m\u001b[0m\u001b[0m\n\u001b[1;32m     13\u001b[0m           \u001b[0mloss\u001b[0m \u001b[0;34m=\u001b[0m \u001b[0mloss_fn\u001b[0m\u001b[0;34m(\u001b[0m\u001b[0mx_data\u001b[0m\u001b[0;34m,\u001b[0m \u001b[0my_data\u001b[0m\u001b[0;34m,\u001b[0m \u001b[0mhead\u001b[0m\u001b[0;34m)\u001b[0m\u001b[0;34m\u001b[0m\u001b[0;34m\u001b[0m\u001b[0m\n\u001b[0;32m---> 14\u001b[0;31m           \u001b[0mloss\u001b[0m\u001b[0;34m.\u001b[0m\u001b[0mbackward\u001b[0m\u001b[0;34m(\u001b[0m\u001b[0;34m)\u001b[0m\u001b[0;34m\u001b[0m\u001b[0;34m\u001b[0m\u001b[0m\n\u001b[0m\u001b[1;32m     15\u001b[0m           \u001b[0moptimizer\u001b[0m\u001b[0;34m.\u001b[0m\u001b[0mstep\u001b[0m\u001b[0;34m(\u001b[0m\u001b[0;34m)\u001b[0m\u001b[0;34m\u001b[0m\u001b[0;34m\u001b[0m\u001b[0m\n\u001b[1;32m     16\u001b[0m \u001b[0;34m\u001b[0m\u001b[0m\n",
            "\u001b[0;32m/usr/local/lib/python3.11/dist-packages/torch/_tensor.py\u001b[0m in \u001b[0;36mbackward\u001b[0;34m(self, gradient, retain_graph, create_graph, inputs)\u001b[0m\n\u001b[1;32m    624\u001b[0m                 \u001b[0minputs\u001b[0m\u001b[0;34m=\u001b[0m\u001b[0minputs\u001b[0m\u001b[0;34m,\u001b[0m\u001b[0;34m\u001b[0m\u001b[0;34m\u001b[0m\u001b[0m\n\u001b[1;32m    625\u001b[0m             )\n\u001b[0;32m--> 626\u001b[0;31m         torch.autograd.backward(\n\u001b[0m\u001b[1;32m    627\u001b[0m             \u001b[0mself\u001b[0m\u001b[0;34m,\u001b[0m \u001b[0mgradient\u001b[0m\u001b[0;34m,\u001b[0m \u001b[0mretain_graph\u001b[0m\u001b[0;34m,\u001b[0m \u001b[0mcreate_graph\u001b[0m\u001b[0;34m,\u001b[0m \u001b[0minputs\u001b[0m\u001b[0;34m=\u001b[0m\u001b[0minputs\u001b[0m\u001b[0;34m\u001b[0m\u001b[0;34m\u001b[0m\u001b[0m\n\u001b[1;32m    628\u001b[0m         )\n",
            "\u001b[0;32m/usr/local/lib/python3.11/dist-packages/torch/autograd/__init__.py\u001b[0m in \u001b[0;36mbackward\u001b[0;34m(tensors, grad_tensors, retain_graph, create_graph, grad_variables, inputs)\u001b[0m\n\u001b[1;32m    345\u001b[0m     \u001b[0;31m# some Python versions print out the first line of a multi-line function\u001b[0m\u001b[0;34m\u001b[0m\u001b[0;34m\u001b[0m\u001b[0m\n\u001b[1;32m    346\u001b[0m     \u001b[0;31m# calls in the traceback and some print out the last line\u001b[0m\u001b[0;34m\u001b[0m\u001b[0;34m\u001b[0m\u001b[0m\n\u001b[0;32m--> 347\u001b[0;31m     _engine_run_backward(\n\u001b[0m\u001b[1;32m    348\u001b[0m         \u001b[0mtensors\u001b[0m\u001b[0;34m,\u001b[0m\u001b[0;34m\u001b[0m\u001b[0;34m\u001b[0m\u001b[0m\n\u001b[1;32m    349\u001b[0m         \u001b[0mgrad_tensors_\u001b[0m\u001b[0;34m,\u001b[0m\u001b[0;34m\u001b[0m\u001b[0;34m\u001b[0m\u001b[0m\n",
            "\u001b[0;32m/usr/local/lib/python3.11/dist-packages/torch/autograd/graph.py\u001b[0m in \u001b[0;36m_engine_run_backward\u001b[0;34m(t_outputs, *args, **kwargs)\u001b[0m\n\u001b[1;32m    821\u001b[0m         \u001b[0munregister_hooks\u001b[0m \u001b[0;34m=\u001b[0m \u001b[0m_register_logging_hooks_on_whole_graph\u001b[0m\u001b[0;34m(\u001b[0m\u001b[0mt_outputs\u001b[0m\u001b[0;34m)\u001b[0m\u001b[0;34m\u001b[0m\u001b[0;34m\u001b[0m\u001b[0m\n\u001b[1;32m    822\u001b[0m     \u001b[0;32mtry\u001b[0m\u001b[0;34m:\u001b[0m\u001b[0;34m\u001b[0m\u001b[0;34m\u001b[0m\u001b[0m\n\u001b[0;32m--> 823\u001b[0;31m         return Variable._execution_engine.run_backward(  # Calls into the C++ engine to run the backward pass\n\u001b[0m\u001b[1;32m    824\u001b[0m             \u001b[0mt_outputs\u001b[0m\u001b[0;34m,\u001b[0m \u001b[0;34m*\u001b[0m\u001b[0margs\u001b[0m\u001b[0;34m,\u001b[0m \u001b[0;34m**\u001b[0m\u001b[0mkwargs\u001b[0m\u001b[0;34m\u001b[0m\u001b[0;34m\u001b[0m\u001b[0m\n\u001b[1;32m    825\u001b[0m         )  # Calls into the C++ engine to run the backward pass\n",
            "\u001b[0;31mKeyboardInterrupt\u001b[0m: "
          ]
        }
      ],
      "source": [
        "splitMNIST(120, 0, 'random', 0)"
      ]
    },
    {
      "cell_type": "code",
      "execution_count": null,
      "metadata": {
        "id": "8pO3XvdhMKWr"
      },
      "outputs": [],
      "source": [
        "splitMNIST(120, 40, 'random', 0)"
      ]
    },
    {
      "cell_type": "code",
      "execution_count": null,
      "metadata": {
        "id": "04uUgXHXUTdD"
      },
      "outputs": [],
      "source": [
        "splitMNIST(120, 40, 'centre', 0)"
      ]
    },
    {
      "cell_type": "code",
      "execution_count": null,
      "metadata": {
        "id": "odMzuEwPUTlm"
      },
      "outputs": [],
      "source": [
        "splitMNIST(120, 0, 'random', 1)"
      ]
    },
    {
      "cell_type": "code",
      "execution_count": null,
      "metadata": {
        "id": "jbNKawv-UbpB"
      },
      "outputs": [],
      "source": [
        "splitMNIST(120, 40, 'random', 1)"
      ]
    },
    {
      "cell_type": "code",
      "execution_count": null,
      "metadata": {
        "id": "6au6HUvZUdEb"
      },
      "outputs": [],
      "source": [
        "splitMNIST(120, 40, 'centre', 1)"
      ]
    },
    {
      "cell_type": "markdown",
      "metadata": {
        "id": "r-aOvtw0UUWQ"
      },
      "source": [
        "# Split notMNIST"
      ]
    },
    {
      "cell_type": "code",
      "execution_count": null,
      "metadata": {
        "id": "Afvhu-NgUa5k"
      },
      "outputs": [],
      "source": [
        "splitnotMNIST(120, 0, 'random', 0)"
      ]
    },
    {
      "cell_type": "code",
      "execution_count": null,
      "metadata": {
        "id": "IXVGcYZVTcd2"
      },
      "outputs": [],
      "source": [
        "splitnotMNIST(120, 40, 'random', 0)"
      ]
    },
    {
      "cell_type": "code",
      "execution_count": null,
      "metadata": {
        "id": "3LZwCBl3Uczh"
      },
      "outputs": [],
      "source": [
        "splitnotMNIST(120, 40, 'centre', 0)"
      ]
    },
    {
      "cell_type": "code",
      "execution_count": null,
      "metadata": {
        "id": "sB12nUZOUkPs"
      },
      "outputs": [],
      "source": [
        "splitnotMNIST(120, 0, 'random', 1)"
      ]
    },
    {
      "cell_type": "code",
      "execution_count": null,
      "metadata": {
        "id": "SeZC3lQNUn-d"
      },
      "outputs": [],
      "source": [
        "splitnotMNIST(120, 40, 'random', 1)"
      ]
    },
    {
      "cell_type": "code",
      "execution_count": null,
      "metadata": {
        "id": "kwcL5XhYUpbR"
      },
      "outputs": [],
      "source": [
        "splitnotMNIST(120, 40, 'centre', 1)"
      ]
    }
  ],
  "metadata": {
    "accelerator": "GPU",
    "colab": {
      "gpuType": "T4",
      "provenance": []
    },
    "kernelspec": {
      "display_name": "Python 3",
      "name": "python3"
    },
    "language_info": {
      "name": "python"
    }
  },
  "nbformat": 4,
  "nbformat_minor": 0
}